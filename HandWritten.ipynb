{
  "nbformat": 4,
  "nbformat_minor": 0,
  "metadata": {
    "colab": {
      "name": "HandWritten.ipynb",
      "provenance": [],
      "include_colab_link": true
    },
    "kernelspec": {
      "name": "python3",
      "display_name": "Python 3"
    },
    "language_info": {
      "name": "python"
    }
  },
  "cells": [
    {
      "cell_type": "markdown",
      "metadata": {
        "id": "view-in-github",
        "colab_type": "text"
      },
      "source": [
        "<a href=\"https://colab.research.google.com/github/arsh919293/arsh919293/blob/main/HandWritten.ipynb\" target=\"_parent\"><img src=\"https://colab.research.google.com/assets/colab-badge.svg\" alt=\"Open In Colab\"/></a>"
      ]
    },
    {
      "cell_type": "markdown",
      "metadata": {
        "id": "pYNA8Cryvv70"
      },
      "source": [
        "# **Handwritten Math Equation Solver**\n",
        "\n",
        "### **Lambton College**\n",
        "\n",
        "\n"
      ]
    },
    {
      "cell_type": "code",
      "metadata": {
        "id": "mLjkGwYPuOGW"
      },
      "source": [
        "import numpy as np\n",
        "import matplotlib.pyplot as plt\n",
        "import zipfile\n",
        "import os\n",
        "import pandas as pd\n",
        "import cv2\n",
        "\n",
        "from PIL import Image\n",
        "from os import listdir\n",
        "from os.path import isfile, join\n",
        "import urllib.request\n",
        "\n",
        "from keras.datasets import mnist\n",
        "from keras.optimizers import Adam\n",
        "from keras.models import Sequential\n",
        "from keras.layers import Dense\n",
        "from keras.layers import Conv2D\n",
        "from keras.layers import Flatten\n",
        "from keras.layers import MaxPool2D\n",
        "from keras.layers import Dropout\n",
        "\n",
        "from sklearn.model_selection import train_test_split"
      ],
      "execution_count": null,
      "outputs": []
    },
    {
      "cell_type": "markdown",
      "metadata": {
        "id": "otNWeh4Yutrb"
      },
      "source": [
        "# Configuration"
      ]
    },
    {
      "cell_type": "code",
      "metadata": {
        "id": "J9utUiw-uYdt"
      },
      "source": [
        "# Seed for reproducibility\n",
        "np.random.seed(9000)\n",
        "\n",
        "# Constants\n",
        "DATA_URL = 'https://adv-python-data.s3.sa-east-1.amazonaws.com/train_final.csv.zip'\n",
        "OPERATIONS_IMAGES = 'https://adv-python-data.s3.sa-east-1.amazonaws.com/operations.zip'"
      ],
      "execution_count": null,
      "outputs": []
    },
    {
      "cell_type": "markdown",
      "metadata": {
        "id": "B8eY2DZovgJO"
      },
      "source": [
        "# Collect Data"
      ]
    },
    {
      "cell_type": "code",
      "metadata": {
        "id": "dxxfGpZF6Nk8"
      },
      "source": [
        "def unzip_file(url:str, zip_name:str,):\n",
        "  urllib.request.urlretrieve(url, zip_name)\n",
        "  zip_file = zipfile.ZipFile(zip_name)\n",
        "  zip_file.extractall('.')\n",
        "\n",
        "def read_zip_csv_from_url(url:str, zip_name:str, csv_name:str, encoding=None):\n",
        "  urllib.request.urlretrieve(url, zip_name)\n",
        "  zip_file = zipfile.ZipFile(zip_name)\n",
        "  return pd.read_csv(zip_file.open(csv_name), encoding=encoding)"
      ],
      "execution_count": null,
      "outputs": []
    },
    {
      "cell_type": "code",
      "metadata": {
        "id": "KsUF9rwZFtd5"
      },
      "source": [
        "unzip_file(OPERATIONS_IMAGES, 'operations.zip')"
      ],
      "execution_count": null,
      "outputs": []
    },
    {
      "cell_type": "code",
      "metadata": {
        "id": "zzJP5LlwEMiU"
      },
      "source": [
        "x_data = read_zip_csv_from_url(DATA_URL, 'train_final.csv.zip', 'train_final.csv')\n",
        "y_data = x_data[['784']]"
      ],
      "execution_count": null,
      "outputs": []
    },
    {
      "cell_type": "code",
      "metadata": {
        "colab": {
          "base_uri": "https://localhost:8080/",
          "height": 247
        },
        "id": "PP7XsuA0ETK-",
        "outputId": "ae4636af-8326-48aa-c9f7-1a294580abf3"
      },
      "source": [
        "x_data.drop(x_data.columns[[784]],axis=1,inplace=True)\n",
        "x_data.head()"
      ],
      "execution_count": null,
      "outputs": [
        {
          "output_type": "execute_result",
          "data": {
            "text/html": [
              "<div>\n",
              "<style scoped>\n",
              "    .dataframe tbody tr th:only-of-type {\n",
              "        vertical-align: middle;\n",
              "    }\n",
              "\n",
              "    .dataframe tbody tr th {\n",
              "        vertical-align: top;\n",
              "    }\n",
              "\n",
              "    .dataframe thead th {\n",
              "        text-align: right;\n",
              "    }\n",
              "</style>\n",
              "<table border=\"1\" class=\"dataframe\">\n",
              "  <thead>\n",
              "    <tr style=\"text-align: right;\">\n",
              "      <th></th>\n",
              "      <th>0</th>\n",
              "      <th>1</th>\n",
              "      <th>2</th>\n",
              "      <th>3</th>\n",
              "      <th>4</th>\n",
              "      <th>5</th>\n",
              "      <th>6</th>\n",
              "      <th>7</th>\n",
              "      <th>8</th>\n",
              "      <th>9</th>\n",
              "      <th>10</th>\n",
              "      <th>11</th>\n",
              "      <th>12</th>\n",
              "      <th>13</th>\n",
              "      <th>14</th>\n",
              "      <th>15</th>\n",
              "      <th>16</th>\n",
              "      <th>17</th>\n",
              "      <th>18</th>\n",
              "      <th>19</th>\n",
              "      <th>20</th>\n",
              "      <th>21</th>\n",
              "      <th>22</th>\n",
              "      <th>23</th>\n",
              "      <th>24</th>\n",
              "      <th>25</th>\n",
              "      <th>26</th>\n",
              "      <th>27</th>\n",
              "      <th>28</th>\n",
              "      <th>29</th>\n",
              "      <th>30</th>\n",
              "      <th>31</th>\n",
              "      <th>32</th>\n",
              "      <th>33</th>\n",
              "      <th>34</th>\n",
              "      <th>35</th>\n",
              "      <th>36</th>\n",
              "      <th>37</th>\n",
              "      <th>38</th>\n",
              "      <th>39</th>\n",
              "      <th>...</th>\n",
              "      <th>744</th>\n",
              "      <th>745</th>\n",
              "      <th>746</th>\n",
              "      <th>747</th>\n",
              "      <th>748</th>\n",
              "      <th>749</th>\n",
              "      <th>750</th>\n",
              "      <th>751</th>\n",
              "      <th>752</th>\n",
              "      <th>753</th>\n",
              "      <th>754</th>\n",
              "      <th>755</th>\n",
              "      <th>756</th>\n",
              "      <th>757</th>\n",
              "      <th>758</th>\n",
              "      <th>759</th>\n",
              "      <th>760</th>\n",
              "      <th>761</th>\n",
              "      <th>762</th>\n",
              "      <th>763</th>\n",
              "      <th>764</th>\n",
              "      <th>765</th>\n",
              "      <th>766</th>\n",
              "      <th>767</th>\n",
              "      <th>768</th>\n",
              "      <th>769</th>\n",
              "      <th>770</th>\n",
              "      <th>771</th>\n",
              "      <th>772</th>\n",
              "      <th>773</th>\n",
              "      <th>774</th>\n",
              "      <th>775</th>\n",
              "      <th>776</th>\n",
              "      <th>777</th>\n",
              "      <th>778</th>\n",
              "      <th>779</th>\n",
              "      <th>780</th>\n",
              "      <th>781</th>\n",
              "      <th>782</th>\n",
              "      <th>783</th>\n",
              "    </tr>\n",
              "  </thead>\n",
              "  <tbody>\n",
              "    <tr>\n",
              "      <th>0</th>\n",
              "      <td>255</td>\n",
              "      <td>255</td>\n",
              "      <td>255</td>\n",
              "      <td>255</td>\n",
              "      <td>255</td>\n",
              "      <td>255</td>\n",
              "      <td>255</td>\n",
              "      <td>255</td>\n",
              "      <td>255</td>\n",
              "      <td>255</td>\n",
              "      <td>255</td>\n",
              "      <td>255</td>\n",
              "      <td>255</td>\n",
              "      <td>255</td>\n",
              "      <td>255</td>\n",
              "      <td>255</td>\n",
              "      <td>255</td>\n",
              "      <td>255</td>\n",
              "      <td>255</td>\n",
              "      <td>255</td>\n",
              "      <td>255</td>\n",
              "      <td>255</td>\n",
              "      <td>255</td>\n",
              "      <td>255</td>\n",
              "      <td>255</td>\n",
              "      <td>255</td>\n",
              "      <td>232</td>\n",
              "      <td>0</td>\n",
              "      <td>219</td>\n",
              "      <td>219</td>\n",
              "      <td>219</td>\n",
              "      <td>219</td>\n",
              "      <td>219</td>\n",
              "      <td>219</td>\n",
              "      <td>219</td>\n",
              "      <td>219</td>\n",
              "      <td>219</td>\n",
              "      <td>219</td>\n",
              "      <td>219</td>\n",
              "      <td>219</td>\n",
              "      <td>...</td>\n",
              "      <td>0</td>\n",
              "      <td>0</td>\n",
              "      <td>0</td>\n",
              "      <td>0</td>\n",
              "      <td>0</td>\n",
              "      <td>0</td>\n",
              "      <td>0</td>\n",
              "      <td>0</td>\n",
              "      <td>0</td>\n",
              "      <td>0</td>\n",
              "      <td>0</td>\n",
              "      <td>0</td>\n",
              "      <td>0</td>\n",
              "      <td>0</td>\n",
              "      <td>0</td>\n",
              "      <td>0</td>\n",
              "      <td>0</td>\n",
              "      <td>0</td>\n",
              "      <td>0</td>\n",
              "      <td>0</td>\n",
              "      <td>0</td>\n",
              "      <td>0</td>\n",
              "      <td>0</td>\n",
              "      <td>0</td>\n",
              "      <td>0</td>\n",
              "      <td>0</td>\n",
              "      <td>0</td>\n",
              "      <td>0</td>\n",
              "      <td>0</td>\n",
              "      <td>0</td>\n",
              "      <td>0</td>\n",
              "      <td>0</td>\n",
              "      <td>0</td>\n",
              "      <td>0</td>\n",
              "      <td>0</td>\n",
              "      <td>0</td>\n",
              "      <td>0</td>\n",
              "      <td>0</td>\n",
              "      <td>0</td>\n",
              "      <td>0</td>\n",
              "    </tr>\n",
              "    <tr>\n",
              "      <th>1</th>\n",
              "      <td>77</td>\n",
              "      <td>23</td>\n",
              "      <td>0</td>\n",
              "      <td>0</td>\n",
              "      <td>0</td>\n",
              "      <td>0</td>\n",
              "      <td>0</td>\n",
              "      <td>0</td>\n",
              "      <td>0</td>\n",
              "      <td>0</td>\n",
              "      <td>0</td>\n",
              "      <td>0</td>\n",
              "      <td>0</td>\n",
              "      <td>0</td>\n",
              "      <td>0</td>\n",
              "      <td>0</td>\n",
              "      <td>0</td>\n",
              "      <td>0</td>\n",
              "      <td>0</td>\n",
              "      <td>0</td>\n",
              "      <td>0</td>\n",
              "      <td>0</td>\n",
              "      <td>0</td>\n",
              "      <td>0</td>\n",
              "      <td>0</td>\n",
              "      <td>0</td>\n",
              "      <td>0</td>\n",
              "      <td>0</td>\n",
              "      <td>118</td>\n",
              "      <td>13</td>\n",
              "      <td>0</td>\n",
              "      <td>0</td>\n",
              "      <td>0</td>\n",
              "      <td>0</td>\n",
              "      <td>0</td>\n",
              "      <td>0</td>\n",
              "      <td>0</td>\n",
              "      <td>0</td>\n",
              "      <td>0</td>\n",
              "      <td>0</td>\n",
              "      <td>...</td>\n",
              "      <td>0</td>\n",
              "      <td>0</td>\n",
              "      <td>0</td>\n",
              "      <td>0</td>\n",
              "      <td>0</td>\n",
              "      <td>0</td>\n",
              "      <td>0</td>\n",
              "      <td>0</td>\n",
              "      <td>0</td>\n",
              "      <td>0</td>\n",
              "      <td>0</td>\n",
              "      <td>0</td>\n",
              "      <td>0</td>\n",
              "      <td>0</td>\n",
              "      <td>0</td>\n",
              "      <td>0</td>\n",
              "      <td>0</td>\n",
              "      <td>0</td>\n",
              "      <td>0</td>\n",
              "      <td>0</td>\n",
              "      <td>0</td>\n",
              "      <td>0</td>\n",
              "      <td>0</td>\n",
              "      <td>0</td>\n",
              "      <td>0</td>\n",
              "      <td>0</td>\n",
              "      <td>0</td>\n",
              "      <td>0</td>\n",
              "      <td>0</td>\n",
              "      <td>0</td>\n",
              "      <td>0</td>\n",
              "      <td>0</td>\n",
              "      <td>0</td>\n",
              "      <td>0</td>\n",
              "      <td>0</td>\n",
              "      <td>0</td>\n",
              "      <td>0</td>\n",
              "      <td>0</td>\n",
              "      <td>0</td>\n",
              "      <td>0</td>\n",
              "    </tr>\n",
              "    <tr>\n",
              "      <th>2</th>\n",
              "      <td>177</td>\n",
              "      <td>0</td>\n",
              "      <td>0</td>\n",
              "      <td>0</td>\n",
              "      <td>0</td>\n",
              "      <td>0</td>\n",
              "      <td>0</td>\n",
              "      <td>0</td>\n",
              "      <td>0</td>\n",
              "      <td>0</td>\n",
              "      <td>0</td>\n",
              "      <td>0</td>\n",
              "      <td>0</td>\n",
              "      <td>0</td>\n",
              "      <td>0</td>\n",
              "      <td>0</td>\n",
              "      <td>0</td>\n",
              "      <td>0</td>\n",
              "      <td>0</td>\n",
              "      <td>0</td>\n",
              "      <td>0</td>\n",
              "      <td>0</td>\n",
              "      <td>0</td>\n",
              "      <td>0</td>\n",
              "      <td>0</td>\n",
              "      <td>0</td>\n",
              "      <td>0</td>\n",
              "      <td>0</td>\n",
              "      <td>152</td>\n",
              "      <td>64</td>\n",
              "      <td>31</td>\n",
              "      <td>0</td>\n",
              "      <td>0</td>\n",
              "      <td>0</td>\n",
              "      <td>0</td>\n",
              "      <td>0</td>\n",
              "      <td>0</td>\n",
              "      <td>0</td>\n",
              "      <td>0</td>\n",
              "      <td>0</td>\n",
              "      <td>...</td>\n",
              "      <td>0</td>\n",
              "      <td>0</td>\n",
              "      <td>0</td>\n",
              "      <td>0</td>\n",
              "      <td>0</td>\n",
              "      <td>0</td>\n",
              "      <td>0</td>\n",
              "      <td>0</td>\n",
              "      <td>0</td>\n",
              "      <td>0</td>\n",
              "      <td>0</td>\n",
              "      <td>0</td>\n",
              "      <td>0</td>\n",
              "      <td>0</td>\n",
              "      <td>0</td>\n",
              "      <td>0</td>\n",
              "      <td>0</td>\n",
              "      <td>0</td>\n",
              "      <td>0</td>\n",
              "      <td>0</td>\n",
              "      <td>0</td>\n",
              "      <td>0</td>\n",
              "      <td>0</td>\n",
              "      <td>0</td>\n",
              "      <td>0</td>\n",
              "      <td>0</td>\n",
              "      <td>0</td>\n",
              "      <td>0</td>\n",
              "      <td>0</td>\n",
              "      <td>0</td>\n",
              "      <td>0</td>\n",
              "      <td>0</td>\n",
              "      <td>0</td>\n",
              "      <td>0</td>\n",
              "      <td>0</td>\n",
              "      <td>0</td>\n",
              "      <td>0</td>\n",
              "      <td>0</td>\n",
              "      <td>0</td>\n",
              "      <td>0</td>\n",
              "    </tr>\n",
              "    <tr>\n",
              "      <th>3</th>\n",
              "      <td>0</td>\n",
              "      <td>0</td>\n",
              "      <td>0</td>\n",
              "      <td>0</td>\n",
              "      <td>0</td>\n",
              "      <td>0</td>\n",
              "      <td>0</td>\n",
              "      <td>0</td>\n",
              "      <td>0</td>\n",
              "      <td>0</td>\n",
              "      <td>0</td>\n",
              "      <td>0</td>\n",
              "      <td>0</td>\n",
              "      <td>0</td>\n",
              "      <td>0</td>\n",
              "      <td>0</td>\n",
              "      <td>0</td>\n",
              "      <td>0</td>\n",
              "      <td>0</td>\n",
              "      <td>0</td>\n",
              "      <td>0</td>\n",
              "      <td>0</td>\n",
              "      <td>0</td>\n",
              "      <td>68</td>\n",
              "      <td>255</td>\n",
              "      <td>255</td>\n",
              "      <td>255</td>\n",
              "      <td>255</td>\n",
              "      <td>44</td>\n",
              "      <td>0</td>\n",
              "      <td>0</td>\n",
              "      <td>0</td>\n",
              "      <td>0</td>\n",
              "      <td>0</td>\n",
              "      <td>0</td>\n",
              "      <td>0</td>\n",
              "      <td>0</td>\n",
              "      <td>0</td>\n",
              "      <td>0</td>\n",
              "      <td>0</td>\n",
              "      <td>...</td>\n",
              "      <td>0</td>\n",
              "      <td>0</td>\n",
              "      <td>0</td>\n",
              "      <td>0</td>\n",
              "      <td>0</td>\n",
              "      <td>0</td>\n",
              "      <td>0</td>\n",
              "      <td>0</td>\n",
              "      <td>0</td>\n",
              "      <td>0</td>\n",
              "      <td>0</td>\n",
              "      <td>0</td>\n",
              "      <td>0</td>\n",
              "      <td>0</td>\n",
              "      <td>0</td>\n",
              "      <td>0</td>\n",
              "      <td>0</td>\n",
              "      <td>0</td>\n",
              "      <td>0</td>\n",
              "      <td>0</td>\n",
              "      <td>0</td>\n",
              "      <td>0</td>\n",
              "      <td>0</td>\n",
              "      <td>0</td>\n",
              "      <td>0</td>\n",
              "      <td>0</td>\n",
              "      <td>0</td>\n",
              "      <td>0</td>\n",
              "      <td>0</td>\n",
              "      <td>0</td>\n",
              "      <td>0</td>\n",
              "      <td>0</td>\n",
              "      <td>0</td>\n",
              "      <td>0</td>\n",
              "      <td>0</td>\n",
              "      <td>0</td>\n",
              "      <td>0</td>\n",
              "      <td>0</td>\n",
              "      <td>0</td>\n",
              "      <td>0</td>\n",
              "    </tr>\n",
              "    <tr>\n",
              "      <th>4</th>\n",
              "      <td>255</td>\n",
              "      <td>255</td>\n",
              "      <td>255</td>\n",
              "      <td>255</td>\n",
              "      <td>255</td>\n",
              "      <td>255</td>\n",
              "      <td>255</td>\n",
              "      <td>255</td>\n",
              "      <td>255</td>\n",
              "      <td>255</td>\n",
              "      <td>255</td>\n",
              "      <td>255</td>\n",
              "      <td>255</td>\n",
              "      <td>255</td>\n",
              "      <td>255</td>\n",
              "      <td>255</td>\n",
              "      <td>255</td>\n",
              "      <td>255</td>\n",
              "      <td>255</td>\n",
              "      <td>255</td>\n",
              "      <td>255</td>\n",
              "      <td>255</td>\n",
              "      <td>86</td>\n",
              "      <td>0</td>\n",
              "      <td>0</td>\n",
              "      <td>0</td>\n",
              "      <td>0</td>\n",
              "      <td>0</td>\n",
              "      <td>219</td>\n",
              "      <td>219</td>\n",
              "      <td>219</td>\n",
              "      <td>219</td>\n",
              "      <td>219</td>\n",
              "      <td>219</td>\n",
              "      <td>219</td>\n",
              "      <td>219</td>\n",
              "      <td>219</td>\n",
              "      <td>219</td>\n",
              "      <td>219</td>\n",
              "      <td>219</td>\n",
              "      <td>...</td>\n",
              "      <td>0</td>\n",
              "      <td>0</td>\n",
              "      <td>0</td>\n",
              "      <td>0</td>\n",
              "      <td>0</td>\n",
              "      <td>0</td>\n",
              "      <td>0</td>\n",
              "      <td>0</td>\n",
              "      <td>0</td>\n",
              "      <td>0</td>\n",
              "      <td>0</td>\n",
              "      <td>0</td>\n",
              "      <td>0</td>\n",
              "      <td>0</td>\n",
              "      <td>0</td>\n",
              "      <td>0</td>\n",
              "      <td>0</td>\n",
              "      <td>0</td>\n",
              "      <td>0</td>\n",
              "      <td>0</td>\n",
              "      <td>0</td>\n",
              "      <td>0</td>\n",
              "      <td>0</td>\n",
              "      <td>0</td>\n",
              "      <td>0</td>\n",
              "      <td>0</td>\n",
              "      <td>0</td>\n",
              "      <td>0</td>\n",
              "      <td>0</td>\n",
              "      <td>0</td>\n",
              "      <td>0</td>\n",
              "      <td>0</td>\n",
              "      <td>0</td>\n",
              "      <td>0</td>\n",
              "      <td>0</td>\n",
              "      <td>0</td>\n",
              "      <td>0</td>\n",
              "      <td>0</td>\n",
              "      <td>0</td>\n",
              "      <td>0</td>\n",
              "    </tr>\n",
              "  </tbody>\n",
              "</table>\n",
              "<p>5 rows × 784 columns</p>\n",
              "</div>"
            ],
            "text/plain": [
              "     0    1    2    3    4    5    6  ...  777  778  779  780  781  782  783\n",
              "0  255  255  255  255  255  255  255  ...    0    0    0    0    0    0    0\n",
              "1   77   23    0    0    0    0    0  ...    0    0    0    0    0    0    0\n",
              "2  177    0    0    0    0    0    0  ...    0    0    0    0    0    0    0\n",
              "3    0    0    0    0    0    0    0  ...    0    0    0    0    0    0    0\n",
              "4  255  255  255  255  255  255  255  ...    0    0    0    0    0    0    0\n",
              "\n",
              "[5 rows x 784 columns]"
            ]
          },
          "metadata": {
            "tags": []
          },
          "execution_count": 6
        }
      ]
    },
    {
      "cell_type": "code",
      "metadata": {
        "colab": {
          "base_uri": "https://localhost:8080/"
        },
        "id": "aiO70oE2EdnI",
        "outputId": "a4d9ba66-005f-4e1a-e5bc-620307f87d49"
      },
      "source": [
        "y_data = np.array(y_data).reshape(len(y_data))\n",
        "x_data.shape"
      ],
      "execution_count": null,
      "outputs": [
        {
          "output_type": "execute_result",
          "data": {
            "text/plain": [
              "(47504, 784)"
            ]
          },
          "metadata": {
            "tags": []
          },
          "execution_count": 7
        }
      ]
    },
    {
      "cell_type": "code",
      "metadata": {
        "id": "r1h1hlc7ElrV"
      },
      "source": [
        "data_reshaped = []\n",
        "for i in range(len(x_data)):\n",
        "    data_reshaped.append(np.array(x_data[i:i+1]).reshape(28,28))"
      ],
      "execution_count": null,
      "outputs": []
    },
    {
      "cell_type": "code",
      "metadata": {
        "colab": {
          "base_uri": "https://localhost:8080/"
        },
        "id": "qKKoLD6PEyom",
        "outputId": "16527fad-8c01-466c-888b-57972db1704b"
      },
      "source": [
        "x_data = np.array(data_reshaped)\n",
        "x_data.shape"
      ],
      "execution_count": null,
      "outputs": [
        {
          "output_type": "execute_result",
          "data": {
            "text/plain": [
              "(47504, 28, 28)"
            ]
          },
          "metadata": {
            "tags": []
          },
          "execution_count": 9
        }
      ]
    },
    {
      "cell_type": "code",
      "metadata": {
        "colab": {
          "base_uri": "https://localhost:8080/"
        },
        "id": "INieeWzwFnTM",
        "outputId": "50c6d576-5913-4bfd-e44f-1362378c2530"
      },
      "source": [
        "print(y_data.shape)\n",
        "print(np.unique(y_data))"
      ],
      "execution_count": null,
      "outputs": [
        {
          "output_type": "stream",
          "text": [
            "(47504,)\n",
            "[ 0  1  2  3  4  5  6  7  8  9 10 11 12]\n"
          ],
          "name": "stdout"
        }
      ]
    },
    {
      "cell_type": "code",
      "metadata": {
        "id": "ml1cqGT_pl8h"
      },
      "source": [
        "X_train, X_test, y_train, y_test = train_test_split(x_data, y_data, test_size=0.33, random_state=42)"
      ],
      "execution_count": null,
      "outputs": []
    },
    {
      "cell_type": "code",
      "metadata": {
        "colab": {
          "base_uri": "https://localhost:8080/"
        },
        "id": "k2ownky4vubk",
        "outputId": "76cc03eb-ae5a-47a4-b308-c7d777230884"
      },
      "source": [
        "print('Size of the training_set: ', X_train.shape)\n",
        "print('Size of the labels: ', y_train.shape)\n",
        "print('Size of the test_set: ', X_test.shape)\n",
        "print('Shape of each image: ', X_train[0].shape)\n",
        "print('Total number of classes: ', len(np.unique(y_train)))\n",
        "print('Unique class labels: ', np.unique(y_train))"
      ],
      "execution_count": null,
      "outputs": [
        {
          "output_type": "stream",
          "text": [
            "Size of the training_set:  (31827, 28, 28)\n",
            "Size of the labels:  (31827,)\n",
            "Size of the test_set:  (15677, 28, 28)\n",
            "Shape of each image:  (28, 28)\n",
            "Total number of classes:  13\n",
            "Unique class labels:  [ 0  1  2  3  4  5  6  7  8  9 10 11 12]\n"
          ],
          "name": "stdout"
        }
      ]
    },
    {
      "cell_type": "code",
      "metadata": {
        "colab": {
          "base_uri": "https://localhost:8080/",
          "height": 280
        },
        "id": "gieZGX4txU3D",
        "outputId": "d5e22de0-308d-4f57-a034-2885a6968140"
      },
      "source": [
        "for i in range(0, 11):\n",
        "    try:\n",
        "      plt.subplot(331+i) # plot of 3 rows and 3 columns\n",
        "      plt.axis('off') # turn off axis\n",
        "      plt.imshow(X_train[i], cmap='gray') # gray scale\n",
        "    except:\n",
        "      print(f'Error: {i}\\n')"
      ],
      "execution_count": null,
      "outputs": [
        {
          "output_type": "stream",
          "text": [
            "Error: 9\n",
            "\n"
          ],
          "name": "stdout"
        },
        {
          "output_type": "display_data",
          "data": {
            "image/png": "[encoded data removed]",
            "text/plain": [
              "<Figure size 432x288 with 9 Axes>"
            ]
          },
          "metadata": {
            "tags": [],
            "needs_background": "light"
          }
        }
      ]
    },
    {
      "cell_type": "code",
      "metadata": {
        "id": "sp4lJQ6BLIgm"
      },
      "source": [
        "# Create train and validation data\n",
        "X_train, X_val, y_train, y_val = train_test_split(X_train, y_train, stratify = y_train, test_size = 0.08333, random_state=42)"
      ],
      "execution_count": null,
      "outputs": []
    },
    {
      "cell_type": "markdown",
      "metadata": {
        "id": "BizwWaMZyWQc"
      },
      "source": [
        "# Hyperparameters configurations"
      ]
    },
    {
      "cell_type": "code",
      "metadata": {
        "colab": {
          "base_uri": "https://localhost:8080/"
        },
        "id": "KAaYtt0ZybQR",
        "outputId": "f62d79ed-a168-4c01-b04c-8fcd2eeca869"
      },
      "source": [
        "epochs = 12\n",
        "batch_size = 128\n",
        "input_shape = (28,28,1)\n",
        "optimizer = Adam(lr=0.0001)"
      ],
      "execution_count": null,
      "outputs": [
        {
          "output_type": "stream",
          "text": [
            "/usr/local/lib/python3.7/dist-packages/tensorflow/python/keras/optimizer_v2/optimizer_v2.py:375: UserWarning: The `lr` argument is deprecated, use `learning_rate` instead.\n",
            "  \"The `lr` argument is deprecated, use `learning_rate` instead.\")\n"
          ],
          "name": "stderr"
        }
      ]
    },
    {
      "cell_type": "code",
      "metadata": {
        "id": "nn9mxIfx-WSl"
      },
      "source": [
        "class ModelEvaluator:\n",
        "  \n",
        "  @classmethod\n",
        "  def loss_and_accuracy(cls, model, X_test, y_test):\n",
        "    loss, acc = model.evaluate(X_test, y_test)\n",
        "    print('Test loss:', loss)\n",
        "    print('Accuracy:', acc)\n",
        "  \n",
        "  @classmethod\n",
        "  def loss_plot(cls, model_history, epochs):\n",
        "    train_acc = model_history.history['accuracy']\n",
        "    val_acc = model_history.history['val_accuracy']\n",
        "    \n",
        "    plt.figure(figsize=(9,5))\n",
        "    plt.plot(np.arange(1,epochs+1),train_acc, marker = 'D', label = 'Training Accuracy')\n",
        "    plt.plot(np.arange(1,epochs+1),val_acc, marker = 'o', label = 'Validation Accuracy')\n",
        "    plt.xlabel('Epochs')\n",
        "    plt.ylabel('Accuracy')\n",
        "    plt.title('Train/Validation Accuracy')\n",
        "    plt.legend()\n",
        "    plt.margins(0.02)\n",
        "    plt.show()\n",
        "\n",
        "    train_loss = model_history.history['loss']\n",
        "    val_loss = model_history.history['val_loss']\n",
        "\n",
        "    plt.figure(figsize=(9,5))\n",
        "    plt.plot(np.arange(1,epochs+1),train_loss, marker = 'D', label = 'Training Loss')\n",
        "    plt.plot(np.arange(1,epochs+1),val_loss, marker = 'o', label = 'Validation Loss')\n",
        "    plt.xlabel('Epochs')\n",
        "    plt.ylabel('Loss')\n",
        "    plt.title('Train/Validation Loss')\n",
        "    plt.legend()\n",
        "    plt.margins(0.02)\n",
        "    plt.show()\n"
      ],
      "execution_count": null,
      "outputs": []
    },
    {
      "cell_type": "markdown",
      "metadata": {
        "id": "OY1QAI8g1yoW"
      },
      "source": [
        "# Simple Neural Network"
      ]
    },
    {
      "cell_type": "code",
      "metadata": {
        "id": "60gpoeFry4CW"
      },
      "source": [
        "class SimpleNeuralNetwork:\n",
        "  def __init__(self, shape, epochs, batch_size):\n",
        "    self.model = None\n",
        "    self.history = None\n",
        "    self.shape = shape\n",
        "    self.epochs = epochs\n",
        "    self.batch_size = batch_size\n",
        "\n",
        "  def compile(self):\n",
        "    self.model = Sequential()\n",
        "    self.model.add(Dense(300, input_shape=(784, ), activation='relu'))\n",
        "    self.model.add(Dense(300, activation='relu'))\n",
        "    self.model.add(Dense(13, activation='softmax'))\n",
        "    self.model.compile(loss='sparse_categorical_crossentropy', optimizer=optimizer, metrics=['accuracy'])\n",
        "    print(self.model.summary())\n",
        "\n",
        "  def fit(self, X_train, y_train, X_val, y_val):\n",
        "    history = self.model.fit(X_train, y_train, epochs=self.epochs, batch_size=self.batch_size, validation_data=(X_val, y_val))\n",
        "    self.history = history    "
      ],
      "execution_count": null,
      "outputs": []
    },
    {
      "cell_type": "code",
      "metadata": {
        "colab": {
          "base_uri": "https://localhost:8080/"
        },
        "id": "jUTD6YpwQjPs",
        "outputId": "5d5fae36-05fb-44e9-91c4-a645bf074646"
      },
      "source": [
        "X_train_s = X_train.reshape(-1, 784)\n",
        "X_val_s = X_val.reshape(-1, 784)\n",
        "X_test_s = X_test.reshape(-1, 784)\n",
        "\n",
        "print('Training Examples', X_train_s.shape[0])\n",
        "print('Validation Examples', X_val_s.shape[0])\n",
        "print('Test Examples', X_test_s.shape[0])\n",
        "\n",
        "simple_model = SimpleNeuralNetwork(input_shape, epochs, batch_size)\n",
        "simple_model.compile()\n",
        "simple_model.fit(X_train_s, y_train, X_val_s, y_val)"
      ],
      "execution_count": null,
      "outputs": [
        {
          "output_type": "stream",
          "text": [
            "Training Examples 29174\n",
            "Validation Examples 2653\n",
            "Test Examples 15677\n",
            "Model: \"sequential\"\n",
            "_________________________________________________________________\n",
            "Layer (type)                 Output Shape              Param #   \n",
            "=================================================================\n",
            "dense (Dense)                (None, 300)               235500    \n",
            "_________________________________________________________________\n",
            "dense_1 (Dense)              (None, 300)               90300     \n",
            "_________________________________________________________________\n",
            "dense_2 (Dense)              (None, 13)                3913      \n",
            "=================================================================\n",
            "Total params: 329,713\n",
            "Trainable params: 329,713\n",
            "Non-trainable params: 0\n",
            "_________________________________________________________________\n",
            "None\n",
            "Epoch 1/12\n",
            "228/228 [==============================] - 20s 13ms/step - loss: 25.1334 - accuracy: 0.3441 - val_loss: 5.5301 - val_accuracy: 0.6709\n",
            "Epoch 2/12\n",
            "228/228 [==============================] - 2s 10ms/step - loss: 3.7351 - accuracy: 0.7578 - val_loss: 2.7518 - val_accuracy: 0.8157\n",
            "Epoch 3/12\n",
            "228/228 [==============================] - 2s 10ms/step - loss: 1.3602 - accuracy: 0.8820 - val_loss: 1.8853 - val_accuracy: 0.8658\n",
            "Epoch 4/12\n",
            "228/228 [==============================] - 2s 9ms/step - loss: 0.6517 - accuracy: 0.9402 - val_loss: 1.4560 - val_accuracy: 0.8930\n",
            "Epoch 5/12\n",
            "228/228 [==============================] - 2s 9ms/step - loss: 0.2860 - accuracy: 0.9725 - val_loss: 1.2737 - val_accuracy: 0.9114\n",
            "Epoch 6/12\n",
            "228/228 [==============================] - 2s 9ms/step - loss: 0.1265 - accuracy: 0.9863 - val_loss: 1.1820 - val_accuracy: 0.9190\n",
            "Epoch 7/12\n",
            "228/228 [==============================] - 2s 10ms/step - loss: 0.0518 - accuracy: 0.9939 - val_loss: 1.1203 - val_accuracy: 0.9208\n",
            "Epoch 8/12\n",
            "228/228 [==============================] - 2s 9ms/step - loss: 0.0261 - accuracy: 0.9975 - val_loss: 1.1067 - val_accuracy: 0.9242\n",
            "Epoch 9/12\n",
            "228/228 [==============================] - 2s 9ms/step - loss: 0.0074 - accuracy: 0.9995 - val_loss: 1.0952 - val_accuracy: 0.9254\n",
            "Epoch 10/12\n",
            "228/228 [==============================] - 2s 9ms/step - loss: 0.0035 - accuracy: 0.9999 - val_loss: 1.0938 - val_accuracy: 0.9254\n",
            "Epoch 11/12\n",
            "228/228 [==============================] - 2s 9ms/step - loss: 0.0043 - accuracy: 0.9999 - val_loss: 1.0907 - val_accuracy: 0.9276\n",
            "Epoch 12/12\n",
            "228/228 [==============================] - 2s 9ms/step - loss: 0.0019 - accuracy: 1.0000 - val_loss: 1.0913 - val_accuracy: 0.9269\n"
          ],
          "name": "stdout"
        }
      ]
    },
    {
      "cell_type": "code",
      "metadata": {
        "colab": {
          "base_uri": "https://localhost:8080/",
          "height": 731
        },
        "id": "9JUjFuSpFkWn",
        "outputId": "11294702-496b-49ae-d42d-a7fa7bf21cd1"
      },
      "source": [
        "ModelEvaluator.loss_and_accuracy(simple_model.model, X_test_s, y_test)\n",
        "ModelEvaluator.loss_plot(simple_model.history, epochs)"
      ],
      "execution_count": null,
      "outputs": [
        {
          "output_type": "stream",
          "text": [
            "490/490 [==============================] - 1s 2ms/step - loss: 1.0493 - accuracy: 0.9321\n",
            "Test loss: 1.0493019819259644\n",
            "Accuracy: 0.9321298599243164\n"
          ],
          "name": "stdout"
        },
        {
          "output_type": "display_data",
          "data": {
            "image/png": "[encoded data removed]",
            "text/plain": [
              "<Figure size 648x360 with 1 Axes>"
            ]
          },
          "metadata": {
            "tags": [],
            "needs_background": "light"
          }
        },
        {
          "output_type": "display_data",
          "data": {
            "image/png": "[encoded data removed]",
            "text/plain": [
              "<Figure size 648x360 with 1 Axes>"
            ]
          },
          "metadata": {
            "tags": [],
            "needs_background": "light"
          }
        }
      ]
    },
    {
      "cell_type": "markdown",
      "metadata": {
        "id": "U-6C1EC4CkDX"
      },
      "source": [
        "# Convolutional model"
      ]
    },
    {
      "cell_type": "code",
      "metadata": {
        "colab": {
          "base_uri": "https://localhost:8080/"
        },
        "id": "iBMHmJPdCnZP",
        "outputId": "9c9abb71-555c-4d8b-fb7a-f2c099223237"
      },
      "source": [
        "# reshape data \n",
        "X_train = X_train.reshape(-1,28,28,1)\n",
        "X_val = X_val.reshape(-1,28,28,1)\n",
        "X_test = X_test.reshape(-1,28,28,1)\n",
        "\n",
        "print('Train data shape:', X_train.shape)\n",
        "print('Val data shape:', X_val.shape)\n",
        "print('Test data shape:', X_test.shape)"
      ],
      "execution_count": null,
      "outputs": [
        {
          "output_type": "stream",
          "text": [
            "Train data shape: (29174, 28, 28, 1)\n",
            "Val data shape: (2653, 28, 28, 1)\n",
            "Test data shape: (15677, 28, 28, 1)\n"
          ],
          "name": "stdout"
        }
      ]
    },
    {
      "cell_type": "code",
      "metadata": {
        "id": "ohvXoZYPG4oB"
      },
      "source": [
        "class ConvolutioanlModel:\n",
        "  def __init__(self, shape, epochs, batch_size):\n",
        "    self.model = None\n",
        "    self.history = None\n",
        "    self.shape = shape\n",
        "    self.epochs = epochs\n",
        "    self.batch_size = batch_size\n",
        "\n",
        "  def compile(self):\n",
        "    self.model = Sequential()\n",
        "    self.model.add(Conv2D(32, kernel_size=(3,3), input_shape=input_shape, activation='relu'))\n",
        "    self.model.add(Flatten())\n",
        "    self.model.add(Dense(128, activation='relu'))\n",
        "    self.model.add(Dense(128, activation='softmax'))\n",
        "    self.model.compile(loss='sparse_categorical_crossentropy', optimizer=optimizer, metrics=['accuracy'])\n",
        "    print(self.model.summary())\n",
        "\n",
        "  def fit(self, X_train, y_train, X_val, y_val):\n",
        "    history = self.model.fit(X_train, y_train, epochs = self.epochs, batch_size=self.batch_size, validation_data=(X_val, y_val))\n",
        "    self.history = history    "
      ],
      "execution_count": null,
      "outputs": []
    },
    {
      "cell_type": "code",
      "metadata": {
        "colab": {
          "base_uri": "https://localhost:8080/"
        },
        "id": "OPDVLoA1H5xH",
        "outputId": "b2bcb195-065f-46ed-e50f-d38c0832b353"
      },
      "source": [
        "convolutional_model = ConvolutioanlModel(input_shape, epochs, batch_size)\n",
        "convolutional_model.compile()\n",
        "convolutional_model.fit(X_train, y_train, X_val, y_val)"
      ],
      "execution_count": null,
      "outputs": [
        {
          "output_type": "stream",
          "text": [
            "Model: \"sequential_1\"\n",
            "_________________________________________________________________\n",
            "Layer (type)                 Output Shape              Param #   \n",
            "=================================================================\n",
            "conv2d (Conv2D)              (None, 26, 26, 32)        320       \n",
            "_________________________________________________________________\n",
            "flatten (Flatten)            (None, 21632)             0         \n",
            "_________________________________________________________________\n",
            "dense_3 (Dense)              (None, 128)               2769024   \n",
            "_________________________________________________________________\n",
            "dense_4 (Dense)              (None, 128)               16512     \n",
            "=================================================================\n",
            "Total params: 2,785,856\n",
            "Trainable params: 2,785,856\n",
            "Non-trainable params: 0\n",
            "_________________________________________________________________\n",
            "None\n",
            "Epoch 1/12\n",
            "228/228 [==============================] - 24s 96ms/step - loss: 2.2327 - accuracy: 0.7382 - val_loss: 0.2087 - val_accuracy: 0.9446\n",
            "Epoch 2/12\n",
            "228/228 [==============================] - 23s 99ms/step - loss: 0.0929 - accuracy: 0.9765 - val_loss: 0.1435 - val_accuracy: 0.9683\n",
            "Epoch 3/12\n",
            "228/228 [==============================] - 23s 99ms/step - loss: 0.0303 - accuracy: 0.9930 - val_loss: 0.1247 - val_accuracy: 0.9714\n",
            "Epoch 4/12\n",
            "228/228 [==============================] - 23s 101ms/step - loss: 0.0137 - accuracy: 0.9979 - val_loss: 0.1168 - val_accuracy: 0.9751\n",
            "Epoch 5/12\n",
            "228/228 [==============================] - 23s 101ms/step - loss: 0.0101 - accuracy: 0.9990 - val_loss: 0.1159 - val_accuracy: 0.9759\n",
            "Epoch 6/12\n",
            "228/228 [==============================] - 23s 101ms/step - loss: 0.0043 - accuracy: 0.9997 - val_loss: 0.1168 - val_accuracy: 0.9751\n",
            "Epoch 7/12\n",
            "228/228 [==============================] - 23s 100ms/step - loss: 0.0026 - accuracy: 1.0000 - val_loss: 0.1204 - val_accuracy: 0.9755\n",
            "Epoch 8/12\n",
            "228/228 [==============================] - 23s 102ms/step - loss: 0.0025 - accuracy: 0.9999 - val_loss: 0.1192 - val_accuracy: 0.9774\n",
            "Epoch 9/12\n",
            "228/228 [==============================] - 23s 103ms/step - loss: 0.0025 - accuracy: 0.9999 - val_loss: 0.1214 - val_accuracy: 0.9763\n",
            "Epoch 10/12\n",
            "228/228 [==============================] - 23s 102ms/step - loss: 0.0016 - accuracy: 1.0000 - val_loss: 0.1215 - val_accuracy: 0.9770\n",
            "Epoch 11/12\n",
            "228/228 [==============================] - 23s 102ms/step - loss: 0.0012 - accuracy: 1.0000 - val_loss: 0.1218 - val_accuracy: 0.9770\n",
            "Epoch 12/12\n",
            "228/228 [==============================] - 23s 102ms/step - loss: 0.0012 - accuracy: 1.0000 - val_loss: 0.1241 - val_accuracy: 0.9763\n"
          ],
          "name": "stdout"
        }
      ]
    },
    {
      "cell_type": "code",
      "metadata": {
        "colab": {
          "base_uri": "https://localhost:8080/",
          "height": 731
        },
        "id": "xzj2Yja5JuiZ",
        "outputId": "bb66cc48-3276-47f3-a865-913968f04a37"
      },
      "source": [
        "ModelEvaluator.loss_and_accuracy(convolutional_model.model, X_test, y_test)\n",
        "ModelEvaluator.loss_plot(convolutional_model.history, epochs)"
      ],
      "execution_count": null,
      "outputs": [
        {
          "output_type": "stream",
          "text": [
            "490/490 [==============================] - 6s 12ms/step - loss: 0.1183 - accuracy: 0.9786\n",
            "Test loss: 0.11825770139694214\n",
            "Accuracy: 0.9785673022270203\n"
          ],
          "name": "stdout"
        },
        {
          "output_type": "display_data",
          "data": {
            "image/png": "[encoded data removed]",
            "text/plain": [
              "<Figure size 648x360 with 1 Axes>"
            ]
          },
          "metadata": {
            "tags": [],
            "needs_background": "light"
          }
        },
        {
          "output_type": "display_data",
          "data": {
            "image/png": "[encoded data removed]",
            "text/plain": [
              "<Figure size 648x360 with 1 Axes>"
            ]
          },
          "metadata": {
            "tags": [],
            "needs_background": "light"
          }
        }
      ]
    },
    {
      "cell_type": "markdown",
      "metadata": {
        "id": "wcOnkoAyJdB_"
      },
      "source": [
        "# Model with MaxPlooting and Dropout"
      ]
    },
    {
      "cell_type": "code",
      "metadata": {
        "id": "aTxsDYKuI5yT"
      },
      "source": [
        "class ConvolutioanlMaxPlootingModel:\n",
        "  def __init__(self, shape, epochs, batch_size):\n",
        "    self.model = None\n",
        "    self.history = None\n",
        "    self.shape = shape\n",
        "    self.epochs = epochs\n",
        "    self.batch_size = batch_size\n",
        "\n",
        "  def compile(self):\n",
        "    self.model = Sequential()\n",
        "    self.model.add(Conv2D(32, kernel_size=(3,3), input_shape=input_shape, activation = 'relu'))\n",
        "    self.model.add(MaxPool2D(2,2))\n",
        "    self.model.add(Dropout(0.2))\n",
        "    self.model.add(Conv2D(64, kernel_size=(3,3), activation = 'relu'))\n",
        "    self.model.add(MaxPool2D(2,2))\n",
        "    self.model.add(Dropout(0.2))\n",
        "    self.model.add(Conv2D(128, kernel_size=(3,3), activation = 'relu'))\n",
        "    self.model.add(MaxPool2D(2,2))\n",
        "    self.model.add(Dropout(0.2))\n",
        "    self.model.add(Flatten())\n",
        "    self.model.add(Dense(128, activation = 'relu'))\n",
        "    self.model.add(Dropout(0.2))\n",
        "    self.model.add(Dense(13, activation = 'softmax'))\n",
        "    self.model.compile(loss = 'sparse_categorical_crossentropy', optimizer= optimizer, metrics = ['accuracy'])\n",
        "    print(self.model.summary())\n",
        "\n",
        "  def fit(self, X_train, y_train, X_val, y_val):\n",
        "    history = self.model.fit(X_train, y_train, epochs = self.epochs, batch_size=batch_size,validation_data=(X_val, y_val))\n",
        "    self.history = history    "
      ],
      "execution_count": null,
      "outputs": []
    },
    {
      "cell_type": "code",
      "metadata": {
        "colab": {
          "base_uri": "https://localhost:8080/"
        },
        "id": "Ccrt3eDZJZ3V",
        "outputId": "28eeb719-0b8b-4b14-8069-68c744613f27"
      },
      "source": [
        "convolutional_maxplooting_model = ConvolutioanlMaxPlootingModel(input_shape, 20, batch_size)\n",
        "convolutional_maxplooting_model.compile()\n",
        "convolutional_maxplooting_model.fit(X_train, y_train, X_val, y_val)"
      ],
      "execution_count": null,
      "outputs": [
        {
          "output_type": "stream",
          "text": [
            "Model: \"sequential_2\"\n",
            "_________________________________________________________________\n",
            "Layer (type)                 Output Shape              Param #   \n",
            "=================================================================\n",
            "conv2d_1 (Conv2D)            (None, 26, 26, 32)        320       \n",
            "_________________________________________________________________\n",
            "max_pooling2d (MaxPooling2D) (None, 13, 13, 32)        0         \n",
            "_________________________________________________________________\n",
            "dropout (Dropout)            (None, 13, 13, 32)        0         \n",
            "_________________________________________________________________\n",
            "conv2d_2 (Conv2D)            (None, 11, 11, 64)        18496     \n",
            "_________________________________________________________________\n",
            "max_pooling2d_1 (MaxPooling2 (None, 5, 5, 64)          0         \n",
            "_________________________________________________________________\n",
            "dropout_1 (Dropout)          (None, 5, 5, 64)          0         \n",
            "_________________________________________________________________\n",
            "conv2d_3 (Conv2D)            (None, 3, 3, 128)         73856     \n",
            "_________________________________________________________________\n",
            "max_pooling2d_2 (MaxPooling2 (None, 1, 1, 128)         0         \n",
            "_________________________________________________________________\n",
            "dropout_2 (Dropout)          (None, 1, 1, 128)         0         \n",
            "_________________________________________________________________\n",
            "flatten_1 (Flatten)          (None, 128)               0         \n",
            "_________________________________________________________________\n",
            "dense_5 (Dense)              (None, 128)               16512     \n",
            "_________________________________________________________________\n",
            "dropout_3 (Dropout)          (None, 128)               0         \n",
            "_________________________________________________________________\n",
            "dense_6 (Dense)              (None, 13)                1677      \n",
            "=================================================================\n",
            "Total params: 110,861\n",
            "Trainable params: 110,861\n",
            "Non-trainable params: 0\n",
            "_________________________________________________________________\n",
            "None\n",
            "Epoch 1/20\n",
            "228/228 [==============================] - 33s 135ms/step - loss: 5.0626 - accuracy: 0.2698 - val_loss: 1.1159 - val_accuracy: 0.7041\n",
            "Epoch 2/20\n",
            "228/228 [==============================] - 30s 131ms/step - loss: 1.3516 - accuracy: 0.5754 - val_loss: 0.7249 - val_accuracy: 0.8047\n",
            "Epoch 3/20\n",
            "228/228 [==============================] - 30s 131ms/step - loss: 1.0334 - accuracy: 0.6794 - val_loss: 0.5736 - val_accuracy: 0.8413\n",
            "Epoch 4/20\n",
            "228/228 [==============================] - 29s 129ms/step - loss: 0.8698 - accuracy: 0.7356 - val_loss: 0.4983 - val_accuracy: 0.8624\n",
            "Epoch 5/20\n",
            "228/228 [==============================] - 29s 129ms/step - loss: 0.7701 - accuracy: 0.7645 - val_loss: 0.4523 - val_accuracy: 0.8722\n",
            "Epoch 6/20\n",
            "228/228 [==============================] - 30s 130ms/step - loss: 0.6982 - accuracy: 0.7868 - val_loss: 0.4006 - val_accuracy: 0.8903\n",
            "Epoch 7/20\n",
            "228/228 [==============================] - 29s 128ms/step - loss: 0.6396 - accuracy: 0.8123 - val_loss: 0.3676 - val_accuracy: 0.8986\n",
            "Epoch 8/20\n",
            "228/228 [==============================] - 29s 127ms/step - loss: 0.5917 - accuracy: 0.8248 - val_loss: 0.3401 - val_accuracy: 0.9129\n",
            "Epoch 9/20\n",
            "228/228 [==============================] - 31s 134ms/step - loss: 0.5529 - accuracy: 0.8343 - val_loss: 0.3123 - val_accuracy: 0.9144\n",
            "Epoch 10/20\n",
            "228/228 [==============================] - 29s 128ms/step - loss: 0.5205 - accuracy: 0.8483 - val_loss: 0.2981 - val_accuracy: 0.9167\n",
            "Epoch 11/20\n",
            "228/228 [==============================] - 29s 125ms/step - loss: 0.4907 - accuracy: 0.8524 - val_loss: 0.2781 - val_accuracy: 0.9231\n",
            "Epoch 12/20\n",
            "228/228 [==============================] - 29s 127ms/step - loss: 0.4706 - accuracy: 0.8615 - val_loss: 0.2642 - val_accuracy: 0.9295\n",
            "Epoch 13/20\n",
            "228/228 [==============================] - 29s 128ms/step - loss: 0.4346 - accuracy: 0.8683 - val_loss: 0.2481 - val_accuracy: 0.9329\n",
            "Epoch 14/20\n",
            "228/228 [==============================] - 29s 129ms/step - loss: 0.4364 - accuracy: 0.8690 - val_loss: 0.2370 - val_accuracy: 0.9374\n",
            "Epoch 15/20\n",
            "228/228 [==============================] - 30s 130ms/step - loss: 0.4144 - accuracy: 0.8765 - val_loss: 0.2234 - val_accuracy: 0.9401\n",
            "Epoch 16/20\n",
            "228/228 [==============================] - 29s 127ms/step - loss: 0.3815 - accuracy: 0.8872 - val_loss: 0.2105 - val_accuracy: 0.9416\n",
            "Epoch 17/20\n",
            "228/228 [==============================] - 28s 124ms/step - loss: 0.3695 - accuracy: 0.8869 - val_loss: 0.1980 - val_accuracy: 0.9480\n",
            "Epoch 18/20\n",
            "228/228 [==============================] - 28s 125ms/step - loss: 0.3578 - accuracy: 0.8916 - val_loss: 0.1890 - val_accuracy: 0.9476\n",
            "Epoch 19/20\n",
            "228/228 [==============================] - 29s 125ms/step - loss: 0.3465 - accuracy: 0.8948 - val_loss: 0.1785 - val_accuracy: 0.9514\n",
            "Epoch 20/20\n",
            "228/228 [==============================] - 29s 127ms/step - loss: 0.3168 - accuracy: 0.9038 - val_loss: 0.1716 - val_accuracy: 0.9529\n"
          ],
          "name": "stdout"
        }
      ]
    },
    {
      "cell_type": "code",
      "metadata": {
        "colab": {
          "base_uri": "https://localhost:8080/",
          "height": 731
        },
        "id": "qbZMV_pdKMmg",
        "outputId": "da07c15a-f629-4c4c-a45c-5c2c87076395"
      },
      "source": [
        "ModelEvaluator.loss_and_accuracy(convolutional_maxplooting_model.model, X_test, y_test)\n",
        "ModelEvaluator.loss_plot(convolutional_maxplooting_model.history, 20)"
      ],
      "execution_count": null,
      "outputs": [
        {
          "output_type": "stream",
          "text": [
            "490/490 [==============================] - 5s 11ms/step - loss: 0.1704 - accuracy: 0.9527\n",
            "Test loss: 0.1703917533159256\n",
            "Accuracy: 0.9526695013046265\n"
          ],
          "name": "stdout"
        },
        {
          "output_type": "display_data",
          "data": {
            "image/png": "[encoded data removed]",
            "text/plain": [
              "<Figure size 648x360 with 1 Axes>"
            ]
          },
          "metadata": {
            "tags": [],
            "needs_background": "light"
          }
        },
        {
          "output_type": "display_data",
          "data": {
            "image/png": "[encoded data removed]",
            "text/plain": [
              "<Figure size 648x360 with 1 Axes>"
            ]
          },
          "metadata": {
            "tags": [],
            "needs_background": "light"
          }
        }
      ]
    },
    {
      "cell_type": "markdown",
      "metadata": {
        "id": "TVdVstSvAfam"
      },
      "source": [
        "# Testing"
      ]
    },
    {
      "cell_type": "code",
      "metadata": {
        "id": "ZN86IDNYtqqh"
      },
      "source": [
        "class ImageReader:\n",
        "\n",
        "  def __show_img(self, img):\n",
        "      plt.imshow(img, cmap='gray')\n",
        "      plt.show()\n",
        "\n",
        "  def read(self, img_path:str):\n",
        "    img = cv2.imread(img_path, cv2.IMREAD_GRAYSCALE)\n",
        "    self.__show_img(img)\n",
        "    images = []\n",
        "    if img is not None:\n",
        "        img = ~img\n",
        "        ret, thresh = cv2.threshold(img, 127, 255, cv2.THRESH_BINARY)\n",
        "        ctrs, ret = cv2.findContours(thresh,cv2.RETR_TREE,cv2.CHAIN_APPROX_SIMPLE)\n",
        "        cnt = sorted(ctrs, key=lambda ctr: cv2.boundingRect(ctr)[0])\n",
        "        w = int(28)\n",
        "        h = int(28)\n",
        "        train_data=[]\n",
        "        rects=[]\n",
        "        for c in cnt:\n",
        "            x,y,w,h= cv2.boundingRect(c)\n",
        "            rect=[x,y,w,h]\n",
        "            rects.append(rect)\n",
        "        bool_rect=[]\n",
        "        for r in rects:\n",
        "            l=[]\n",
        "            for rec in rects:\n",
        "                flag=0\n",
        "                if rec!=r:\n",
        "                    if r[0]<(rec[0]+rec[2]+10) and rec[0]<(r[0]+r[2]+10) and r[1]<(rec[1]+rec[3]+10) and rec[1]<(r[1]+r[3]+10):\n",
        "                        flag=1\n",
        "                    l.append(flag)\n",
        "                if rec==r:\n",
        "                    l.append(0)\n",
        "            bool_rect.append(l)\n",
        "        dump_rect=[]\n",
        "        for i in range(0,len(cnt)):\n",
        "            for j in range(0,len(cnt)):\n",
        "                if bool_rect[i][j]==1:\n",
        "                    area1=rects[i][2]*rects[i][3]\n",
        "                    area2=rects[j][2]*rects[j][3]\n",
        "                    if(area1==min(area1,area2)):\n",
        "                        dump_rect.append(rects[i])\n",
        "        final_rect=[i for i in rects if i not in dump_rect]\n",
        "        for r in final_rect:\n",
        "            x=r[0]\n",
        "            y=r[1]\n",
        "            w=r[2]\n",
        "            h=r[3]\n",
        "            im_crop =thresh[y:y+h+10,x:x+w+10]\n",
        "            im_resize = cv2.resize(im_crop,(28,28))\n",
        "            self.__show_img(im_resize)\n",
        "            im_resize=np.reshape(im_resize,(28,28,1))\n",
        "            images.append(im_resize)\n",
        "\n",
        "    return images"
      ],
      "execution_count": null,
      "outputs": []
    },
    {
      "cell_type": "code",
      "metadata": {
        "id": "DNpKLoBnvSv4"
      },
      "source": [
        "class EquationSolver:\n",
        "\n",
        "  def __init__(self, model, input_shape):\n",
        "    self.model = model\n",
        "    self.shape = input_shape\n",
        "  \n",
        "  def solve(self, images):\n",
        "    equation = ''\n",
        "    for i in range(len(images)):\n",
        "      images[i] = np.array(images[i])\n",
        "      images[i] = images[i].reshape(self.shape)\n",
        "      #prediction = self.model.predict_classes(images[i]) # it is the old way - deprecated\n",
        "      prediction = np.argmax(self.model.predict(images[i]), axis=-1)\n",
        "      value = self.__get_value(prediction)\n",
        "      equation = equation + value\n",
        "    result = self.__solve(equation)\n",
        "    print(f'\\n Equation: {equation} = {result}')\n",
        "\n",
        "  def __solve(self, equation):\n",
        "    try:\n",
        "      return eval(equation)\n",
        "    except:\n",
        "      print(f'Error solving the equation: {equation}')\n",
        "      return None\n",
        "\n",
        "  def __get_value(self, label):\n",
        "      if (label[0]==10):\n",
        "          return '-'\n",
        "      if (label[0]==11):\n",
        "          return  '+'\n",
        "      if (label[0]==12):\n",
        "          return '*'\n",
        "      if (label[0]==0):\n",
        "          return '0'\n",
        "      if (label[0]==1):\n",
        "          return '1'\n",
        "      if (label[0]==2):\n",
        "          return '2'\n",
        "      if (label[0]==3):\n",
        "          return '3'\n",
        "      if (label[0]==4):\n",
        "          return '4'\n",
        "      if (label[0]==5):\n",
        "          return '5'\n",
        "      if (label[0]==6):\n",
        "          return '6'\n",
        "      if (label[0]==7):\n",
        "          return '7'\n",
        "      if (label[0]==8):\n",
        "          return '8'\n",
        "      if (label[0]==9):\n",
        "          return '9'\n",
        "      return None"
      ],
      "execution_count": null,
      "outputs": []
    },
    {
      "cell_type": "code",
      "metadata": {
        "colab": {
          "base_uri": "https://localhost:8080/",
          "height": 1000
        },
        "id": "uvHushtnAewk",
        "outputId": "a8f88767-78ca-4c13-bd96-585fa61cd1a7"
      },
      "source": [
        "image_reader = ImageReader()\n",
        "images = image_reader.read('operation1.png')"
      ],
      "execution_count": null,
      "outputs": [
        {
          "output_type": "display_data",
          "data": {
            "image/png": "[encoded data removed]",
            "text/plain": [
              "<Figure size 432x288 with 1 Axes>"
            ]
          },
          "metadata": {
            "tags": [],
            "needs_background": "light"
          }
        },
        {
          "output_type": "display_data",
          "data": {
            "image/png": "[encoded data removed]",
            "text/plain": [
              "<Figure size 432x288 with 1 Axes>"
            ]
          },
          "metadata": {
            "tags": [],
            "needs_background": "light"
          }
        },
        {
          "output_type": "display_data",
          "data": {
            "image/png": "[encoded data removed]",
            "text/plain": [
              "<Figure size 432x288 with 1 Axes>"
            ]
          },
          "metadata": {
            "tags": [],
            "needs_background": "light"
          }
        },
        {
          "output_type": "display_data",
          "data": {
            "image/png": "[encoded data removed]",
            "text/plain": [
              "<Figure size 432x288 with 1 Axes>"
            ]
          },
          "metadata": {
            "tags": [],
            "needs_background": "light"
          }
        },
        {
          "output_type": "display_data",
          "data": {
            "image/png": "[encoded data removed]",
            "text/plain": [
              "<Figure size 432x288 with 1 Axes>"
            ]
          },
          "metadata": {
            "tags": [],
            "needs_background": "light"
          }
        },
        {
          "output_type": "display_data",
          "data": {
            "image/png": "[encoded data removed]",
            "text/plain": [
              "<Figure size 432x288 with 1 Axes>"
            ]
          },
          "metadata": {
            "tags": [],
            "needs_background": "light"
          }
        }
      ]
    },
    {
      "cell_type": "code",
      "metadata": {
        "id": "cxhyh1tsREv2"
      },
      "source": [
        "models = [\n",
        "          {'model': simple_model, 'input_shape': (-1, 784)}\n",
        "          ,{'model': convolutional_model, 'input_shape': (1,28,28,1)}\n",
        "          ,{'model': convolutional_maxplooting_model, 'input_shape': (1,28,28,1)}\n",
        "]"
      ],
      "execution_count": null,
      "outputs": []
    },
    {
      "cell_type": "code",
      "metadata": {
        "colab": {
          "base_uri": "https://localhost:8080/"
        },
        "id": "pMJML80WRigz",
        "outputId": "336e32d2-fce2-4112-d45e-3934e66dfc1e"
      },
      "source": [
        "for obj in models:\n",
        "  try:\n",
        "    equation_solver = EquationSolver(obj['model'].model, obj['input_shape'])\n",
        "    equation_solver.solve(images)\n",
        "  except:\n",
        "    print('The equation could not be processed properly')"
      ],
      "execution_count": null,
      "outputs": [
        {
          "output_type": "stream",
          "text": [
            "\n",
            " Equation: 2+4+5+4 = 15\n",
            "\n",
            " Equation: 2+4+5+4 = 15\n",
            "Error solving the equation: 7+4--+-\n",
            "\n",
            " Equation: 7+4--+- = None\n"
          ],
          "name": "stdout"
        }
      ]
    },
    {
      "cell_type": "code",
      "metadata": {
        "id": "hih3yIy-QRHz"
      },
      "source": [
        ""
      ],
      "execution_count": null,
      "outputs": []
    }
  ]
}