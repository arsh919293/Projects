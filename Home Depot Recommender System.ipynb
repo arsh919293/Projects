{
  "nbformat": 4,
  "nbformat_minor": 0,
  "metadata": {
    "accelerator": "GPU",
    "colab": {
      "name": "AML-LAB-Recommender-system.ipynb",
      "provenance": [],
      "collapsed_sections": [],
      "include_colab_link": true
    },
    "kernelspec": {
      "display_name": "Python 3",
      "name": "python3"
    }
  },
  "cells": [
    {
      "cell_type": "markdown",
      "metadata": {
        "id": "view-in-github",
        "colab_type": "text"
      },
      "source": [
        "<a href=\"https://colab.research.google.com/github/arsh919293/arsh919293/blob/main/Home%20Depot%20Recommender%20System.ipynb\" target=\"_parent\"><img src=\"https://colab.research.google.com/assets/colab-badge.svg\" alt=\"Open In Colab\"/></a>"
      ]
    },
    {
      "cell_type": "markdown",
      "metadata": {
        "id": "rMlHqlmJW6yU"
      },
      "source": [
        "# **Home depot recommendation system**\n",
        "\n",
        "### **Lambton College**\n",
        "\n",
        "#### **Students**\n",
        "*   Siva Pavan Kumar Pothireddy (c0790652)\n",
        "*   David Camilo Espitia        (c0785089)\n",
        "*   Arshdeep Singh              (c0793752)\n",
        "*   Mehmet Onur                 (c0768661)\n",
        "\n"
      ]
    },
    {
      "cell_type": "markdown",
      "metadata": {
        "id": "8H88SJcaXVci"
      },
      "source": [
        "## **Data description**\n",
        "\n",
        "This data set contains a number of products and real customer search terms from Home Depot's website.\n",
        "\n",
        "The challenge is to predict a relevance score for the provided combinations of search terms and products. To create the ground truth labels, Home Depot has crowdsourced the search/product pairs to multiple human raters.\n"
      ]
    },
    {
      "cell_type": "code",
      "metadata": {
        "colab": {
          "base_uri": "https://localhost:8080/"
        },
        "id": "967ygvjHU9jq",
        "outputId": "421c19de-195f-4c80-fc72-304066f9f32f"
      },
      "source": [
        "!pip install fuzzywuzzy\n",
        "\n",
        "import numpy as np\n",
        "import pandas as pd\n",
        "import matplotlib.pyplot as plt\n",
        "import matplotlib.collections as collections\n",
        "import seaborn as sns\n",
        "import urllib.request\n",
        "import zipfile\n",
        "import nltk\n",
        "import string\n",
        "import re\n",
        "import pickle\n",
        "\n",
        "\n",
        "from sklearn.ensemble import RandomForestRegressor, BaggingRegressor\n",
        "from nltk.stem.snowball import SnowballStemmer\n",
        "from fuzzywuzzy import fuzz\n",
        "from fuzzywuzzy import process\n"
      ],
      "execution_count": null,
      "outputs": [
        {
          "output_type": "stream",
          "text": [
            "Collecting fuzzywuzzy\n",
            "  Downloading https://files.pythonhosted.org/packages/43/ff/74f23998ad2f93b945c0309f825be92e04e0348e062026998b5eefef4c33/fuzzywuzzy-0.18.0-py2.py3-none-any.whl\n",
            "Installing collected packages: fuzzywuzzy\n",
            "Successfully installed fuzzywuzzy-0.18.0\n"
          ],
          "name": "stdout"
        },
        {
          "output_type": "stream",
          "text": [
            "/usr/local/lib/python3.7/dist-packages/fuzzywuzzy/fuzz.py:11: UserWarning: Using slow pure-python SequenceMatcher. Install python-Levenshtein to remove this warning\n",
            "  warnings.warn('Using slow pure-python SequenceMatcher. Install python-Levenshtein to remove this warning')\n"
          ],
          "name": "stderr"
        }
      ]
    },
    {
      "cell_type": "code",
      "metadata": {
        "id": "AguXjHxqeghC"
      },
      "source": [
        "#############\n",
        "# Constants #\n",
        "#############\n",
        "\n",
        "#\n",
        "# Encoding\n",
        "#\n",
        "ISO_8859_1_ENCODING = 'ISO-8859-1'\n",
        "\n",
        "#\n",
        "# URLs\n",
        "#\n",
        "ATTRIBUTE_DATA_URL = 'https://recommender-system-home-depot.s3-sa-east-1.amazonaws.com/attributes.csv.zip'\n",
        "PRODUCT_DESCRIPTION_DATA_URL = 'https://recommender-system-home-depot.s3-sa-east-1.amazonaws.com/product_descriptions.csv.zip'\n",
        "DATA_URL = 'https://recommender-system-home-depot.s3-sa-east-1.amazonaws.com/home-depot-data.csv'\n",
        "TEST_DATA_URL = 'https://recommender-system-home-depot.s3-sa-east-1.amazonaws.com/test.csv.zip'\n"
      ],
      "execution_count": null,
      "outputs": []
    },
    {
      "cell_type": "markdown",
      "metadata": {
        "id": "isN11nVse50V"
      },
      "source": [
        "## **Load Data**"
      ]
    },
    {
      "cell_type": "code",
      "metadata": {
        "id": "vwnorD3ZG2uw"
      },
      "source": [
        "def read_zip_csv_from_url(url:str, zip_name:str, csv_name:str, encoding=None):\n",
        "  urllib.request.urlretrieve(url, zip_name)\n",
        "  zip_file = zipfile.ZipFile(zip_name)\n",
        "  return pd.read_csv(zip_file.open(csv_name), encoding=encoding)"
      ],
      "execution_count": null,
      "outputs": []
    },
    {
      "cell_type": "code",
      "metadata": {
        "id": "Zxe9J4C7WQAm"
      },
      "source": [
        "attribute_data = read_zip_csv_from_url(ATTRIBUTE_DATA_URL, 'attributes.csv.zip', 'attributes.csv')"
      ],
      "execution_count": null,
      "outputs": []
    },
    {
      "cell_type": "code",
      "metadata": {
        "id": "leGKjEyqcvSU"
      },
      "source": [
        "product_description_data = read_zip_csv_from_url(PRODUCT_DESCRIPTION_DATA_URL, 'product_descriptions.csv.zip', 'product_descriptions.csv')"
      ],
      "execution_count": null,
      "outputs": []
    },
    {
      "cell_type": "code",
      "metadata": {
        "id": "CN_IBmo3gJ2b"
      },
      "source": [
        "data = pd.read_csv(DATA_URL, encoding=ISO_8859_1_ENCODING)"
      ],
      "execution_count": null,
      "outputs": []
    },
    {
      "cell_type": "code",
      "metadata": {
        "id": "7LxYzDZsRPHp"
      },
      "source": [
        "test_data = read_zip_csv_from_url(TEST_DATA_URL, 'test.csv.zip', 'test.csv', ISO_8859_1_ENCODING)"
      ],
      "execution_count": null,
      "outputs": []
    },
    {
      "cell_type": "markdown",
      "metadata": {
        "id": "h2xxIZ9OfMyU"
      },
      "source": [
        "## **Data analysis**"
      ]
    },
    {
      "cell_type": "code",
      "metadata": {
        "id": "w7qx2_YwFcCq"
      },
      "source": [
        "full_data = pd.concat((data, test_data), axis=0, ignore_index=True)"
      ],
      "execution_count": null,
      "outputs": []
    },
    {
      "cell_type": "code",
      "metadata": {
        "colab": {
          "base_uri": "https://localhost:8080/",
          "height": 191
        },
        "id": "5Wh3UNqSfF_C",
        "outputId": "79e14d73-1cb6-400e-ded7-8c53e704ffe3"
      },
      "source": [
        "full_data.head()"
      ],
      "execution_count": null,
      "outputs": [
        {
          "output_type": "execute_result",
          "data": {
            "text/html": [
              "<div>\n",
              "<style scoped>\n",
              "    .dataframe tbody tr th:only-of-type {\n",
              "        vertical-align: middle;\n",
              "    }\n",
              "\n",
              "    .dataframe tbody tr th {\n",
              "        vertical-align: top;\n",
              "    }\n",
              "\n",
              "    .dataframe thead th {\n",
              "        text-align: right;\n",
              "    }\n",
              "</style>\n",
              "<table border=\"1\" class=\"dataframe\">\n",
              "  <thead>\n",
              "    <tr style=\"text-align: right;\">\n",
              "      <th></th>\n",
              "      <th>id</th>\n",
              "      <th>product_uid</th>\n",
              "      <th>product_title</th>\n",
              "      <th>search_term</th>\n",
              "      <th>relevance</th>\n",
              "    </tr>\n",
              "  </thead>\n",
              "  <tbody>\n",
              "    <tr>\n",
              "      <th>0</th>\n",
              "      <td>2</td>\n",
              "      <td>100001</td>\n",
              "      <td>Simpson Strong-Tie 12-Gauge Angle</td>\n",
              "      <td>angle bracket</td>\n",
              "      <td>3.00</td>\n",
              "    </tr>\n",
              "    <tr>\n",
              "      <th>1</th>\n",
              "      <td>3</td>\n",
              "      <td>100001</td>\n",
              "      <td>Simpson Strong-Tie 12-Gauge Angle</td>\n",
              "      <td>l bracket</td>\n",
              "      <td>2.50</td>\n",
              "    </tr>\n",
              "    <tr>\n",
              "      <th>2</th>\n",
              "      <td>9</td>\n",
              "      <td>100002</td>\n",
              "      <td>BEHR Premium Textured DeckOver 1-gal. #SC-141 ...</td>\n",
              "      <td>deck over</td>\n",
              "      <td>3.00</td>\n",
              "    </tr>\n",
              "    <tr>\n",
              "      <th>3</th>\n",
              "      <td>16</td>\n",
              "      <td>100005</td>\n",
              "      <td>Delta Vero 1-Handle Shower Only Faucet Trim Ki...</td>\n",
              "      <td>rain shower head</td>\n",
              "      <td>2.33</td>\n",
              "    </tr>\n",
              "    <tr>\n",
              "      <th>4</th>\n",
              "      <td>17</td>\n",
              "      <td>100005</td>\n",
              "      <td>Delta Vero 1-Handle Shower Only Faucet Trim Ki...</td>\n",
              "      <td>shower only faucet</td>\n",
              "      <td>2.67</td>\n",
              "    </tr>\n",
              "  </tbody>\n",
              "</table>\n",
              "</div>"
            ],
            "text/plain": [
              "   id  product_uid  ...         search_term relevance\n",
              "0   2       100001  ...       angle bracket      3.00\n",
              "1   3       100001  ...           l bracket      2.50\n",
              "2   9       100002  ...           deck over      3.00\n",
              "3  16       100005  ...    rain shower head      2.33\n",
              "4  17       100005  ...  shower only faucet      2.67\n",
              "\n",
              "[5 rows x 5 columns]"
            ]
          },
          "metadata": {
            "tags": []
          },
          "execution_count": 9
        }
      ]
    },
    {
      "cell_type": "code",
      "metadata": {
        "colab": {
          "base_uri": "https://localhost:8080/",
          "height": 191
        },
        "id": "o1kWsPFMfcwq",
        "outputId": "55eb93e5-9855-4cd9-ed79-14ecfef69b7b"
      },
      "source": [
        "attribute_data.head()"
      ],
      "execution_count": null,
      "outputs": [
        {
          "output_type": "execute_result",
          "data": {
            "text/html": [
              "<div>\n",
              "<style scoped>\n",
              "    .dataframe tbody tr th:only-of-type {\n",
              "        vertical-align: middle;\n",
              "    }\n",
              "\n",
              "    .dataframe tbody tr th {\n",
              "        vertical-align: top;\n",
              "    }\n",
              "\n",
              "    .dataframe thead th {\n",
              "        text-align: right;\n",
              "    }\n",
              "</style>\n",
              "<table border=\"1\" class=\"dataframe\">\n",
              "  <thead>\n",
              "    <tr style=\"text-align: right;\">\n",
              "      <th></th>\n",
              "      <th>product_uid</th>\n",
              "      <th>name</th>\n",
              "      <th>value</th>\n",
              "    </tr>\n",
              "  </thead>\n",
              "  <tbody>\n",
              "    <tr>\n",
              "      <th>0</th>\n",
              "      <td>100001.0</td>\n",
              "      <td>Bullet01</td>\n",
              "      <td>Versatile connector for various 90° connection...</td>\n",
              "    </tr>\n",
              "    <tr>\n",
              "      <th>1</th>\n",
              "      <td>100001.0</td>\n",
              "      <td>Bullet02</td>\n",
              "      <td>Stronger than angled nailing or screw fastenin...</td>\n",
              "    </tr>\n",
              "    <tr>\n",
              "      <th>2</th>\n",
              "      <td>100001.0</td>\n",
              "      <td>Bullet03</td>\n",
              "      <td>Help ensure joints are consistently straight a...</td>\n",
              "    </tr>\n",
              "    <tr>\n",
              "      <th>3</th>\n",
              "      <td>100001.0</td>\n",
              "      <td>Bullet04</td>\n",
              "      <td>Dimensions: 3 in. x 3 in. x 1-1/2 in.</td>\n",
              "    </tr>\n",
              "    <tr>\n",
              "      <th>4</th>\n",
              "      <td>100001.0</td>\n",
              "      <td>Bullet05</td>\n",
              "      <td>Made from 12-Gauge steel</td>\n",
              "    </tr>\n",
              "  </tbody>\n",
              "</table>\n",
              "</div>"
            ],
            "text/plain": [
              "   product_uid      name                                              value\n",
              "0     100001.0  Bullet01  Versatile connector for various 90° connection...\n",
              "1     100001.0  Bullet02  Stronger than angled nailing or screw fastenin...\n",
              "2     100001.0  Bullet03  Help ensure joints are consistently straight a...\n",
              "3     100001.0  Bullet04              Dimensions: 3 in. x 3 in. x 1-1/2 in.\n",
              "4     100001.0  Bullet05                           Made from 12-Gauge steel"
            ]
          },
          "metadata": {
            "tags": []
          },
          "execution_count": 10
        }
      ]
    },
    {
      "cell_type": "code",
      "metadata": {
        "colab": {
          "base_uri": "https://localhost:8080/",
          "height": 191
        },
        "id": "YxnUpg8rfqI8",
        "outputId": "c7637366-6853-4e23-9446-28a9dd022556"
      },
      "source": [
        "product_description_data.head()"
      ],
      "execution_count": null,
      "outputs": [
        {
          "output_type": "execute_result",
          "data": {
            "text/html": [
              "<div>\n",
              "<style scoped>\n",
              "    .dataframe tbody tr th:only-of-type {\n",
              "        vertical-align: middle;\n",
              "    }\n",
              "\n",
              "    .dataframe tbody tr th {\n",
              "        vertical-align: top;\n",
              "    }\n",
              "\n",
              "    .dataframe thead th {\n",
              "        text-align: right;\n",
              "    }\n",
              "</style>\n",
              "<table border=\"1\" class=\"dataframe\">\n",
              "  <thead>\n",
              "    <tr style=\"text-align: right;\">\n",
              "      <th></th>\n",
              "      <th>product_uid</th>\n",
              "      <th>product_description</th>\n",
              "    </tr>\n",
              "  </thead>\n",
              "  <tbody>\n",
              "    <tr>\n",
              "      <th>0</th>\n",
              "      <td>100001</td>\n",
              "      <td>Not only do angles make joints stronger, they ...</td>\n",
              "    </tr>\n",
              "    <tr>\n",
              "      <th>1</th>\n",
              "      <td>100002</td>\n",
              "      <td>BEHR Premium Textured DECKOVER is an innovativ...</td>\n",
              "    </tr>\n",
              "    <tr>\n",
              "      <th>2</th>\n",
              "      <td>100003</td>\n",
              "      <td>Classic architecture meets contemporary design...</td>\n",
              "    </tr>\n",
              "    <tr>\n",
              "      <th>3</th>\n",
              "      <td>100004</td>\n",
              "      <td>The Grape Solar 265-Watt Polycrystalline PV So...</td>\n",
              "    </tr>\n",
              "    <tr>\n",
              "      <th>4</th>\n",
              "      <td>100005</td>\n",
              "      <td>Update your bathroom with the Delta Vero Singl...</td>\n",
              "    </tr>\n",
              "  </tbody>\n",
              "</table>\n",
              "</div>"
            ],
            "text/plain": [
              "   product_uid                                product_description\n",
              "0       100001  Not only do angles make joints stronger, they ...\n",
              "1       100002  BEHR Premium Textured DECKOVER is an innovativ...\n",
              "2       100003  Classic architecture meets contemporary design...\n",
              "3       100004  The Grape Solar 265-Watt Polycrystalline PV So...\n",
              "4       100005  Update your bathroom with the Delta Vero Singl..."
            ]
          },
          "metadata": {
            "tags": []
          },
          "execution_count": 11
        }
      ]
    },
    {
      "cell_type": "code",
      "metadata": {
        "colab": {
          "base_uri": "https://localhost:8080/"
        },
        "id": "dVv26H6tgWIe",
        "outputId": "a58f07c6-f7f8-4070-9f64-abc8bdb248af"
      },
      "source": [
        "full_data['relevance'].describe()"
      ],
      "execution_count": null,
      "outputs": [
        {
          "output_type": "execute_result",
          "data": {
            "text/plain": [
              "count    74067.000000\n",
              "mean         2.381634\n",
              "std          0.533984\n",
              "min          1.000000\n",
              "25%          2.000000\n",
              "50%          2.330000\n",
              "75%          3.000000\n",
              "max          3.000000\n",
              "Name: relevance, dtype: float64"
            ]
          },
          "metadata": {
            "tags": []
          },
          "execution_count": 12
        }
      ]
    },
    {
      "cell_type": "markdown",
      "metadata": {
        "id": "HNLmlczgiY_r"
      },
      "source": [
        "### **Products information**\n",
        "\n",
        "*   Total products\n",
        "*   Products relevance"
      ]
    },
    {
      "cell_type": "markdown",
      "metadata": {
        "id": "KtLRrPXUjvV0"
      },
      "source": [
        "**Total products**"
      ]
    },
    {
      "cell_type": "code",
      "metadata": {
        "colab": {
          "base_uri": "https://localhost:8080/"
        },
        "id": "nutz7OZogcM7",
        "outputId": "60a77b92-fb9a-4b80-b6e4-ea699d8fd87b"
      },
      "source": [
        "total_products = len(product_description_data['product_uid'].unique())\n",
        "\n",
        "print(f'Total products: {total_products}')"
      ],
      "execution_count": null,
      "outputs": [
        {
          "output_type": "stream",
          "text": [
            "Total products: 124428\n"
          ],
          "name": "stdout"
        }
      ]
    },
    {
      "cell_type": "code",
      "metadata": {
        "colab": {
          "base_uri": "https://localhost:8080/"
        },
        "id": "bd8B243j1l2J",
        "outputId": "f89f967b-ee31-4a44-f0d9-91529a151555"
      },
      "source": [
        "total_products_searched_by_users = len(full_data['product_uid'].unique())\n",
        "\n",
        "print(f'Total products searched by users: {total_products}')"
      ],
      "execution_count": null,
      "outputs": [
        {
          "output_type": "stream",
          "text": [
            "Total products searched by users: 124428\n"
          ],
          "name": "stdout"
        }
      ]
    },
    {
      "cell_type": "markdown",
      "metadata": {
        "id": "v_5SVQsdi8YO"
      },
      "source": [
        "**Products relevance**\n",
        "*   Not relevant    = 1\n",
        "*   Middly relevant = 2\n",
        "*   Highly relevant = 3\n"
      ]
    },
    {
      "cell_type": "code",
      "metadata": {
        "id": "QcdQIk5RhXK6"
      },
      "source": [
        "#\n",
        "# Relevance filter\n",
        "#\n",
        "no_relevant_filter = lambda frame: (frame['relevance'] >= 1) & (frame['relevance'] < 2)\n",
        "middly_relevant_filter = lambda frame: (frame['relevance'] >= 2) & (frame['relevance'] < 3)\n",
        "highly_relevant_filter = lambda frame: (frame['relevance'] >= 3)\n",
        "\n",
        "def get_relevance_count(dataframe, filter):\n",
        "  return dataframe[filter(dataframe)].count()[0]"
      ],
      "execution_count": null,
      "outputs": []
    },
    {
      "cell_type": "code",
      "metadata": {
        "colab": {
          "base_uri": "https://localhost:8080/"
        },
        "id": "cg_eArDNkw5_",
        "outputId": "8f2e64ea-4f32-48f8-baf5-e430fa168220"
      },
      "source": [
        "count_no_relevant_products = get_relevance_count(full_data, no_relevant_filter)\n",
        "count_middly_relevant_products = get_relevance_count(full_data, middly_relevant_filter)\n",
        "count_highly_relevant_products = get_relevance_count(full_data, highly_relevant_filter)\n",
        "\n",
        "print(f'No relevant products: {count_no_relevant_products}')\n",
        "print(f'Middly relevant products: {count_middly_relevant_products}')\n",
        "print(f'Highly relevant products: {count_highly_relevant_products}')"
      ],
      "execution_count": null,
      "outputs": [
        {
          "output_type": "stream",
          "text": [
            "No relevant products: 11909\n",
            "Middly relevant products: 43033\n",
            "Highly relevant products: 19125\n"
          ],
          "name": "stdout"
        }
      ]
    },
    {
      "cell_type": "code",
      "metadata": {
        "colab": {
          "base_uri": "https://localhost:8080/",
          "height": 311
        },
        "id": "SDF1_RTzobqm",
        "outputId": "e7e556e1-9abf-4e70-96a9-fd7fbcf9e9bd"
      },
      "source": [
        "data_to_plot = full_data['relevance']\n",
        "\n",
        "plt.hist(data_to_plot, color='green', edgecolor='black', bins=int(180/5))\n",
        "plt.title('Relevance density')\n",
        "plt.xlabel('Relevance')\n",
        "plt.ylabel('Number of products')\n",
        "plt.axis()"
      ],
      "execution_count": null,
      "outputs": [
        {
          "output_type": "execute_result",
          "data": {
            "text/plain": [
              "(0.8999999999999999, 3.1, 0.0, 20081.25)"
            ]
          },
          "metadata": {
            "tags": []
          },
          "execution_count": 17
        },
        {
          "output_type": "display_data",
          "data": {
            "image/png": "[encoded data removed]",
            "text/plain": [
              "<Figure size 432x288 with 1 Axes>"
            ]
          },
          "metadata": {
            "tags": []
          }
        }
      ]
    },
    {
      "cell_type": "markdown",
      "metadata": {
        "id": "ko1AoXJIsDrP"
      },
      "source": [
        "### **Null validation on Data**"
      ]
    },
    {
      "cell_type": "code",
      "metadata": {
        "colab": {
          "base_uri": "https://localhost:8080/"
        },
        "id": "mxjcSdAcpEuc",
        "outputId": "1e15aaac-f883-4191-e21b-641a722081aa"
      },
      "source": [
        "full_data.isnull().sum()"
      ],
      "execution_count": null,
      "outputs": [
        {
          "output_type": "execute_result",
          "data": {
            "text/plain": [
              "id                    0\n",
              "product_uid           0\n",
              "product_title         0\n",
              "search_term           0\n",
              "relevance        166693\n",
              "dtype: int64"
            ]
          },
          "metadata": {
            "tags": []
          },
          "execution_count": 18
        }
      ]
    },
    {
      "cell_type": "code",
      "metadata": {
        "colab": {
          "base_uri": "https://localhost:8080/",
          "height": 337
        },
        "id": "RKcNYAd6PlBf",
        "outputId": "e51221fa-d5f9-4001-8789-9c66358f7644"
      },
      "source": [
        "fig, ax = plt.subplots()\n",
        "ax = fig.add_axes([0,0,1,1])\n",
        "ax.bar(full_data.columns,full_data.isnull().sum())\n",
        "plt.show()"
      ],
      "execution_count": null,
      "outputs": [
        {
          "output_type": "display_data",
          "data": {
            "image/png": "[encoded data removed]",
            "text/plain": [
              "<Figure size 432x288 with 2 Axes>"
            ]
          },
          "metadata": {
            "tags": []
          }
        }
      ]
    },
    {
      "cell_type": "code",
      "metadata": {
        "id": "R7G-7ZiKgPwp"
      },
      "source": [
        "#The X feature consists of strings and, ideally, \n",
        "#we should clean them up by removing all punctuation and converting all the words to lowercase \"\"\""
      ],
      "execution_count": null,
      "outputs": []
    },
    {
      "cell_type": "markdown",
      "metadata": {
        "id": "zPa8UNHwsvk3"
      },
      "source": [
        "**Merge data sets**"
      ]
    },
    {
      "cell_type": "code",
      "metadata": {
        "colab": {
          "base_uri": "https://localhost:8080/",
          "height": 191
        },
        "id": "S7axAW6Qg-TY",
        "outputId": "1cab4c39-f2a0-430b-ae29-a59d2ccbd90c"
      },
      "source": [
        "#\n",
        "# We have merged the both data set using the product_uid column\n",
        "# 1. The data set with the columns (product_uid, product_title, search_term, and relevance)\n",
        "# 2. The data set with the columns (product_uid, and product_description)\n",
        "#\n",
        "data_merged = pd.merge(full_data, product_description_data, how='left', on='product_uid')\n",
        "data_merged.head()"
      ],
      "execution_count": null,
      "outputs": [
        {
          "output_type": "execute_result",
          "data": {
            "text/html": [
              "<div>\n",
              "<style scoped>\n",
              "    .dataframe tbody tr th:only-of-type {\n",
              "        vertical-align: middle;\n",
              "    }\n",
              "\n",
              "    .dataframe tbody tr th {\n",
              "        vertical-align: top;\n",
              "    }\n",
              "\n",
              "    .dataframe thead th {\n",
              "        text-align: right;\n",
              "    }\n",
              "</style>\n",
              "<table border=\"1\" class=\"dataframe\">\n",
              "  <thead>\n",
              "    <tr style=\"text-align: right;\">\n",
              "      <th></th>\n",
              "      <th>id</th>\n",
              "      <th>product_uid</th>\n",
              "      <th>product_title</th>\n",
              "      <th>search_term</th>\n",
              "      <th>relevance</th>\n",
              "      <th>product_description</th>\n",
              "    </tr>\n",
              "  </thead>\n",
              "  <tbody>\n",
              "    <tr>\n",
              "      <th>0</th>\n",
              "      <td>2</td>\n",
              "      <td>100001</td>\n",
              "      <td>Simpson Strong-Tie 12-Gauge Angle</td>\n",
              "      <td>angle bracket</td>\n",
              "      <td>3.00</td>\n",
              "      <td>Not only do angles make joints stronger, they ...</td>\n",
              "    </tr>\n",
              "    <tr>\n",
              "      <th>1</th>\n",
              "      <td>3</td>\n",
              "      <td>100001</td>\n",
              "      <td>Simpson Strong-Tie 12-Gauge Angle</td>\n",
              "      <td>l bracket</td>\n",
              "      <td>2.50</td>\n",
              "      <td>Not only do angles make joints stronger, they ...</td>\n",
              "    </tr>\n",
              "    <tr>\n",
              "      <th>2</th>\n",
              "      <td>9</td>\n",
              "      <td>100002</td>\n",
              "      <td>BEHR Premium Textured DeckOver 1-gal. #SC-141 ...</td>\n",
              "      <td>deck over</td>\n",
              "      <td>3.00</td>\n",
              "      <td>BEHR Premium Textured DECKOVER is an innovativ...</td>\n",
              "    </tr>\n",
              "    <tr>\n",
              "      <th>3</th>\n",
              "      <td>16</td>\n",
              "      <td>100005</td>\n",
              "      <td>Delta Vero 1-Handle Shower Only Faucet Trim Ki...</td>\n",
              "      <td>rain shower head</td>\n",
              "      <td>2.33</td>\n",
              "      <td>Update your bathroom with the Delta Vero Singl...</td>\n",
              "    </tr>\n",
              "    <tr>\n",
              "      <th>4</th>\n",
              "      <td>17</td>\n",
              "      <td>100005</td>\n",
              "      <td>Delta Vero 1-Handle Shower Only Faucet Trim Ki...</td>\n",
              "      <td>shower only faucet</td>\n",
              "      <td>2.67</td>\n",
              "      <td>Update your bathroom with the Delta Vero Singl...</td>\n",
              "    </tr>\n",
              "  </tbody>\n",
              "</table>\n",
              "</div>"
            ],
            "text/plain": [
              "   id  ...                                product_description\n",
              "0   2  ...  Not only do angles make joints stronger, they ...\n",
              "1   3  ...  Not only do angles make joints stronger, they ...\n",
              "2   9  ...  BEHR Premium Textured DECKOVER is an innovativ...\n",
              "3  16  ...  Update your bathroom with the Delta Vero Singl...\n",
              "4  17  ...  Update your bathroom with the Delta Vero Singl...\n",
              "\n",
              "[5 rows x 6 columns]"
            ]
          },
          "metadata": {
            "tags": []
          },
          "execution_count": 21
        }
      ]
    },
    {
      "cell_type": "markdown",
      "metadata": {
        "id": "TzX_ZdgLtf5k"
      },
      "source": [
        "## **Data cleaning**\n",
        "**Clean text columns**"
      ]
    },
    {
      "cell_type": "code",
      "metadata": {
        "colab": {
          "base_uri": "https://localhost:8080/"
        },
        "id": "ahIbB0KTsMGN",
        "outputId": "c1e348bd-6be8-40d9-90bc-815198bd6bea"
      },
      "source": [
        "# This function allow us increase the column width displayed by Pandas module\n",
        "pd.set_option('display.max_colwidth', 100)\n",
        "\n",
        "#\n",
        "# We are going to execute stemming and lemmatization process on product title, product description, and search term columns.\n",
        "# For stemming, we are using SnowballStemmer algorithm.\n",
        "# For lemmatization, WordNetLemmatizer.\n",
        "#\n",
        "stemmer = SnowballStemmer('english')\n",
        "\n",
        "nltk.download('wordnet')\n",
        "lemmatizer = nltk.WordNetLemmatizer()\n",
        "\n",
        "#\n",
        "# We are going to remove stop words on some columns as well\n",
        "#\n",
        "nltk.download('stopwords')\n",
        "stopwords = nltk.corpus.stopwords.words('english')"
      ],
      "execution_count": null,
      "outputs": [
        {
          "output_type": "stream",
          "text": [
            "[nltk_data] Downloading package wordnet to /root/nltk_data...\n",
            "[nltk_data]   Unzipping corpora/wordnet.zip.\n",
            "[nltk_data] Downloading package stopwords to /root/nltk_data...\n",
            "[nltk_data]   Unzipping corpora/stopwords.zip.\n"
          ],
          "name": "stdout"
        }
      ]
    },
    {
      "cell_type": "code",
      "metadata": {
        "id": "R4QQwURPsNOK"
      },
      "source": [
        "#\n",
        "# We have defined the next functions to clean text columns which allows us extract features in the future steps\n",
        "#\n",
        "def remove_punctuation(text):\n",
        "  text_no_punctuation = \"\".join([char for char in text if char not in string.punctuation])\n",
        "  return text_no_punctuation\n",
        "\n",
        "def tokenize(text):\n",
        "  tokens = re.split('\\W', text)\n",
        "  return tokens\n",
        "\n",
        "def remove_stopwords(words_list):\n",
        "  return [word for word in words_list if word not in stopwords]\n",
        "\n",
        "def stem_words(words):\n",
        "    words_lower = words.lower().split()\n",
        "    return \" \".join([stemmer.stem(word) for word in words_lower])\n",
        "\n",
        "def lemmatize_words(words):\n",
        "  return \" \".join([lemmatizer.lemmatize(word) for word in words])\n",
        "\n",
        "#\n",
        "# This function will execute all clean process on each column.\n",
        "# 1. turn text to lower case\n",
        "# 2. remove punctuationes\n",
        "# 3. tokenize \n",
        "# 4. remove stopwords\n",
        "# 5. execute lemmatizing process\n",
        "#\n",
        "def clean_text(text):\n",
        "  new_text = text.lower()\n",
        "  new_text = remove_punctuation(new_text)\n",
        "  tokens = tokenize(new_text)\n",
        "  tokens = remove_stopwords(tokens)\n",
        "  new_text = lemmatize_words(tokens)\n",
        "  return new_text"
      ],
      "execution_count": null,
      "outputs": []
    },
    {
      "cell_type": "markdown",
      "metadata": {
        "id": "O527BtCO5IFf"
      },
      "source": [
        "**Add features**"
      ]
    },
    {
      "cell_type": "code",
      "metadata": {
        "colab": {
          "base_uri": "https://localhost:8080/",
          "height": 335
        },
        "id": "9Gsy6p6oyJHO",
        "outputId": "d9e61728-8ea8-45c3-e909-e7d3143f77f1"
      },
      "source": [
        "#\n",
        "# Clean product_title and create a new column named product_title_cleaned\n",
        "#\n",
        "\n",
        "def create_product_title_cleaned(data_frame):\n",
        "  data_frame['product_title_cleaned'] = data_frame['product_title'].map(lambda x:clean_text(x))\n",
        "\n",
        "create_product_title_cleaned(data_merged) \n",
        "data_merged[['product_title','product_title_cleaned']].head(10)"
      ],
      "execution_count": null,
      "outputs": [
        {
          "output_type": "execute_result",
          "data": {
            "text/html": [
              "<div>\n",
              "<style scoped>\n",
              "    .dataframe tbody tr th:only-of-type {\n",
              "        vertical-align: middle;\n",
              "    }\n",
              "\n",
              "    .dataframe tbody tr th {\n",
              "        vertical-align: top;\n",
              "    }\n",
              "\n",
              "    .dataframe thead th {\n",
              "        text-align: right;\n",
              "    }\n",
              "</style>\n",
              "<table border=\"1\" class=\"dataframe\">\n",
              "  <thead>\n",
              "    <tr style=\"text-align: right;\">\n",
              "      <th></th>\n",
              "      <th>product_title</th>\n",
              "      <th>product_title_cleaned</th>\n",
              "    </tr>\n",
              "  </thead>\n",
              "  <tbody>\n",
              "    <tr>\n",
              "      <th>0</th>\n",
              "      <td>Simpson Strong-Tie 12-Gauge Angle</td>\n",
              "      <td>simpson strongtie 12gauge angle</td>\n",
              "    </tr>\n",
              "    <tr>\n",
              "      <th>1</th>\n",
              "      <td>Simpson Strong-Tie 12-Gauge Angle</td>\n",
              "      <td>simpson strongtie 12gauge angle</td>\n",
              "    </tr>\n",
              "    <tr>\n",
              "      <th>2</th>\n",
              "      <td>BEHR Premium Textured DeckOver 1-gal. #SC-141 Tugboat Wood and Concrete Coating</td>\n",
              "      <td>behr premium textured deckover 1gal sc141 tugboat wood concrete coating</td>\n",
              "    </tr>\n",
              "    <tr>\n",
              "      <th>3</th>\n",
              "      <td>Delta Vero 1-Handle Shower Only Faucet Trim Kit in Chrome (Valve Not Included)</td>\n",
              "      <td>delta vero 1handle shower faucet trim kit chrome valve included</td>\n",
              "    </tr>\n",
              "    <tr>\n",
              "      <th>4</th>\n",
              "      <td>Delta Vero 1-Handle Shower Only Faucet Trim Kit in Chrome (Valve Not Included)</td>\n",
              "      <td>delta vero 1handle shower faucet trim kit chrome valve included</td>\n",
              "    </tr>\n",
              "    <tr>\n",
              "      <th>5</th>\n",
              "      <td>Whirlpool 1.9 cu. ft. Over the Range Convection Microwave in Stainless Steel with Sensor Cooking</td>\n",
              "      <td>whirlpool 19 cu ft range convection microwave stainless steel sensor cooking</td>\n",
              "    </tr>\n",
              "    <tr>\n",
              "      <th>6</th>\n",
              "      <td>Whirlpool 1.9 cu. ft. Over the Range Convection Microwave in Stainless Steel with Sensor Cooking</td>\n",
              "      <td>whirlpool 19 cu ft range convection microwave stainless steel sensor cooking</td>\n",
              "    </tr>\n",
              "    <tr>\n",
              "      <th>7</th>\n",
              "      <td>Whirlpool 1.9 cu. ft. Over the Range Convection Microwave in Stainless Steel with Sensor Cooking</td>\n",
              "      <td>whirlpool 19 cu ft range convection microwave stainless steel sensor cooking</td>\n",
              "    </tr>\n",
              "    <tr>\n",
              "      <th>8</th>\n",
              "      <td>Lithonia Lighting Quantum 2-Light Black LED Emergency Fixture Unit</td>\n",
              "      <td>lithonia lighting quantum 2light black led emergency fixture unit</td>\n",
              "    </tr>\n",
              "    <tr>\n",
              "      <th>9</th>\n",
              "      <td>House of Fara 3/4 in. x 3 in. x 8 ft. MDF Fluted Casing</td>\n",
              "      <td>house fara 34 x 3 x 8 ft mdf fluted casing</td>\n",
              "    </tr>\n",
              "  </tbody>\n",
              "</table>\n",
              "</div>"
            ],
            "text/plain": [
              "                                                                                      product_title                                                         product_title_cleaned\n",
              "0                                                                 Simpson Strong-Tie 12-Gauge Angle                                               simpson strongtie 12gauge angle\n",
              "1                                                                 Simpson Strong-Tie 12-Gauge Angle                                               simpson strongtie 12gauge angle\n",
              "2                   BEHR Premium Textured DeckOver 1-gal. #SC-141 Tugboat Wood and Concrete Coating       behr premium textured deckover 1gal sc141 tugboat wood concrete coating\n",
              "3                    Delta Vero 1-Handle Shower Only Faucet Trim Kit in Chrome (Valve Not Included)               delta vero 1handle shower faucet trim kit chrome valve included\n",
              "4                    Delta Vero 1-Handle Shower Only Faucet Trim Kit in Chrome (Valve Not Included)               delta vero 1handle shower faucet trim kit chrome valve included\n",
              "5  Whirlpool 1.9 cu. ft. Over the Range Convection Microwave in Stainless Steel with Sensor Cooking  whirlpool 19 cu ft range convection microwave stainless steel sensor cooking\n",
              "6  Whirlpool 1.9 cu. ft. Over the Range Convection Microwave in Stainless Steel with Sensor Cooking  whirlpool 19 cu ft range convection microwave stainless steel sensor cooking\n",
              "7  Whirlpool 1.9 cu. ft. Over the Range Convection Microwave in Stainless Steel with Sensor Cooking  whirlpool 19 cu ft range convection microwave stainless steel sensor cooking\n",
              "8                                Lithonia Lighting Quantum 2-Light Black LED Emergency Fixture Unit             lithonia lighting quantum 2light black led emergency fixture unit\n",
              "9                                           House of Fara 3/4 in. x 3 in. x 8 ft. MDF Fluted Casing                                    house fara 34 x 3 x 8 ft mdf fluted casing"
            ]
          },
          "metadata": {
            "tags": []
          },
          "execution_count": 24
        }
      ]
    },
    {
      "cell_type": "code",
      "metadata": {
        "colab": {
          "base_uri": "https://localhost:8080/",
          "height": 335
        },
        "id": "HKx7BQ4Sxcw7",
        "outputId": "ee8d44a1-c78a-4c1e-9124-ac4548780964"
      },
      "source": [
        "#\n",
        "# Clean search_term and create a new column named search_term_cleaned\n",
        "#\n",
        "#data_merged['search_term_cleaned'] = data_merged['search_term'].map(lambda x:clean_text(x))\n",
        "\n",
        "def create_search_term_cleaned(data_frame):\n",
        "  data_frame['search_term_cleaned'] = data_frame['search_term'].map(lambda x:clean_text(x))\n",
        "\n",
        "create_search_term_cleaned(data_merged)\n",
        "data_merged[['search_term','search_term_cleaned']].head(10)"
      ],
      "execution_count": null,
      "outputs": [
        {
          "output_type": "execute_result",
          "data": {
            "text/html": [
              "<div>\n",
              "<style scoped>\n",
              "    .dataframe tbody tr th:only-of-type {\n",
              "        vertical-align: middle;\n",
              "    }\n",
              "\n",
              "    .dataframe tbody tr th {\n",
              "        vertical-align: top;\n",
              "    }\n",
              "\n",
              "    .dataframe thead th {\n",
              "        text-align: right;\n",
              "    }\n",
              "</style>\n",
              "<table border=\"1\" class=\"dataframe\">\n",
              "  <thead>\n",
              "    <tr style=\"text-align: right;\">\n",
              "      <th></th>\n",
              "      <th>search_term</th>\n",
              "      <th>search_term_cleaned</th>\n",
              "    </tr>\n",
              "  </thead>\n",
              "  <tbody>\n",
              "    <tr>\n",
              "      <th>0</th>\n",
              "      <td>angle bracket</td>\n",
              "      <td>angle bracket</td>\n",
              "    </tr>\n",
              "    <tr>\n",
              "      <th>1</th>\n",
              "      <td>l bracket</td>\n",
              "      <td>l bracket</td>\n",
              "    </tr>\n",
              "    <tr>\n",
              "      <th>2</th>\n",
              "      <td>deck over</td>\n",
              "      <td>deck</td>\n",
              "    </tr>\n",
              "    <tr>\n",
              "      <th>3</th>\n",
              "      <td>rain shower head</td>\n",
              "      <td>rain shower head</td>\n",
              "    </tr>\n",
              "    <tr>\n",
              "      <th>4</th>\n",
              "      <td>shower only faucet</td>\n",
              "      <td>shower faucet</td>\n",
              "    </tr>\n",
              "    <tr>\n",
              "      <th>5</th>\n",
              "      <td>convection otr</td>\n",
              "      <td>convection otr</td>\n",
              "    </tr>\n",
              "    <tr>\n",
              "      <th>6</th>\n",
              "      <td>microwave over stove</td>\n",
              "      <td>microwave stove</td>\n",
              "    </tr>\n",
              "    <tr>\n",
              "      <th>7</th>\n",
              "      <td>microwaves</td>\n",
              "      <td>microwave</td>\n",
              "    </tr>\n",
              "    <tr>\n",
              "      <th>8</th>\n",
              "      <td>emergency light</td>\n",
              "      <td>emergency light</td>\n",
              "    </tr>\n",
              "    <tr>\n",
              "      <th>9</th>\n",
              "      <td>mdf 3/4</td>\n",
              "      <td>mdf 34</td>\n",
              "    </tr>\n",
              "  </tbody>\n",
              "</table>\n",
              "</div>"
            ],
            "text/plain": [
              "            search_term search_term_cleaned\n",
              "0         angle bracket       angle bracket\n",
              "1             l bracket           l bracket\n",
              "2             deck over                deck\n",
              "3      rain shower head    rain shower head\n",
              "4    shower only faucet       shower faucet\n",
              "5        convection otr      convection otr\n",
              "6  microwave over stove     microwave stove\n",
              "7            microwaves           microwave\n",
              "8       emergency light     emergency light\n",
              "9               mdf 3/4              mdf 34"
            ]
          },
          "metadata": {
            "tags": []
          },
          "execution_count": 25
        }
      ]
    },
    {
      "cell_type": "code",
      "metadata": {
        "colab": {
          "base_uri": "https://localhost:8080/",
          "height": 191
        },
        "id": "vGR-f3LNyHyE",
        "outputId": "a71fccac-1a8c-4a72-ae0a-967dab350127"
      },
      "source": [
        "#\n",
        "# Clean product_description and create a new column named product_description_cleaned\n",
        "#\n",
        "#data_merged['product_description_cleaned'] = data_merged['product_description'].map(lambda x:clean_text(x))\n",
        "#data_merged[['product_description','product_description_cleaned']].head()\n",
        "\n",
        "def create_product_description_cleaned(data_frame):\n",
        "  data_frame['product_description_cleaned'] = data_frame['product_description'].map(lambda x:clean_text(x))\n",
        "\n",
        "create_product_description_cleaned(data_merged)\n",
        "data_merged[['product_description','product_description_cleaned']].head()"
      ],
      "execution_count": null,
      "outputs": [
        {
          "output_type": "execute_result",
          "data": {
            "text/html": [
              "<div>\n",
              "<style scoped>\n",
              "    .dataframe tbody tr th:only-of-type {\n",
              "        vertical-align: middle;\n",
              "    }\n",
              "\n",
              "    .dataframe tbody tr th {\n",
              "        vertical-align: top;\n",
              "    }\n",
              "\n",
              "    .dataframe thead th {\n",
              "        text-align: right;\n",
              "    }\n",
              "</style>\n",
              "<table border=\"1\" class=\"dataframe\">\n",
              "  <thead>\n",
              "    <tr style=\"text-align: right;\">\n",
              "      <th></th>\n",
              "      <th>product_description</th>\n",
              "      <th>product_description_cleaned</th>\n",
              "    </tr>\n",
              "  </thead>\n",
              "  <tbody>\n",
              "    <tr>\n",
              "      <th>0</th>\n",
              "      <td>Not only do angles make joints stronger, they also provide more consistent, straight corners. Si...</td>\n",
              "      <td>angle make joint stronger also provide consistent straight corner simpson strongtie offer wide v...</td>\n",
              "    </tr>\n",
              "    <tr>\n",
              "      <th>1</th>\n",
              "      <td>Not only do angles make joints stronger, they also provide more consistent, straight corners. Si...</td>\n",
              "      <td>angle make joint stronger also provide consistent straight corner simpson strongtie offer wide v...</td>\n",
              "    </tr>\n",
              "    <tr>\n",
              "      <th>2</th>\n",
              "      <td>BEHR Premium Textured DECKOVER is an innovative solid color coating. It will bring your old, wea...</td>\n",
              "      <td>behr premium textured deckover innovative solid color coating bring old weathered wood concrete ...</td>\n",
              "    </tr>\n",
              "    <tr>\n",
              "      <th>3</th>\n",
              "      <td>Update your bathroom with the Delta Vero Single-Handle Shower Faucet Trim Kit in Chrome. It has ...</td>\n",
              "      <td>update bathroom delta vero singlehandle shower faucet trim kit chrome sleek modern minimalistic ...</td>\n",
              "    </tr>\n",
              "    <tr>\n",
              "      <th>4</th>\n",
              "      <td>Update your bathroom with the Delta Vero Single-Handle Shower Faucet Trim Kit in Chrome. It has ...</td>\n",
              "      <td>update bathroom delta vero singlehandle shower faucet trim kit chrome sleek modern minimalistic ...</td>\n",
              "    </tr>\n",
              "  </tbody>\n",
              "</table>\n",
              "</div>"
            ],
            "text/plain": [
              "                                                                                   product_description                                                                          product_description_cleaned\n",
              "0  Not only do angles make joints stronger, they also provide more consistent, straight corners. Si...  angle make joint stronger also provide consistent straight corner simpson strongtie offer wide v...\n",
              "1  Not only do angles make joints stronger, they also provide more consistent, straight corners. Si...  angle make joint stronger also provide consistent straight corner simpson strongtie offer wide v...\n",
              "2  BEHR Premium Textured DECKOVER is an innovative solid color coating. It will bring your old, wea...  behr premium textured deckover innovative solid color coating bring old weathered wood concrete ...\n",
              "3  Update your bathroom with the Delta Vero Single-Handle Shower Faucet Trim Kit in Chrome. It has ...  update bathroom delta vero singlehandle shower faucet trim kit chrome sleek modern minimalistic ...\n",
              "4  Update your bathroom with the Delta Vero Single-Handle Shower Faucet Trim Kit in Chrome. It has ...  update bathroom delta vero singlehandle shower faucet trim kit chrome sleek modern minimalistic ..."
            ]
          },
          "metadata": {
            "tags": []
          },
          "execution_count": 26
        }
      ]
    },
    {
      "cell_type": "code",
      "metadata": {
        "colab": {
          "base_uri": "https://localhost:8080/",
          "height": 191
        },
        "id": "FoDAah6QyXzz",
        "outputId": "5645ba37-5cde-4920-eca3-b723b2e9de78"
      },
      "source": [
        "#\n",
        "# We will create a new feature column with the lenght or number of words in the search term\n",
        "#\n",
        "#data_merged['seacrh_term_length'] = data_merged['search_term'].map(lambda x:len(x.split())).astype(np.int64)\n",
        "#data_merged[['search_term', 'seacrh_term_length']].head()\n",
        "\n",
        "def create_search_term_length(data_frame):\n",
        "  data_frame['seacrh_term_length'] = data_frame['search_term'].map(lambda x:len(x.split())).astype(np.int64)\n",
        "\n",
        "create_search_term_length(data_merged)\n",
        "data_merged[['search_term', 'seacrh_term_length']].head()"
      ],
      "execution_count": null,
      "outputs": [
        {
          "output_type": "execute_result",
          "data": {
            "text/html": [
              "<div>\n",
              "<style scoped>\n",
              "    .dataframe tbody tr th:only-of-type {\n",
              "        vertical-align: middle;\n",
              "    }\n",
              "\n",
              "    .dataframe tbody tr th {\n",
              "        vertical-align: top;\n",
              "    }\n",
              "\n",
              "    .dataframe thead th {\n",
              "        text-align: right;\n",
              "    }\n",
              "</style>\n",
              "<table border=\"1\" class=\"dataframe\">\n",
              "  <thead>\n",
              "    <tr style=\"text-align: right;\">\n",
              "      <th></th>\n",
              "      <th>search_term</th>\n",
              "      <th>seacrh_term_length</th>\n",
              "    </tr>\n",
              "  </thead>\n",
              "  <tbody>\n",
              "    <tr>\n",
              "      <th>0</th>\n",
              "      <td>angle bracket</td>\n",
              "      <td>2</td>\n",
              "    </tr>\n",
              "    <tr>\n",
              "      <th>1</th>\n",
              "      <td>l bracket</td>\n",
              "      <td>2</td>\n",
              "    </tr>\n",
              "    <tr>\n",
              "      <th>2</th>\n",
              "      <td>deck over</td>\n",
              "      <td>2</td>\n",
              "    </tr>\n",
              "    <tr>\n",
              "      <th>3</th>\n",
              "      <td>rain shower head</td>\n",
              "      <td>3</td>\n",
              "    </tr>\n",
              "    <tr>\n",
              "      <th>4</th>\n",
              "      <td>shower only faucet</td>\n",
              "      <td>3</td>\n",
              "    </tr>\n",
              "  </tbody>\n",
              "</table>\n",
              "</div>"
            ],
            "text/plain": [
              "          search_term  seacrh_term_length\n",
              "0       angle bracket                   2\n",
              "1           l bracket                   2\n",
              "2           deck over                   2\n",
              "3    rain shower head                   3\n",
              "4  shower only faucet                   3"
            ]
          },
          "metadata": {
            "tags": []
          },
          "execution_count": 27
        }
      ]
    },
    {
      "cell_type": "code",
      "metadata": {
        "id": "tz2iVZ1K5n4T"
      },
      "source": [
        "#\n",
        "# Function to count hits of a word in a text\n",
        "#\n",
        "def count_hit_words(search_words, target):\n",
        "  return sum(int(target.find(word) >= 0) for word in search_words.split())"
      ],
      "execution_count": null,
      "outputs": []
    },
    {
      "cell_type": "code",
      "metadata": {
        "colab": {
          "base_uri": "https://localhost:8080/",
          "height": 391
        },
        "id": "L6UBbGLC9mjv",
        "outputId": "73b59203-d543-4d00-c882-13d0f3cddc8b"
      },
      "source": [
        "#\n",
        "# We add a new feature column with the number of search term words present in the product title \n",
        "#\n",
        "#data_merged['hits_words_in_title'] = (data_merged['search_term_cleaned'] + \"\\t\" + data_merged['product_title_cleaned']) \\\n",
        "#  .map(lambda x: count_hit_words(x.split('\\t')[0],x.split('\\t')[1]))\n",
        "\n",
        "def create_hits_words_in_title(data_frame):\n",
        "  data_frame['hits_words_in_title'] = (data_frame['search_term_cleaned'] + \"\\t\" + data_frame['product_title_cleaned']) \\\n",
        "  .map(lambda x: count_hit_words(x.split('\\t')[0],x.split('\\t')[1]))\n",
        "\n",
        "create_hits_words_in_title(data_merged)\n",
        "data_merged[['search_term_cleaned', 'product_title_cleaned', 'hits_words_in_title']]\n"
      ],
      "execution_count": null,
      "outputs": [
        {
          "output_type": "execute_result",
          "data": {
            "text/html": [
              "<div>\n",
              "<style scoped>\n",
              "    .dataframe tbody tr th:only-of-type {\n",
              "        vertical-align: middle;\n",
              "    }\n",
              "\n",
              "    .dataframe tbody tr th {\n",
              "        vertical-align: top;\n",
              "    }\n",
              "\n",
              "    .dataframe thead th {\n",
              "        text-align: right;\n",
              "    }\n",
              "</style>\n",
              "<table border=\"1\" class=\"dataframe\">\n",
              "  <thead>\n",
              "    <tr style=\"text-align: right;\">\n",
              "      <th></th>\n",
              "      <th>search_term_cleaned</th>\n",
              "      <th>product_title_cleaned</th>\n",
              "      <th>hits_words_in_title</th>\n",
              "    </tr>\n",
              "  </thead>\n",
              "  <tbody>\n",
              "    <tr>\n",
              "      <th>0</th>\n",
              "      <td>angle bracket</td>\n",
              "      <td>simpson strongtie 12gauge angle</td>\n",
              "      <td>1</td>\n",
              "    </tr>\n",
              "    <tr>\n",
              "      <th>1</th>\n",
              "      <td>l bracket</td>\n",
              "      <td>simpson strongtie 12gauge angle</td>\n",
              "      <td>1</td>\n",
              "    </tr>\n",
              "    <tr>\n",
              "      <th>2</th>\n",
              "      <td>deck</td>\n",
              "      <td>behr premium textured deckover 1gal sc141 tugboat wood concrete coating</td>\n",
              "      <td>1</td>\n",
              "    </tr>\n",
              "    <tr>\n",
              "      <th>3</th>\n",
              "      <td>rain shower head</td>\n",
              "      <td>delta vero 1handle shower faucet trim kit chrome valve included</td>\n",
              "      <td>1</td>\n",
              "    </tr>\n",
              "    <tr>\n",
              "      <th>4</th>\n",
              "      <td>shower faucet</td>\n",
              "      <td>delta vero 1handle shower faucet trim kit chrome valve included</td>\n",
              "      <td>2</td>\n",
              "    </tr>\n",
              "    <tr>\n",
              "      <th>...</th>\n",
              "      <td>...</td>\n",
              "      <td>...</td>\n",
              "      <td>...</td>\n",
              "    </tr>\n",
              "    <tr>\n",
              "      <th>240755</th>\n",
              "      <td>24 whtie storage cabinet</td>\n",
              "      <td>stufurhome norma 24 w x 16 x 34 h linen storage floor cabinet white</td>\n",
              "      <td>3</td>\n",
              "    </tr>\n",
              "    <tr>\n",
              "      <th>240756</th>\n",
              "      <td>adirondeck cusion</td>\n",
              "      <td>home decorator collection 49 alessandro spiceberry polyester montauk adirondack bullnose outdoor...</td>\n",
              "      <td>0</td>\n",
              "    </tr>\n",
              "    <tr>\n",
              "      <th>240757</th>\n",
              "      <td>hb</td>\n",
              "      <td>simpson strongtie hb 312 x 14 top flange ijoist hanger</td>\n",
              "      <td>1</td>\n",
              "    </tr>\n",
              "    <tr>\n",
              "      <th>240758</th>\n",
              "      <td>hex socket</td>\n",
              "      <td>14 20 tpi x 112 stainless steel buttonhead internal hex socket cap screw 2 per pack</td>\n",
              "      <td>2</td>\n",
              "    </tr>\n",
              "    <tr>\n",
              "      <th>240759</th>\n",
              "      <td>4 inch hole saw</td>\n",
              "      <td>bosch 4 bimetal hole saw</td>\n",
              "      <td>3</td>\n",
              "    </tr>\n",
              "  </tbody>\n",
              "</table>\n",
              "<p>240760 rows × 3 columns</p>\n",
              "</div>"
            ],
            "text/plain": [
              "             search_term_cleaned  ... hits_words_in_title\n",
              "0                  angle bracket  ...                   1\n",
              "1                      l bracket  ...                   1\n",
              "2                           deck  ...                   1\n",
              "3               rain shower head  ...                   1\n",
              "4                  shower faucet  ...                   2\n",
              "...                          ...  ...                 ...\n",
              "240755  24 whtie storage cabinet  ...                   3\n",
              "240756         adirondeck cusion  ...                   0\n",
              "240757                        hb  ...                   1\n",
              "240758                hex socket  ...                   2\n",
              "240759           4 inch hole saw  ...                   3\n",
              "\n",
              "[240760 rows x 3 columns]"
            ]
          },
          "metadata": {
            "tags": []
          },
          "execution_count": 29
        }
      ]
    },
    {
      "cell_type": "code",
      "metadata": {
        "colab": {
          "base_uri": "https://localhost:8080/",
          "height": 391
        },
        "id": "Wb8S2vHb-T_u",
        "outputId": "02a61999-d023-4ae5-9583-2fb52bbf5df5"
      },
      "source": [
        "#\n",
        "# We add a new feature column with the number of search term words present in the product description \n",
        "#\n",
        "#data_merged['hits_words_in_description'] = (data_merged['search_term_cleaned'] + \"\\t\" + data_merged['product_description_cleaned']) \\\n",
        "#  .map(lambda x: count_hit_words(x.split('\\t')[0],x.split('\\t')[1]))\n",
        "\n",
        "def create_hits_words_in_description(data_frame):\n",
        "  data_frame['hits_words_in_description'] = (data_frame['search_term_cleaned'] + \"\\t\" + data_frame['product_description_cleaned']) \\\n",
        "  .map(lambda x: count_hit_words(x.split('\\t')[0],x.split('\\t')[1]))\n",
        "\n",
        "create_hits_words_in_description(data_merged)\n",
        "data_merged[['search_term_cleaned', 'product_description_cleaned', 'hits_words_in_description']]\n"
      ],
      "execution_count": null,
      "outputs": [
        {
          "output_type": "execute_result",
          "data": {
            "text/html": [
              "<div>\n",
              "<style scoped>\n",
              "    .dataframe tbody tr th:only-of-type {\n",
              "        vertical-align: middle;\n",
              "    }\n",
              "\n",
              "    .dataframe tbody tr th {\n",
              "        vertical-align: top;\n",
              "    }\n",
              "\n",
              "    .dataframe thead th {\n",
              "        text-align: right;\n",
              "    }\n",
              "</style>\n",
              "<table border=\"1\" class=\"dataframe\">\n",
              "  <thead>\n",
              "    <tr style=\"text-align: right;\">\n",
              "      <th></th>\n",
              "      <th>search_term_cleaned</th>\n",
              "      <th>product_description_cleaned</th>\n",
              "      <th>hits_words_in_description</th>\n",
              "    </tr>\n",
              "  </thead>\n",
              "  <tbody>\n",
              "    <tr>\n",
              "      <th>0</th>\n",
              "      <td>angle bracket</td>\n",
              "      <td>angle make joint stronger also provide consistent straight corner simpson strongtie offer wide v...</td>\n",
              "      <td>1</td>\n",
              "    </tr>\n",
              "    <tr>\n",
              "      <th>1</th>\n",
              "      <td>l bracket</td>\n",
              "      <td>angle make joint stronger also provide consistent straight corner simpson strongtie offer wide v...</td>\n",
              "      <td>1</td>\n",
              "    </tr>\n",
              "    <tr>\n",
              "      <th>2</th>\n",
              "      <td>deck</td>\n",
              "      <td>behr premium textured deckover innovative solid color coating bring old weathered wood concrete ...</td>\n",
              "      <td>1</td>\n",
              "    </tr>\n",
              "    <tr>\n",
              "      <th>3</th>\n",
              "      <td>rain shower head</td>\n",
              "      <td>update bathroom delta vero singlehandle shower faucet trim kit chrome sleek modern minimalistic ...</td>\n",
              "      <td>1</td>\n",
              "    </tr>\n",
              "    <tr>\n",
              "      <th>4</th>\n",
              "      <td>shower faucet</td>\n",
              "      <td>update bathroom delta vero singlehandle shower faucet trim kit chrome sleek modern minimalistic ...</td>\n",
              "      <td>2</td>\n",
              "    </tr>\n",
              "    <tr>\n",
              "      <th>...</th>\n",
              "      <td>...</td>\n",
              "      <td>...</td>\n",
              "      <td>...</td>\n",
              "    </tr>\n",
              "    <tr>\n",
              "      <th>240755</th>\n",
              "      <td>24 whtie storage cabinet</td>\n",
              "      <td>create neat yet stylish storage space organizing bathroom essential stufurhome norma 24 linen ca...</td>\n",
              "      <td>3</td>\n",
              "    </tr>\n",
              "    <tr>\n",
              "      <th>240756</th>\n",
              "      <td>adirondeck cusion</td>\n",
              "      <td>bullnose adirondack chair cushion fit adirondack chair loveseat requires two rocker offer variet...</td>\n",
              "      <td>0</td>\n",
              "    </tr>\n",
              "    <tr>\n",
              "      <th>240757</th>\n",
              "      <td>hb</td>\n",
              "      <td>joist hanger designed provide support underneath joist rafter beam provide strong connection sim...</td>\n",
              "      <td>1</td>\n",
              "    </tr>\n",
              "    <tr>\n",
              "      <th>240758</th>\n",
              "      <td>hex socket</td>\n",
              "      <td>socket cap screw ideal application require well tooled appearance broader bearing surface screw ...</td>\n",
              "      <td>2</td>\n",
              "    </tr>\n",
              "    <tr>\n",
              "      <th>240759</th>\n",
              "      <td>4 inch hole saw</td>\n",
              "      <td>bosch quick change bimetal hole saw feature progressor tooth geometry combining cutting teeth sp...</td>\n",
              "      <td>2</td>\n",
              "    </tr>\n",
              "  </tbody>\n",
              "</table>\n",
              "<p>240760 rows × 3 columns</p>\n",
              "</div>"
            ],
            "text/plain": [
              "             search_term_cleaned  ... hits_words_in_description\n",
              "0                  angle bracket  ...                         1\n",
              "1                      l bracket  ...                         1\n",
              "2                           deck  ...                         1\n",
              "3               rain shower head  ...                         1\n",
              "4                  shower faucet  ...                         2\n",
              "...                          ...  ...                       ...\n",
              "240755  24 whtie storage cabinet  ...                         3\n",
              "240756         adirondeck cusion  ...                         0\n",
              "240757                        hb  ...                         1\n",
              "240758                hex socket  ...                         2\n",
              "240759           4 inch hole saw  ...                         2\n",
              "\n",
              "[240760 rows x 3 columns]"
            ]
          },
          "metadata": {
            "tags": []
          },
          "execution_count": 30
        }
      ]
    },
    {
      "cell_type": "code",
      "metadata": {
        "colab": {
          "base_uri": "https://localhost:8080/",
          "height": 552
        },
        "id": "U95N9G-ADLJY",
        "outputId": "64e805bf-e2fa-4873-82e9-c4076b98bccc"
      },
      "source": [
        "#\n",
        "# It is the dataset with all features created until now\n",
        "#\n",
        "data_merged.head()"
      ],
      "execution_count": null,
      "outputs": [
        {
          "output_type": "execute_result",
          "data": {
            "text/html": [
              "<div>\n",
              "<style scoped>\n",
              "    .dataframe tbody tr th:only-of-type {\n",
              "        vertical-align: middle;\n",
              "    }\n",
              "\n",
              "    .dataframe tbody tr th {\n",
              "        vertical-align: top;\n",
              "    }\n",
              "\n",
              "    .dataframe thead th {\n",
              "        text-align: right;\n",
              "    }\n",
              "</style>\n",
              "<table border=\"1\" class=\"dataframe\">\n",
              "  <thead>\n",
              "    <tr style=\"text-align: right;\">\n",
              "      <th></th>\n",
              "      <th>id</th>\n",
              "      <th>product_uid</th>\n",
              "      <th>product_title</th>\n",
              "      <th>search_term</th>\n",
              "      <th>relevance</th>\n",
              "      <th>product_description</th>\n",
              "      <th>product_title_cleaned</th>\n",
              "      <th>search_term_cleaned</th>\n",
              "      <th>product_description_cleaned</th>\n",
              "      <th>seacrh_term_length</th>\n",
              "      <th>hits_words_in_title</th>\n",
              "      <th>hits_words_in_description</th>\n",
              "    </tr>\n",
              "  </thead>\n",
              "  <tbody>\n",
              "    <tr>\n",
              "      <th>0</th>\n",
              "      <td>2</td>\n",
              "      <td>100001</td>\n",
              "      <td>Simpson Strong-Tie 12-Gauge Angle</td>\n",
              "      <td>angle bracket</td>\n",
              "      <td>3.00</td>\n",
              "      <td>Not only do angles make joints stronger, they also provide more consistent, straight corners. Si...</td>\n",
              "      <td>simpson strongtie 12gauge angle</td>\n",
              "      <td>angle bracket</td>\n",
              "      <td>angle make joint stronger also provide consistent straight corner simpson strongtie offer wide v...</td>\n",
              "      <td>2</td>\n",
              "      <td>1</td>\n",
              "      <td>1</td>\n",
              "    </tr>\n",
              "    <tr>\n",
              "      <th>1</th>\n",
              "      <td>3</td>\n",
              "      <td>100001</td>\n",
              "      <td>Simpson Strong-Tie 12-Gauge Angle</td>\n",
              "      <td>l bracket</td>\n",
              "      <td>2.50</td>\n",
              "      <td>Not only do angles make joints stronger, they also provide more consistent, straight corners. Si...</td>\n",
              "      <td>simpson strongtie 12gauge angle</td>\n",
              "      <td>l bracket</td>\n",
              "      <td>angle make joint stronger also provide consistent straight corner simpson strongtie offer wide v...</td>\n",
              "      <td>2</td>\n",
              "      <td>1</td>\n",
              "      <td>1</td>\n",
              "    </tr>\n",
              "    <tr>\n",
              "      <th>2</th>\n",
              "      <td>9</td>\n",
              "      <td>100002</td>\n",
              "      <td>BEHR Premium Textured DeckOver 1-gal. #SC-141 Tugboat Wood and Concrete Coating</td>\n",
              "      <td>deck over</td>\n",
              "      <td>3.00</td>\n",
              "      <td>BEHR Premium Textured DECKOVER is an innovative solid color coating. It will bring your old, wea...</td>\n",
              "      <td>behr premium textured deckover 1gal sc141 tugboat wood concrete coating</td>\n",
              "      <td>deck</td>\n",
              "      <td>behr premium textured deckover innovative solid color coating bring old weathered wood concrete ...</td>\n",
              "      <td>2</td>\n",
              "      <td>1</td>\n",
              "      <td>1</td>\n",
              "    </tr>\n",
              "    <tr>\n",
              "      <th>3</th>\n",
              "      <td>16</td>\n",
              "      <td>100005</td>\n",
              "      <td>Delta Vero 1-Handle Shower Only Faucet Trim Kit in Chrome (Valve Not Included)</td>\n",
              "      <td>rain shower head</td>\n",
              "      <td>2.33</td>\n",
              "      <td>Update your bathroom with the Delta Vero Single-Handle Shower Faucet Trim Kit in Chrome. It has ...</td>\n",
              "      <td>delta vero 1handle shower faucet trim kit chrome valve included</td>\n",
              "      <td>rain shower head</td>\n",
              "      <td>update bathroom delta vero singlehandle shower faucet trim kit chrome sleek modern minimalistic ...</td>\n",
              "      <td>3</td>\n",
              "      <td>1</td>\n",
              "      <td>1</td>\n",
              "    </tr>\n",
              "    <tr>\n",
              "      <th>4</th>\n",
              "      <td>17</td>\n",
              "      <td>100005</td>\n",
              "      <td>Delta Vero 1-Handle Shower Only Faucet Trim Kit in Chrome (Valve Not Included)</td>\n",
              "      <td>shower only faucet</td>\n",
              "      <td>2.67</td>\n",
              "      <td>Update your bathroom with the Delta Vero Single-Handle Shower Faucet Trim Kit in Chrome. It has ...</td>\n",
              "      <td>delta vero 1handle shower faucet trim kit chrome valve included</td>\n",
              "      <td>shower faucet</td>\n",
              "      <td>update bathroom delta vero singlehandle shower faucet trim kit chrome sleek modern minimalistic ...</td>\n",
              "      <td>3</td>\n",
              "      <td>2</td>\n",
              "      <td>2</td>\n",
              "    </tr>\n",
              "  </tbody>\n",
              "</table>\n",
              "</div>"
            ],
            "text/plain": [
              "   id  product_uid  ... hits_words_in_title hits_words_in_description\n",
              "0   2       100001  ...                   1                         1\n",
              "1   3       100001  ...                   1                         1\n",
              "2   9       100002  ...                   1                         1\n",
              "3  16       100005  ...                   1                         1\n",
              "4  17       100005  ...                   2                         2\n",
              "\n",
              "[5 rows x 12 columns]"
            ]
          },
          "metadata": {
            "tags": []
          },
          "execution_count": 31
        }
      ]
    },
    {
      "cell_type": "code",
      "metadata": {
        "id": "eodrPtYyuLU7"
      },
      "source": [
        "def calculate_partial_ratio(text_a , text_b):\n",
        "    return fuzz.partial_ratio(text_a, text_b)\n",
        "\n",
        "def calculate_token_sort_ratio(text_a,text_b):\n",
        "    return fuzz.token_sort_ratio(text_a,text_b)"
      ],
      "execution_count": null,
      "outputs": []
    },
    {
      "cell_type": "code",
      "metadata": {
        "id": "ZDt85dopCFER"
      },
      "source": [
        "#\n",
        "# Calculate the ratio on 'search_term' and 'product_title' \n",
        "#\n",
        "# fuzzy_token_sort_ratio_in_title\n",
        "#search_term_plus_product_title = (data_merged['search_term_cleaned'] + \"\\t\" + data_merged['product_title_cleaned'])\n",
        "\n",
        "def create_ratio_in_title(data_frame):\n",
        "  search_term_plus_product_title = (data_frame['search_term_cleaned'] + \"\\t\" + data_frame['product_title_cleaned'])\n",
        "  data_frame['ratio_in_title'] = search_term_plus_product_title.map(lambda x: calculate_partial_ratio(x.split('\\t')[0],x.split('\\t')[1]))\n",
        "  data_frame['token_sort_ratio_in_title'] = search_term_plus_product_title.map(lambda x: calculate_token_sort_ratio(x.split('\\t')[0],x.split('\\t')[1]))\n",
        "\n",
        "create_ratio_in_title(data_merged)"
      ],
      "execution_count": null,
      "outputs": []
    },
    {
      "cell_type": "code",
      "metadata": {
        "id": "hs29aTdmHUoB"
      },
      "source": [
        "#\n",
        "# Calculate the ratio on 'search_term' and 'product_description' \n",
        "#\n",
        "\n",
        "def create_ratio_in_description(data_frame):\n",
        "  search_term_plus_product_description = (data_frame['search_term_cleaned'] + \"\\t\" + data_frame['product_description_cleaned'])\n",
        "  data_frame['ratio_in_description'] = search_term_plus_product_description.map(lambda x: calculate_partial_ratio(x.split('\\t')[0],x.split('\\t')[1]))\n",
        "  data_frame['token_sort_ratio_in_description'] = search_term_plus_product_description.map(lambda x: calculate_token_sort_ratio(x.split('\\t')[0],x.split('\\t')[1]))\n",
        "\n",
        "create_ratio_in_description(data_merged)"
      ],
      "execution_count": null,
      "outputs": []
    },
    {
      "cell_type": "code",
      "metadata": {
        "colab": {
          "base_uri": "https://localhost:8080/",
          "height": 272
        },
        "id": "OfZxiN_7J3TR",
        "outputId": "c4050164-9892-4cf1-c7f5-9d2dfd602496"
      },
      "source": [
        "data_merged[['search_term_cleaned', 'product_title_cleaned', \n",
        "             'product_description_cleaned', 'ratio_in_title', \n",
        "             'token_sort_ratio_in_title', 'ratio_in_description', \n",
        "             'token_sort_ratio_in_description']].head(5)"
      ],
      "execution_count": null,
      "outputs": [
        {
          "output_type": "execute_result",
          "data": {
            "text/html": [
              "<div>\n",
              "<style scoped>\n",
              "    .dataframe tbody tr th:only-of-type {\n",
              "        vertical-align: middle;\n",
              "    }\n",
              "\n",
              "    .dataframe tbody tr th {\n",
              "        vertical-align: top;\n",
              "    }\n",
              "\n",
              "    .dataframe thead th {\n",
              "        text-align: right;\n",
              "    }\n",
              "</style>\n",
              "<table border=\"1\" class=\"dataframe\">\n",
              "  <thead>\n",
              "    <tr style=\"text-align: right;\">\n",
              "      <th></th>\n",
              "      <th>search_term_cleaned</th>\n",
              "      <th>product_title_cleaned</th>\n",
              "      <th>product_description_cleaned</th>\n",
              "      <th>ratio_in_title</th>\n",
              "      <th>token_sort_ratio_in_title</th>\n",
              "      <th>ratio_in_description</th>\n",
              "      <th>token_sort_ratio_in_description</th>\n",
              "    </tr>\n",
              "  </thead>\n",
              "  <tbody>\n",
              "    <tr>\n",
              "      <th>0</th>\n",
              "      <td>angle bracket</td>\n",
              "      <td>simpson strongtie 12gauge angle</td>\n",
              "      <td>angle make joint stronger also provide consistent straight corner simpson strongtie offer wide v...</td>\n",
              "      <td>56</td>\n",
              "      <td>36</td>\n",
              "      <td>69</td>\n",
              "      <td>1</td>\n",
              "    </tr>\n",
              "    <tr>\n",
              "      <th>1</th>\n",
              "      <td>l bracket</td>\n",
              "      <td>simpson strongtie 12gauge angle</td>\n",
              "      <td>angle make joint stronger also provide consistent straight corner simpson strongtie offer wide v...</td>\n",
              "      <td>36</td>\n",
              "      <td>10</td>\n",
              "      <td>33</td>\n",
              "      <td>1</td>\n",
              "    </tr>\n",
              "    <tr>\n",
              "      <th>2</th>\n",
              "      <td>deck</td>\n",
              "      <td>behr premium textured deckover 1gal sc141 tugboat wood concrete coating</td>\n",
              "      <td>behr premium textured deckover innovative solid color coating bring old weathered wood concrete ...</td>\n",
              "      <td>100</td>\n",
              "      <td>11</td>\n",
              "      <td>0</td>\n",
              "      <td>0</td>\n",
              "    </tr>\n",
              "    <tr>\n",
              "      <th>3</th>\n",
              "      <td>rain shower head</td>\n",
              "      <td>delta vero 1handle shower faucet trim kit chrome valve included</td>\n",
              "      <td>update bathroom delta vero singlehandle shower faucet trim kit chrome sleek modern minimalistic ...</td>\n",
              "      <td>69</td>\n",
              "      <td>33</td>\n",
              "      <td>19</td>\n",
              "      <td>0</td>\n",
              "    </tr>\n",
              "    <tr>\n",
              "      <th>4</th>\n",
              "      <td>shower faucet</td>\n",
              "      <td>delta vero 1handle shower faucet trim kit chrome valve included</td>\n",
              "      <td>update bathroom delta vero singlehandle shower faucet trim kit chrome sleek modern minimalistic ...</td>\n",
              "      <td>100</td>\n",
              "      <td>34</td>\n",
              "      <td>100</td>\n",
              "      <td>0</td>\n",
              "    </tr>\n",
              "  </tbody>\n",
              "</table>\n",
              "</div>"
            ],
            "text/plain": [
              "  search_term_cleaned  ... token_sort_ratio_in_description\n",
              "0       angle bracket  ...                               1\n",
              "1           l bracket  ...                               1\n",
              "2                deck  ...                               0\n",
              "3    rain shower head  ...                               0\n",
              "4       shower faucet  ...                               0\n",
              "\n",
              "[5 rows x 7 columns]"
            ]
          },
          "metadata": {
            "tags": []
          },
          "execution_count": 35
        }
      ]
    },
    {
      "cell_type": "markdown",
      "metadata": {
        "id": "BFTrMc03EXyQ"
      },
      "source": [
        "# **Predictions models**\n",
        "\n",
        "We implemented four different models to predict the relevance value, which is the value used to return the ten top products recommended depends on what the user is looking for buying.\n",
        "\n",
        "\n",
        "*   Random forest regressor and Bagging regressor classifier\n",
        "*   XGboost\n",
        "*   XGboost and GridSearch CV\n",
        "*   Linear regression "
      ]
    },
    {
      "cell_type": "markdown",
      "metadata": {
        "id": "vmN_eXm4XzOZ"
      },
      "source": [
        "### **Random Forest Regressor and Bagging regressor classifier**\n",
        "\n",
        "The first model is focused on an ensemble method to combine the predictions of some base estimators built with a given learning algorithm to improve generalizability over a single estimator.\n",
        "\n",
        "There are two types:\n",
        "\n",
        "* Averaging methods are to build several estimators independently and then to \n",
        "average their predictions.\n",
        "\n",
        "* Boosting methods are built sequentially, and one tries to reduce the bias of the combined estimator. The motivation is to combine several weak models to produce a powerful ensemble."
      ]
    },
    {
      "cell_type": "code",
      "metadata": {
        "id": "wh4EN8K-Hpk5"
      },
      "source": [
        "# Split dataset for training and testing \n",
        "df_train = data_merged.iloc[:74067]\n",
        "df_test = data_merged[74067:]"
      ],
      "execution_count": null,
      "outputs": []
    },
    {
      "cell_type": "markdown",
      "metadata": {
        "id": "aKEMsOC8Vz84"
      },
      "source": [
        "Our target column in the dataset is the relevance value; therefore, we saved the values in a new variable. We are also removing the columns not needed for training the model. We'll use only the features extracted from them."
      ]
    },
    {
      "cell_type": "code",
      "metadata": {
        "id": "6V-p8aNnL7wl"
      },
      "source": [
        "# This is the target column\n",
        "y_train = df_train['relevance'].values"
      ],
      "execution_count": null,
      "outputs": []
    },
    {
      "cell_type": "code",
      "metadata": {
        "id": "UCFOElX_KxQE"
      },
      "source": [
        "# These columns must be removed before to train the model\n",
        "columns_to_remove = ['id',\n",
        "                     'product_title_cleaned',\n",
        "                     'search_term_cleaned',\n",
        "                     'product_description_cleaned',\n",
        "                     'search_term',\n",
        "                     'product_title',\n",
        "                     'product_description',\n",
        "                     'product_info' ,\n",
        "                     'relevance', \n",
        "                     'product_uid']"
      ],
      "execution_count": null,
      "outputs": []
    },
    {
      "cell_type": "code",
      "metadata": {
        "id": "fdxrXAizKQgM"
      },
      "source": [
        "# Convert values to numpy array\n",
        "X_train = df_train[[w for w in list(df_train.columns) if w not in columns_to_remove]].values\n",
        "X_test = df_test[[w for w in list(df_test.columns) if w not in columns_to_remove]].values"
      ],
      "execution_count": null,
      "outputs": []
    },
    {
      "cell_type": "markdown",
      "metadata": {
        "id": "Wlqf60XCV8ug"
      },
      "source": [
        "* We defined the random forest regressor; basically, it is a meta estimator that fits a number of classifying decision trees on various samples of the dataset and uses averaging to improve the predictive accuracy and control over-fitting.\n",
        "\n",
        "* We are using a simple configuration.\n",
        "Five thin estimators, it means the number of trees in the forest.\n",
        "The maximum depth of the tree is six.\n",
        "And  zero random state, it controls both the randomness of the bootstrapping."
      ]
    },
    {
      "cell_type": "code",
      "metadata": {
        "id": "qln7cODQKfKt"
      },
      "source": [
        "# Define the regressor model to be used with bagging classifier\n",
        "#\n",
        "# n_estimators: The number of trees in the forest.\n",
        "# max_depth: The maximum depth of the tree.\n",
        "# random_state: Controls both the randomness of the bootstrapping of the samples used when building trees (if bootstrap=True).\n",
        "randomForestRegressor = RandomForestRegressor(n_estimators=15, max_depth=6, random_state=0)"
      ],
      "execution_count": null,
      "outputs": []
    },
    {
      "cell_type": "markdown",
      "metadata": {
        "id": "NYuq_JQGWRhD"
      },
      "source": [
        "* The bagging regressor uses the random forest inside of this. It is to reduce the variance of a black box estimator introducing randomization into its construction procedure and then making an ensemble out of it."
      ]
    },
    {
      "cell_type": "code",
      "metadata": {
        "id": "HXB_KZUYgoTw"
      },
      "source": [
        "# Instance Bagging classifier\n",
        "bagging_classifier = BaggingRegressor(randomForestRegressor, n_estimators=45, max_samples=0.1, random_state=25)"
      ],
      "execution_count": null,
      "outputs": []
    },
    {
      "cell_type": "code",
      "metadata": {
        "colab": {
          "base_uri": "https://localhost:8080/"
        },
        "id": "1pkHb6uIKmrL",
        "outputId": "a7462586-da9c-4fa3-b1f7-2507d8088039"
      },
      "source": [
        "bagging_classifier.fit(X_train, y_train)"
      ],
      "execution_count": null,
      "outputs": [
        {
          "output_type": "execute_result",
          "data": {
            "text/plain": [
              "BaggingRegressor(base_estimator=RandomForestRegressor(bootstrap=True,\n",
              "                                                      ccp_alpha=0.0,\n",
              "                                                      criterion='mse',\n",
              "                                                      max_depth=6,\n",
              "                                                      max_features='auto',\n",
              "                                                      max_leaf_nodes=None,\n",
              "                                                      max_samples=None,\n",
              "                                                      min_impurity_decrease=0.0,\n",
              "                                                      min_impurity_split=None,\n",
              "                                                      min_samples_leaf=1,\n",
              "                                                      min_samples_split=2,\n",
              "                                                      min_weight_fraction_leaf=0.0,\n",
              "                                                      n_estimators=15,\n",
              "                                                      n_jobs=None,\n",
              "                                                      oob_score=False,\n",
              "                                                      random_state=0, verbose=0,\n",
              "                                                      warm_start=False),\n",
              "                 bootstrap=True, bootstrap_features=False, max_features=1.0,\n",
              "                 max_samples=0.1, n_estimators=45, n_jobs=None, oob_score=False,\n",
              "                 random_state=25, verbose=0, warm_start=False)"
            ]
          },
          "metadata": {
            "tags": []
          },
          "execution_count": 42
        }
      ]
    },
    {
      "cell_type": "code",
      "metadata": {
        "id": "irBcNnC4qEmP"
      },
      "source": [
        "# Predict X_test and X_train\n",
        "y_pred = bagging_classifier.predict(X_test)\n",
        "y_true_pred = bagging_classifier.predict(X_train)"
      ],
      "execution_count": null,
      "outputs": []
    },
    {
      "cell_type": "code",
      "metadata": {
        "id": "MWh3gXL-UBGf"
      },
      "source": [
        "# Print out the predictions from X_test and save it in a CSV file\n",
        "id_test = df_test['id']\n",
        "search_term_test = df_test['search_term']\n",
        "product_title_test = df_test['product_title']\n",
        "df_result_predictions = pd.DataFrame({\"id\": id_test, \"product_title\": product_title_test, \"search_term\": search_term_test, \"relevance\": y_pred})\n",
        "\n",
        "df_result_predictions.to_csv('prediction.csv',index=False)"
      ],
      "execution_count": null,
      "outputs": []
    },
    {
      "cell_type": "code",
      "metadata": {
        "colab": {
          "base_uri": "https://localhost:8080/",
          "height": 622
        },
        "id": "MSrpGYXoYo5T",
        "outputId": "e856de25-1bd5-4269-be3d-0c697d98ff8d"
      },
      "source": [
        "df_result_predictions.head(20)"
      ],
      "execution_count": null,
      "outputs": [
        {
          "output_type": "execute_result",
          "data": {
            "text/html": [
              "<div>\n",
              "<style scoped>\n",
              "    .dataframe tbody tr th:only-of-type {\n",
              "        vertical-align: middle;\n",
              "    }\n",
              "\n",
              "    .dataframe tbody tr th {\n",
              "        vertical-align: top;\n",
              "    }\n",
              "\n",
              "    .dataframe thead th {\n",
              "        text-align: right;\n",
              "    }\n",
              "</style>\n",
              "<table border=\"1\" class=\"dataframe\">\n",
              "  <thead>\n",
              "    <tr style=\"text-align: right;\">\n",
              "      <th></th>\n",
              "      <th>id</th>\n",
              "      <th>product_title</th>\n",
              "      <th>search_term</th>\n",
              "      <th>relevance</th>\n",
              "    </tr>\n",
              "  </thead>\n",
              "  <tbody>\n",
              "    <tr>\n",
              "      <th>74067</th>\n",
              "      <td>1</td>\n",
              "      <td>Simpson Strong-Tie 12-Gauge Angle</td>\n",
              "      <td>90 degree bracket</td>\n",
              "      <td>1.937627</td>\n",
              "    </tr>\n",
              "    <tr>\n",
              "      <th>74068</th>\n",
              "      <td>4</td>\n",
              "      <td>Simpson Strong-Tie 12-Gauge Angle</td>\n",
              "      <td>metal l brackets</td>\n",
              "      <td>1.954217</td>\n",
              "    </tr>\n",
              "    <tr>\n",
              "      <th>74069</th>\n",
              "      <td>5</td>\n",
              "      <td>Simpson Strong-Tie 12-Gauge Angle</td>\n",
              "      <td>simpson sku able</td>\n",
              "      <td>2.247986</td>\n",
              "    </tr>\n",
              "    <tr>\n",
              "      <th>74070</th>\n",
              "      <td>6</td>\n",
              "      <td>Simpson Strong-Tie 12-Gauge Angle</td>\n",
              "      <td>simpson strong  ties</td>\n",
              "      <td>2.715604</td>\n",
              "    </tr>\n",
              "    <tr>\n",
              "      <th>74071</th>\n",
              "      <td>7</td>\n",
              "      <td>Simpson Strong-Tie 12-Gauge Angle</td>\n",
              "      <td>simpson strong tie hcc668</td>\n",
              "      <td>2.443963</td>\n",
              "    </tr>\n",
              "    <tr>\n",
              "      <th>74072</th>\n",
              "      <td>8</td>\n",
              "      <td>Simpson Strong-Tie 12-Gauge Angle</td>\n",
              "      <td>wood connectors</td>\n",
              "      <td>2.099085</td>\n",
              "    </tr>\n",
              "    <tr>\n",
              "      <th>74073</th>\n",
              "      <td>10</td>\n",
              "      <td>STERLING Ensemble 33-1/4 in. x 60 in. x 75-1/4 in. Bath and Shower Kit with Right-Hand Drain in ...</td>\n",
              "      <td>bath and shower kit</td>\n",
              "      <td>2.606126</td>\n",
              "    </tr>\n",
              "    <tr>\n",
              "      <th>74074</th>\n",
              "      <td>11</td>\n",
              "      <td>STERLING Ensemble 33-1/4 in. x 60 in. x 75-1/4 in. Bath and Shower Kit with Right-Hand Drain in ...</td>\n",
              "      <td>bath drain kit</td>\n",
              "      <td>2.680943</td>\n",
              "    </tr>\n",
              "    <tr>\n",
              "      <th>74075</th>\n",
              "      <td>12</td>\n",
              "      <td>STERLING Ensemble 33-1/4 in. x 60 in. x 75-1/4 in. Bath and Shower Kit with Right-Hand Drain in ...</td>\n",
              "      <td>one piece tub shower</td>\n",
              "      <td>2.028236</td>\n",
              "    </tr>\n",
              "    <tr>\n",
              "      <th>74076</th>\n",
              "      <td>13</td>\n",
              "      <td>Grape Solar 265-Watt Polycrystalline Solar Panel (4-Pack)</td>\n",
              "      <td>solar panel</td>\n",
              "      <td>2.718711</td>\n",
              "    </tr>\n",
              "    <tr>\n",
              "      <th>74077</th>\n",
              "      <td>14</td>\n",
              "      <td>Delta Vero 1-Handle Shower Only Faucet Trim Kit in Chrome (Valve Not Included)</td>\n",
              "      <td>1 handle shower delta trim kit</td>\n",
              "      <td>2.593701</td>\n",
              "    </tr>\n",
              "    <tr>\n",
              "      <th>74078</th>\n",
              "      <td>15</td>\n",
              "      <td>Delta Vero 1-Handle Shower Only Faucet Trim Kit in Chrome (Valve Not Included)</td>\n",
              "      <td>delta ashland shower faucet</td>\n",
              "      <td>2.456229</td>\n",
              "    </tr>\n",
              "    <tr>\n",
              "      <th>74079</th>\n",
              "      <td>19</td>\n",
              "      <td>Whirlpool 1.9 cu. ft. Over the Range Convection Microwave in Stainless Steel with Sensor Cooking</td>\n",
              "      <td>cooking stove</td>\n",
              "      <td>2.473270</td>\n",
              "    </tr>\n",
              "    <tr>\n",
              "      <th>74080</th>\n",
              "      <td>22</td>\n",
              "      <td>Whirlpool 1.9 cu. ft. Over the Range Convection Microwave in Stainless Steel with Sensor Cooking</td>\n",
              "      <td>microwaves over range</td>\n",
              "      <td>2.298873</td>\n",
              "    </tr>\n",
              "    <tr>\n",
              "      <th>74081</th>\n",
              "      <td>24</td>\n",
              "      <td>Teks #10 1-1/2 in. External Hex Flange Hex-Head Self-Drilling Screws (90-Pack)</td>\n",
              "      <td>self tapping screws</td>\n",
              "      <td>2.472225</td>\n",
              "    </tr>\n",
              "    <tr>\n",
              "      <th>74082</th>\n",
              "      <td>25</td>\n",
              "      <td>House of Fara 3/4 in. x 3 in. x 8 ft. MDF Fluted Casing</td>\n",
              "      <td>3 1/20door casing</td>\n",
              "      <td>2.238517</td>\n",
              "    </tr>\n",
              "    <tr>\n",
              "      <th>74083</th>\n",
              "      <td>26</td>\n",
              "      <td>House of Fara 3/4 in. x 3 in. x 8 ft. MDF Fluted Casing</td>\n",
              "      <td>door trim</td>\n",
              "      <td>1.987792</td>\n",
              "    </tr>\n",
              "    <tr>\n",
              "      <th>74084</th>\n",
              "      <td>28</td>\n",
              "      <td>Valley View Industries Metal Stakes (4-Pack)</td>\n",
              "      <td>anchor stakes</td>\n",
              "      <td>2.464950</td>\n",
              "    </tr>\n",
              "    <tr>\n",
              "      <th>74085</th>\n",
              "      <td>29</td>\n",
              "      <td>Valley View Industries Metal Stakes (4-Pack)</td>\n",
              "      <td>landscape edging</td>\n",
              "      <td>2.139525</td>\n",
              "    </tr>\n",
              "    <tr>\n",
              "      <th>74086</th>\n",
              "      <td>30</td>\n",
              "      <td>Valley View Industries Metal Stakes (4-Pack)</td>\n",
              "      <td>lawn edging</td>\n",
              "      <td>2.140978</td>\n",
              "    </tr>\n",
              "  </tbody>\n",
              "</table>\n",
              "</div>"
            ],
            "text/plain": [
              "       id  ... relevance\n",
              "74067   1  ...  1.937627\n",
              "74068   4  ...  1.954217\n",
              "74069   5  ...  2.247986\n",
              "74070   6  ...  2.715604\n",
              "74071   7  ...  2.443963\n",
              "74072   8  ...  2.099085\n",
              "74073  10  ...  2.606126\n",
              "74074  11  ...  2.680943\n",
              "74075  12  ...  2.028236\n",
              "74076  13  ...  2.718711\n",
              "74077  14  ...  2.593701\n",
              "74078  15  ...  2.456229\n",
              "74079  19  ...  2.473270\n",
              "74080  22  ...  2.298873\n",
              "74081  24  ...  2.472225\n",
              "74082  25  ...  2.238517\n",
              "74083  26  ...  1.987792\n",
              "74084  28  ...  2.464950\n",
              "74085  29  ...  2.139525\n",
              "74086  30  ...  2.140978\n",
              "\n",
              "[20 rows x 4 columns]"
            ]
          },
          "metadata": {
            "tags": []
          },
          "execution_count": 45
        }
      ]
    },
    {
      "cell_type": "markdown",
      "metadata": {
        "id": "VBx0LkCHUD8Z"
      },
      "source": [
        "### **Xgboost**\n",
        "\n",
        "* It is an optimized distributed gradient boosting library designed to be highly efficient, flexible and portable. It implements machine learning algorithms under the Gradient Boosting framework. It is also used for solving many data science problems in a fast and accurate way."
      ]
    },
    {
      "cell_type": "code",
      "metadata": {
        "id": "Ipjjm7O-N_-P"
      },
      "source": [
        "import xgboost as xgb\n",
        "from sklearn.datasets import dump_svmlight_file\n",
        "from xgboost import plot_importance\n",
        "from sklearn.model_selection import KFold, train_test_split, GridSearchCV"
      ],
      "execution_count": null,
      "outputs": []
    },
    {
      "cell_type": "code",
      "metadata": {
        "id": "lSAUin_6sc14"
      },
      "source": [
        "# Columns selected to train the model\n",
        "columns_to_train = ['seacrh_term_length' , \n",
        "                    'hits_words_in_title', \n",
        "                    'hits_words_in_description' , \n",
        "                    'ratio_in_title', \n",
        "                    'ratio_in_description' , \n",
        "                    'token_sort_ratio_in_title' , \n",
        "                    'token_sort_ratio_in_description']"
      ],
      "execution_count": null,
      "outputs": []
    },
    {
      "cell_type": "code",
      "metadata": {
        "colab": {
          "base_uri": "https://localhost:8080/",
          "height": 391
        },
        "id": "tTrghpd4sf2m",
        "outputId": "7b6f668e-3515-46a4-b54a-e9f9a1dbce0b"
      },
      "source": [
        "# Y_train values\n",
        "y_train_xgb = df_train['relevance'].values\n",
        "\n",
        "# X_train and X_test\n",
        "X_train_xgb = df_train[columns_to_train]\n",
        "X_test_xgb = df_test[columns_to_train]\n",
        "X_test_xgb"
      ],
      "execution_count": null,
      "outputs": [
        {
          "output_type": "execute_result",
          "data": {
            "text/html": [
              "<div>\n",
              "<style scoped>\n",
              "    .dataframe tbody tr th:only-of-type {\n",
              "        vertical-align: middle;\n",
              "    }\n",
              "\n",
              "    .dataframe tbody tr th {\n",
              "        vertical-align: top;\n",
              "    }\n",
              "\n",
              "    .dataframe thead th {\n",
              "        text-align: right;\n",
              "    }\n",
              "</style>\n",
              "<table border=\"1\" class=\"dataframe\">\n",
              "  <thead>\n",
              "    <tr style=\"text-align: right;\">\n",
              "      <th></th>\n",
              "      <th>seacrh_term_length</th>\n",
              "      <th>hits_words_in_title</th>\n",
              "      <th>hits_words_in_description</th>\n",
              "      <th>ratio_in_title</th>\n",
              "      <th>ratio_in_description</th>\n",
              "      <th>token_sort_ratio_in_title</th>\n",
              "      <th>token_sort_ratio_in_description</th>\n",
              "    </tr>\n",
              "  </thead>\n",
              "  <tbody>\n",
              "    <tr>\n",
              "      <th>74067</th>\n",
              "      <td>3</td>\n",
              "      <td>0</td>\n",
              "      <td>1</td>\n",
              "      <td>29</td>\n",
              "      <td>29</td>\n",
              "      <td>12</td>\n",
              "      <td>2</td>\n",
              "    </tr>\n",
              "    <tr>\n",
              "      <th>74068</th>\n",
              "      <td>3</td>\n",
              "      <td>1</td>\n",
              "      <td>1</td>\n",
              "      <td>29</td>\n",
              "      <td>33</td>\n",
              "      <td>9</td>\n",
              "      <td>1</td>\n",
              "    </tr>\n",
              "    <tr>\n",
              "      <th>74069</th>\n",
              "      <td>3</td>\n",
              "      <td>1</td>\n",
              "      <td>1</td>\n",
              "      <td>56</td>\n",
              "      <td>31</td>\n",
              "      <td>55</td>\n",
              "      <td>1</td>\n",
              "    </tr>\n",
              "    <tr>\n",
              "      <th>74070</th>\n",
              "      <td>3</td>\n",
              "      <td>3</td>\n",
              "      <td>3</td>\n",
              "      <td>89</td>\n",
              "      <td>42</td>\n",
              "      <td>69</td>\n",
              "      <td>0</td>\n",
              "    </tr>\n",
              "    <tr>\n",
              "      <th>74071</th>\n",
              "      <td>4</td>\n",
              "      <td>3</td>\n",
              "      <td>3</td>\n",
              "      <td>72</td>\n",
              "      <td>44</td>\n",
              "      <td>64</td>\n",
              "      <td>0</td>\n",
              "    </tr>\n",
              "    <tr>\n",
              "      <th>...</th>\n",
              "      <td>...</td>\n",
              "      <td>...</td>\n",
              "      <td>...</td>\n",
              "      <td>...</td>\n",
              "      <td>...</td>\n",
              "      <td>...</td>\n",
              "      <td>...</td>\n",
              "    </tr>\n",
              "    <tr>\n",
              "      <th>240755</th>\n",
              "      <td>4</td>\n",
              "      <td>3</td>\n",
              "      <td>3</td>\n",
              "      <td>71</td>\n",
              "      <td>54</td>\n",
              "      <td>51</td>\n",
              "      <td>1</td>\n",
              "    </tr>\n",
              "    <tr>\n",
              "      <th>240756</th>\n",
              "      <td>2</td>\n",
              "      <td>0</td>\n",
              "      <td>0</td>\n",
              "      <td>71</td>\n",
              "      <td>71</td>\n",
              "      <td>25</td>\n",
              "      <td>1</td>\n",
              "    </tr>\n",
              "    <tr>\n",
              "      <th>240757</th>\n",
              "      <td>1</td>\n",
              "      <td>1</td>\n",
              "      <td>1</td>\n",
              "      <td>100</td>\n",
              "      <td>0</td>\n",
              "      <td>7</td>\n",
              "      <td>0</td>\n",
              "    </tr>\n",
              "    <tr>\n",
              "      <th>240758</th>\n",
              "      <td>2</td>\n",
              "      <td>2</td>\n",
              "      <td>2</td>\n",
              "      <td>100</td>\n",
              "      <td>80</td>\n",
              "      <td>22</td>\n",
              "      <td>4</td>\n",
              "    </tr>\n",
              "    <tr>\n",
              "      <th>240759</th>\n",
              "      <td>4</td>\n",
              "      <td>3</td>\n",
              "      <td>2</td>\n",
              "      <td>67</td>\n",
              "      <td>67</td>\n",
              "      <td>51</td>\n",
              "      <td>2</td>\n",
              "    </tr>\n",
              "  </tbody>\n",
              "</table>\n",
              "<p>166693 rows × 7 columns</p>\n",
              "</div>"
            ],
            "text/plain": [
              "        seacrh_term_length  ...  token_sort_ratio_in_description\n",
              "74067                    3  ...                                2\n",
              "74068                    3  ...                                1\n",
              "74069                    3  ...                                1\n",
              "74070                    3  ...                                0\n",
              "74071                    4  ...                                0\n",
              "...                    ...  ...                              ...\n",
              "240755                   4  ...                                1\n",
              "240756                   2  ...                                1\n",
              "240757                   1  ...                                0\n",
              "240758                   2  ...                                4\n",
              "240759                   4  ...                                2\n",
              "\n",
              "[166693 rows x 7 columns]"
            ]
          },
          "metadata": {
            "tags": []
          },
          "execution_count": 48
        }
      ]
    },
    {
      "cell_type": "markdown",
      "metadata": {
        "id": "HC9wk2_QWlUo"
      },
      "source": [
        "* To create the Xgboost regressor, we have defined the six value as the maximum \n",
        "depth of a tree, and we kept the default value for the estimators. We also try to find a better configuration in the next step."
      ]
    },
    {
      "cell_type": "code",
      "metadata": {
        "id": "_JsPWiRYPK_7"
      },
      "source": [
        "# Instance XGboost regressor\n",
        "#\n",
        "# max_depth: Maximum depth of a tree. Increasing this value will make the model more complex and more likely to overfit.\n",
        "# n_estimators: The number of trees (or rounds) in an XGBoost model is specified to the XGBClassifier or XGBRegressor class in the n_estimators argument. The default in the XGBoost library is 100.\n",
        "#\n",
        "xgboost_regressor = xgb.XGBRegressor(max_depth = 6, n_estimators = 50)"
      ],
      "execution_count": null,
      "outputs": []
    },
    {
      "cell_type": "markdown",
      "metadata": {
        "id": "QHNPJczsWyTx"
      },
      "source": [
        "\n",
        "\n",
        "* We run the fit method on the model.\n",
        "After that, we predict the values of X_train data.\n",
        "On this model, we computed the Root Mean Square Error (RMSE) \n",
        "Basically, it is the standard deviation of the residuals or (prediction errors).\n",
        "\n",
        "\n"
      ]
    },
    {
      "cell_type": "code",
      "metadata": {
        "colab": {
          "base_uri": "https://localhost:8080/"
        },
        "id": "qEy8-kl_tX2y",
        "outputId": "ea3ce704-493e-4a15-b63f-1f1ca4dc6283"
      },
      "source": [
        "# Fit the model\n",
        "xgboost_regressor.fit(X_train_xgb , y_train_xgb)"
      ],
      "execution_count": null,
      "outputs": [
        {
          "output_type": "stream",
          "text": [
            "[16:59:23] WARNING: /workspace/src/objective/regression_obj.cu:152: reg:linear is now deprecated in favor of reg:squarederror.\n"
          ],
          "name": "stdout"
        },
        {
          "output_type": "execute_result",
          "data": {
            "text/plain": [
              "XGBRegressor(base_score=0.5, booster='gbtree', colsample_bylevel=1,\n",
              "             colsample_bynode=1, colsample_bytree=1, gamma=0,\n",
              "             importance_type='gain', learning_rate=0.1, max_delta_step=0,\n",
              "             max_depth=6, min_child_weight=1, missing=None, n_estimators=50,\n",
              "             n_jobs=1, nthread=None, objective='reg:linear', random_state=0,\n",
              "             reg_alpha=0, reg_lambda=1, scale_pos_weight=1, seed=None,\n",
              "             silent=None, subsample=1, verbosity=1)"
            ]
          },
          "metadata": {
            "tags": []
          },
          "execution_count": 50
        }
      ]
    },
    {
      "cell_type": "code",
      "metadata": {
        "id": "EKevL9EbPWBd"
      },
      "source": [
        "# predict X_train\n",
        "y_true_xbg_pred = xgboost_regressor.predict(X_train_xgb)"
      ],
      "execution_count": null,
      "outputs": []
    },
    {
      "cell_type": "code",
      "metadata": {
        "colab": {
          "base_uri": "https://localhost:8080/"
        },
        "id": "Q8wZOCXNvL-Y",
        "outputId": "834d2b0c-868a-46b9-b884-f99f0f381767"
      },
      "source": [
        "# Compute the Root Mean Square Error\n",
        "rmse = np.sqrt(((y_train_xgb - y_true_xbg_pred) ** 2).mean())\n",
        "print ('Root Mean Square Error using XGBoost Regressor: ', rmse)"
      ],
      "execution_count": null,
      "outputs": [
        {
          "output_type": "stream",
          "text": [
            "Root Mean Square Error using XGBoost Regressor:  0.46922773076236396\n"
          ],
          "name": "stdout"
        }
      ]
    },
    {
      "cell_type": "markdown",
      "metadata": {
        "id": "3I6zTm76W5XL"
      },
      "source": [
        "* XGboost also allows us to see the feature importance with the function plot_importance. Here, we can see that the three most crucial features, token_sort_ratio_in_tittle, ratio_in_description, and ratio_in_title. Now, we print out the prediction result."
      ]
    },
    {
      "cell_type": "code",
      "metadata": {
        "colab": {
          "base_uri": "https://localhost:8080/",
          "height": 311
        },
        "id": "xb8No_lTPvdk",
        "outputId": "2564d7ea-50ef-491d-f134-ffefe4337335"
      },
      "source": [
        "# XGBoost allows us print out the feature importance \n",
        "plot_importance(xgboost_regressor)"
      ],
      "execution_count": null,
      "outputs": [
        {
          "output_type": "execute_result",
          "data": {
            "text/plain": [
              "<matplotlib.axes._subplots.AxesSubplot at 0x7f3c94827d10>"
            ]
          },
          "metadata": {
            "tags": []
          },
          "execution_count": 53
        },
        {
          "output_type": "display_data",
          "data": {
            "image/png": "[encoded data removed]",
            "text/plain": [
              "<Figure size 432x288 with 1 Axes>"
            ]
          },
          "metadata": {
            "tags": []
          }
        }
      ]
    },
    {
      "cell_type": "code",
      "metadata": {
        "id": "4n9FSnmpyRkt"
      },
      "source": [
        "# predict X_test\n",
        "y_pred_xgb = xgboost_regressor.predict(X_test_xgb)"
      ],
      "execution_count": null,
      "outputs": []
    },
    {
      "cell_type": "code",
      "metadata": {
        "id": "ttL0f7FlP8-k"
      },
      "source": [
        "id_test = df_test['id']\n",
        "search_term_test = df_test['search_term']\n",
        "product_title_test = df_test['product_title']\n",
        "df_result_predictions_xgb = pd.DataFrame({\"id\": id_test, \"product_title\": product_title_test, \"search_term\": search_term_test, \"relevance\": y_pred_xgb})\n",
        "\n",
        "df_result_predictions_xgb.to_csv('prediction_xgb.csv',index=False)"
      ],
      "execution_count": null,
      "outputs": []
    },
    {
      "cell_type": "code",
      "metadata": {
        "colab": {
          "base_uri": "https://localhost:8080/",
          "height": 622
        },
        "id": "QULcM_U0S5ga",
        "outputId": "e5681c3b-99a5-462a-bfda-b214e9415ec5"
      },
      "source": [
        "df_result_predictions_xgb.head(20)"
      ],
      "execution_count": null,
      "outputs": [
        {
          "output_type": "execute_result",
          "data": {
            "text/html": [
              "<div>\n",
              "<style scoped>\n",
              "    .dataframe tbody tr th:only-of-type {\n",
              "        vertical-align: middle;\n",
              "    }\n",
              "\n",
              "    .dataframe tbody tr th {\n",
              "        vertical-align: top;\n",
              "    }\n",
              "\n",
              "    .dataframe thead th {\n",
              "        text-align: right;\n",
              "    }\n",
              "</style>\n",
              "<table border=\"1\" class=\"dataframe\">\n",
              "  <thead>\n",
              "    <tr style=\"text-align: right;\">\n",
              "      <th></th>\n",
              "      <th>id</th>\n",
              "      <th>product_title</th>\n",
              "      <th>search_term</th>\n",
              "      <th>relevance</th>\n",
              "    </tr>\n",
              "  </thead>\n",
              "  <tbody>\n",
              "    <tr>\n",
              "      <th>74067</th>\n",
              "      <td>1</td>\n",
              "      <td>Simpson Strong-Tie 12-Gauge Angle</td>\n",
              "      <td>90 degree bracket</td>\n",
              "      <td>1.808156</td>\n",
              "    </tr>\n",
              "    <tr>\n",
              "      <th>74068</th>\n",
              "      <td>4</td>\n",
              "      <td>Simpson Strong-Tie 12-Gauge Angle</td>\n",
              "      <td>metal l brackets</td>\n",
              "      <td>1.875739</td>\n",
              "    </tr>\n",
              "    <tr>\n",
              "      <th>74069</th>\n",
              "      <td>5</td>\n",
              "      <td>Simpson Strong-Tie 12-Gauge Angle</td>\n",
              "      <td>simpson sku able</td>\n",
              "      <td>2.259676</td>\n",
              "    </tr>\n",
              "    <tr>\n",
              "      <th>74070</th>\n",
              "      <td>6</td>\n",
              "      <td>Simpson Strong-Tie 12-Gauge Angle</td>\n",
              "      <td>simpson strong  ties</td>\n",
              "      <td>2.694372</td>\n",
              "    </tr>\n",
              "    <tr>\n",
              "      <th>74071</th>\n",
              "      <td>7</td>\n",
              "      <td>Simpson Strong-Tie 12-Gauge Angle</td>\n",
              "      <td>simpson strong tie hcc668</td>\n",
              "      <td>2.458611</td>\n",
              "    </tr>\n",
              "    <tr>\n",
              "      <th>74072</th>\n",
              "      <td>8</td>\n",
              "      <td>Simpson Strong-Tie 12-Gauge Angle</td>\n",
              "      <td>wood connectors</td>\n",
              "      <td>2.147903</td>\n",
              "    </tr>\n",
              "    <tr>\n",
              "      <th>74073</th>\n",
              "      <td>10</td>\n",
              "      <td>STERLING Ensemble 33-1/4 in. x 60 in. x 75-1/4 in. Bath and Shower Kit with Right-Hand Drain in ...</td>\n",
              "      <td>bath and shower kit</td>\n",
              "      <td>2.437069</td>\n",
              "    </tr>\n",
              "    <tr>\n",
              "      <th>74074</th>\n",
              "      <td>11</td>\n",
              "      <td>STERLING Ensemble 33-1/4 in. x 60 in. x 75-1/4 in. Bath and Shower Kit with Right-Hand Drain in ...</td>\n",
              "      <td>bath drain kit</td>\n",
              "      <td>2.587057</td>\n",
              "    </tr>\n",
              "    <tr>\n",
              "      <th>74075</th>\n",
              "      <td>12</td>\n",
              "      <td>STERLING Ensemble 33-1/4 in. x 60 in. x 75-1/4 in. Bath and Shower Kit with Right-Hand Drain in ...</td>\n",
              "      <td>one piece tub shower</td>\n",
              "      <td>1.928386</td>\n",
              "    </tr>\n",
              "    <tr>\n",
              "      <th>74076</th>\n",
              "      <td>13</td>\n",
              "      <td>Grape Solar 265-Watt Polycrystalline Solar Panel (4-Pack)</td>\n",
              "      <td>solar panel</td>\n",
              "      <td>2.709614</td>\n",
              "    </tr>\n",
              "    <tr>\n",
              "      <th>74077</th>\n",
              "      <td>14</td>\n",
              "      <td>Delta Vero 1-Handle Shower Only Faucet Trim Kit in Chrome (Valve Not Included)</td>\n",
              "      <td>1 handle shower delta trim kit</td>\n",
              "      <td>2.555661</td>\n",
              "    </tr>\n",
              "    <tr>\n",
              "      <th>74078</th>\n",
              "      <td>15</td>\n",
              "      <td>Delta Vero 1-Handle Shower Only Faucet Trim Kit in Chrome (Valve Not Included)</td>\n",
              "      <td>delta ashland shower faucet</td>\n",
              "      <td>2.452032</td>\n",
              "    </tr>\n",
              "    <tr>\n",
              "      <th>74079</th>\n",
              "      <td>19</td>\n",
              "      <td>Whirlpool 1.9 cu. ft. Over the Range Convection Microwave in Stainless Steel with Sensor Cooking</td>\n",
              "      <td>cooking stove</td>\n",
              "      <td>2.438929</td>\n",
              "    </tr>\n",
              "    <tr>\n",
              "      <th>74080</th>\n",
              "      <td>22</td>\n",
              "      <td>Whirlpool 1.9 cu. ft. Over the Range Convection Microwave in Stainless Steel with Sensor Cooking</td>\n",
              "      <td>microwaves over range</td>\n",
              "      <td>2.320803</td>\n",
              "    </tr>\n",
              "    <tr>\n",
              "      <th>74081</th>\n",
              "      <td>24</td>\n",
              "      <td>Teks #10 1-1/2 in. External Hex Flange Hex-Head Self-Drilling Screws (90-Pack)</td>\n",
              "      <td>self tapping screws</td>\n",
              "      <td>2.509267</td>\n",
              "    </tr>\n",
              "    <tr>\n",
              "      <th>74082</th>\n",
              "      <td>25</td>\n",
              "      <td>House of Fara 3/4 in. x 3 in. x 8 ft. MDF Fluted Casing</td>\n",
              "      <td>3 1/20door casing</td>\n",
              "      <td>2.237546</td>\n",
              "    </tr>\n",
              "    <tr>\n",
              "      <th>74083</th>\n",
              "      <td>26</td>\n",
              "      <td>House of Fara 3/4 in. x 3 in. x 8 ft. MDF Fluted Casing</td>\n",
              "      <td>door trim</td>\n",
              "      <td>2.017433</td>\n",
              "    </tr>\n",
              "    <tr>\n",
              "      <th>74084</th>\n",
              "      <td>28</td>\n",
              "      <td>Valley View Industries Metal Stakes (4-Pack)</td>\n",
              "      <td>anchor stakes</td>\n",
              "      <td>2.534814</td>\n",
              "    </tr>\n",
              "    <tr>\n",
              "      <th>74085</th>\n",
              "      <td>29</td>\n",
              "      <td>Valley View Industries Metal Stakes (4-Pack)</td>\n",
              "      <td>landscape edging</td>\n",
              "      <td>2.166931</td>\n",
              "    </tr>\n",
              "    <tr>\n",
              "      <th>74086</th>\n",
              "      <td>30</td>\n",
              "      <td>Valley View Industries Metal Stakes (4-Pack)</td>\n",
              "      <td>lawn edging</td>\n",
              "      <td>2.138198</td>\n",
              "    </tr>\n",
              "  </tbody>\n",
              "</table>\n",
              "</div>"
            ],
            "text/plain": [
              "       id  ... relevance\n",
              "74067   1  ...  1.808156\n",
              "74068   4  ...  1.875739\n",
              "74069   5  ...  2.259676\n",
              "74070   6  ...  2.694372\n",
              "74071   7  ...  2.458611\n",
              "74072   8  ...  2.147903\n",
              "74073  10  ...  2.437069\n",
              "74074  11  ...  2.587057\n",
              "74075  12  ...  1.928386\n",
              "74076  13  ...  2.709614\n",
              "74077  14  ...  2.555661\n",
              "74078  15  ...  2.452032\n",
              "74079  19  ...  2.438929\n",
              "74080  22  ...  2.320803\n",
              "74081  24  ...  2.509267\n",
              "74082  25  ...  2.237546\n",
              "74083  26  ...  2.017433\n",
              "74084  28  ...  2.534814\n",
              "74085  29  ...  2.166931\n",
              "74086  30  ...  2.138198\n",
              "\n",
              "[20 rows x 4 columns]"
            ]
          },
          "metadata": {
            "tags": []
          },
          "execution_count": 56
        }
      ]
    },
    {
      "cell_type": "markdown",
      "metadata": {
        "id": "15TUY09FvrWp"
      },
      "source": [
        "### **XGboost with GridSearch**\n",
        "\n",
        "* What is GridSearch?\n",
        "It is a tuning technique that attempts to compute the optimum values of hyperparameters. It is an exhaustive search that is performed on the specific parameter values of a model. "
      ]
    },
    {
      "cell_type": "code",
      "metadata": {
        "id": "WCxB8NzznWGp"
      },
      "source": [
        "# New XGboost regressor for using GridSearch\n",
        "xgb_model = xgb.XGBRegressor(objective='reg:squarederror')"
      ],
      "execution_count": null,
      "outputs": []
    },
    {
      "cell_type": "markdown",
      "metadata": {
        "id": "xkamI5z4XGGk"
      },
      "source": [
        "In this case, we want to test next configurations: \n",
        "* max_depth with the value 2,4,6,8\n",
        "* estimators: 20, 50, 80, 100"
      ]
    },
    {
      "cell_type": "code",
      "metadata": {
        "id": "gYVLKyEmzWnI"
      },
      "source": [
        "# GridSearch configuration\n",
        "grid_search_cv_clf = GridSearchCV(xgb_model,\n",
        "                   {'max_depth': [2,4,6,8],\n",
        "                    'n_estimators': [20,50,80,100]}, verbose=1)"
      ],
      "execution_count": null,
      "outputs": []
    },
    {
      "cell_type": "code",
      "metadata": {
        "colab": {
          "base_uri": "https://localhost:8080/"
        },
        "id": "IpAr3ek4zaAM",
        "outputId": "3f082173-e8a2-4422-b723-d0e1f175ae03"
      },
      "source": [
        "# Fit model with GridSearch\n",
        "grid_search_cv_clf.fit(X_train_xgb , y_train_xgb)\n",
        "\n",
        "print(f'Best score: {grid_search_cv_clf.best_score_}')\n",
        "print(f'Best params: {grid_search_cv_clf.best_params_}')"
      ],
      "execution_count": null,
      "outputs": [
        {
          "output_type": "stream",
          "text": [
            "Fitting 5 folds for each of 16 candidates, totalling 80 fits\n"
          ],
          "name": "stdout"
        },
        {
          "output_type": "stream",
          "text": [
            "[Parallel(n_jobs=1)]: Using backend SequentialBackend with 1 concurrent workers.\n",
            "[Parallel(n_jobs=1)]: Done  80 out of  80 | elapsed:  2.5min finished\n"
          ],
          "name": "stderr"
        },
        {
          "output_type": "stream",
          "text": [
            "Best score: 0.1766636852613589\n",
            "Best params: {'max_depth': 6, 'n_estimators': 80}\n"
          ],
          "name": "stdout"
        }
      ]
    },
    {
      "cell_type": "code",
      "metadata": {
        "colab": {
          "base_uri": "https://localhost:8080/"
        },
        "id": "00yIkIVapbTc",
        "outputId": "e92543b9-076d-4519-cff6-0e4e56819ae7"
      },
      "source": [
        "# Predict X_train\n",
        "y_true_pred = grid_search_cv_clf.predict(X_train_xgb)\n",
        "print ('Root Mean Square Error for all features using XGboost and GridSearch : ' , np.sqrt(((y_train - y_true_pred) ** 2).mean()))"
      ],
      "execution_count": null,
      "outputs": [
        {
          "output_type": "stream",
          "text": [
            "Root Mean Square Error for all features using XGboost and GridSearch :  0.46694249691006207\n"
          ],
          "name": "stdout"
        }
      ]
    },
    {
      "cell_type": "code",
      "metadata": {
        "colab": {
          "base_uri": "https://localhost:8080/",
          "height": 622
        },
        "id": "t_7HFMIQqe6Q",
        "outputId": "d0e4eadd-bb5a-4597-c56a-278088f3845f"
      },
      "source": [
        "# Predict X_test\n",
        "y_pred_xgb_2 = grid_search_cv_clf.predict(X_test_xgb)\n",
        "\n",
        "# Print out the X_test prediction\n",
        "id_test = df_test['id']\n",
        "search_term_test = df_test['search_term']\n",
        "product_title_test = df_test['product_title']\n",
        "df_result_predictions_xgb_2 = pd.DataFrame({\"id\": id_test, \"product_title\": product_title_test, \"search_term\": search_term_test, \"relevance\": y_pred_xgb_2})\n",
        "\n",
        "df_result_predictions_xgb_2.to_csv('prediction_xgb_2.csv',index=False)\n",
        "df_result_predictions_xgb_2.head(20)"
      ],
      "execution_count": null,
      "outputs": [
        {
          "output_type": "execute_result",
          "data": {
            "text/html": [
              "<div>\n",
              "<style scoped>\n",
              "    .dataframe tbody tr th:only-of-type {\n",
              "        vertical-align: middle;\n",
              "    }\n",
              "\n",
              "    .dataframe tbody tr th {\n",
              "        vertical-align: top;\n",
              "    }\n",
              "\n",
              "    .dataframe thead th {\n",
              "        text-align: right;\n",
              "    }\n",
              "</style>\n",
              "<table border=\"1\" class=\"dataframe\">\n",
              "  <thead>\n",
              "    <tr style=\"text-align: right;\">\n",
              "      <th></th>\n",
              "      <th>id</th>\n",
              "      <th>product_title</th>\n",
              "      <th>search_term</th>\n",
              "      <th>relevance</th>\n",
              "    </tr>\n",
              "  </thead>\n",
              "  <tbody>\n",
              "    <tr>\n",
              "      <th>74067</th>\n",
              "      <td>1</td>\n",
              "      <td>Simpson Strong-Tie 12-Gauge Angle</td>\n",
              "      <td>90 degree bracket</td>\n",
              "      <td>1.780935</td>\n",
              "    </tr>\n",
              "    <tr>\n",
              "      <th>74068</th>\n",
              "      <td>4</td>\n",
              "      <td>Simpson Strong-Tie 12-Gauge Angle</td>\n",
              "      <td>metal l brackets</td>\n",
              "      <td>1.849127</td>\n",
              "    </tr>\n",
              "    <tr>\n",
              "      <th>74069</th>\n",
              "      <td>5</td>\n",
              "      <td>Simpson Strong-Tie 12-Gauge Angle</td>\n",
              "      <td>simpson sku able</td>\n",
              "      <td>2.270561</td>\n",
              "    </tr>\n",
              "    <tr>\n",
              "      <th>74070</th>\n",
              "      <td>6</td>\n",
              "      <td>Simpson Strong-Tie 12-Gauge Angle</td>\n",
              "      <td>simpson strong  ties</td>\n",
              "      <td>2.704687</td>\n",
              "    </tr>\n",
              "    <tr>\n",
              "      <th>74071</th>\n",
              "      <td>7</td>\n",
              "      <td>Simpson Strong-Tie 12-Gauge Angle</td>\n",
              "      <td>simpson strong tie hcc668</td>\n",
              "      <td>2.470907</td>\n",
              "    </tr>\n",
              "    <tr>\n",
              "      <th>74072</th>\n",
              "      <td>8</td>\n",
              "      <td>Simpson Strong-Tie 12-Gauge Angle</td>\n",
              "      <td>wood connectors</td>\n",
              "      <td>2.154611</td>\n",
              "    </tr>\n",
              "    <tr>\n",
              "      <th>74073</th>\n",
              "      <td>10</td>\n",
              "      <td>STERLING Ensemble 33-1/4 in. x 60 in. x 75-1/4 in. Bath and Shower Kit with Right-Hand Drain in ...</td>\n",
              "      <td>bath and shower kit</td>\n",
              "      <td>2.432305</td>\n",
              "    </tr>\n",
              "    <tr>\n",
              "      <th>74074</th>\n",
              "      <td>11</td>\n",
              "      <td>STERLING Ensemble 33-1/4 in. x 60 in. x 75-1/4 in. Bath and Shower Kit with Right-Hand Drain in ...</td>\n",
              "      <td>bath drain kit</td>\n",
              "      <td>2.603167</td>\n",
              "    </tr>\n",
              "    <tr>\n",
              "      <th>74075</th>\n",
              "      <td>12</td>\n",
              "      <td>STERLING Ensemble 33-1/4 in. x 60 in. x 75-1/4 in. Bath and Shower Kit with Right-Hand Drain in ...</td>\n",
              "      <td>one piece tub shower</td>\n",
              "      <td>1.932534</td>\n",
              "    </tr>\n",
              "    <tr>\n",
              "      <th>74076</th>\n",
              "      <td>13</td>\n",
              "      <td>Grape Solar 265-Watt Polycrystalline Solar Panel (4-Pack)</td>\n",
              "      <td>solar panel</td>\n",
              "      <td>2.724416</td>\n",
              "    </tr>\n",
              "    <tr>\n",
              "      <th>74077</th>\n",
              "      <td>14</td>\n",
              "      <td>Delta Vero 1-Handle Shower Only Faucet Trim Kit in Chrome (Valve Not Included)</td>\n",
              "      <td>1 handle shower delta trim kit</td>\n",
              "      <td>2.638628</td>\n",
              "    </tr>\n",
              "    <tr>\n",
              "      <th>74078</th>\n",
              "      <td>15</td>\n",
              "      <td>Delta Vero 1-Handle Shower Only Faucet Trim Kit in Chrome (Valve Not Included)</td>\n",
              "      <td>delta ashland shower faucet</td>\n",
              "      <td>2.457585</td>\n",
              "    </tr>\n",
              "    <tr>\n",
              "      <th>74079</th>\n",
              "      <td>19</td>\n",
              "      <td>Whirlpool 1.9 cu. ft. Over the Range Convection Microwave in Stainless Steel with Sensor Cooking</td>\n",
              "      <td>cooking stove</td>\n",
              "      <td>2.447374</td>\n",
              "    </tr>\n",
              "    <tr>\n",
              "      <th>74080</th>\n",
              "      <td>22</td>\n",
              "      <td>Whirlpool 1.9 cu. ft. Over the Range Convection Microwave in Stainless Steel with Sensor Cooking</td>\n",
              "      <td>microwaves over range</td>\n",
              "      <td>2.327665</td>\n",
              "    </tr>\n",
              "    <tr>\n",
              "      <th>74081</th>\n",
              "      <td>24</td>\n",
              "      <td>Teks #10 1-1/2 in. External Hex Flange Hex-Head Self-Drilling Screws (90-Pack)</td>\n",
              "      <td>self tapping screws</td>\n",
              "      <td>2.521932</td>\n",
              "    </tr>\n",
              "    <tr>\n",
              "      <th>74082</th>\n",
              "      <td>25</td>\n",
              "      <td>House of Fara 3/4 in. x 3 in. x 8 ft. MDF Fluted Casing</td>\n",
              "      <td>3 1/20door casing</td>\n",
              "      <td>2.243075</td>\n",
              "    </tr>\n",
              "    <tr>\n",
              "      <th>74083</th>\n",
              "      <td>26</td>\n",
              "      <td>House of Fara 3/4 in. x 3 in. x 8 ft. MDF Fluted Casing</td>\n",
              "      <td>door trim</td>\n",
              "      <td>2.042393</td>\n",
              "    </tr>\n",
              "    <tr>\n",
              "      <th>74084</th>\n",
              "      <td>28</td>\n",
              "      <td>Valley View Industries Metal Stakes (4-Pack)</td>\n",
              "      <td>anchor stakes</td>\n",
              "      <td>2.550288</td>\n",
              "    </tr>\n",
              "    <tr>\n",
              "      <th>74085</th>\n",
              "      <td>29</td>\n",
              "      <td>Valley View Industries Metal Stakes (4-Pack)</td>\n",
              "      <td>landscape edging</td>\n",
              "      <td>2.179634</td>\n",
              "    </tr>\n",
              "    <tr>\n",
              "      <th>74086</th>\n",
              "      <td>30</td>\n",
              "      <td>Valley View Industries Metal Stakes (4-Pack)</td>\n",
              "      <td>lawn edging</td>\n",
              "      <td>2.149136</td>\n",
              "    </tr>\n",
              "  </tbody>\n",
              "</table>\n",
              "</div>"
            ],
            "text/plain": [
              "       id  ... relevance\n",
              "74067   1  ...  1.780935\n",
              "74068   4  ...  1.849127\n",
              "74069   5  ...  2.270561\n",
              "74070   6  ...  2.704687\n",
              "74071   7  ...  2.470907\n",
              "74072   8  ...  2.154611\n",
              "74073  10  ...  2.432305\n",
              "74074  11  ...  2.603167\n",
              "74075  12  ...  1.932534\n",
              "74076  13  ...  2.724416\n",
              "74077  14  ...  2.638628\n",
              "74078  15  ...  2.457585\n",
              "74079  19  ...  2.447374\n",
              "74080  22  ...  2.327665\n",
              "74081  24  ...  2.521932\n",
              "74082  25  ...  2.243075\n",
              "74083  26  ...  2.042393\n",
              "74084  28  ...  2.550288\n",
              "74085  29  ...  2.179634\n",
              "74086  30  ...  2.149136\n",
              "\n",
              "[20 rows x 4 columns]"
            ]
          },
          "metadata": {
            "tags": []
          },
          "execution_count": 61
        }
      ]
    },
    {
      "cell_type": "markdown",
      "metadata": {
        "id": "JqVMv_JkWpjA"
      },
      "source": [
        "### **Linear Regression**\n",
        "\n",
        "* Why linear regression?\n",
        "Because it is probably one of the most important and widely used regression techniques. It’s among the simplest regression methods. One of its main advantages is the ease of interpreting results.\n"
      ]
    },
    {
      "cell_type": "code",
      "metadata": {
        "id": "eGoKIehwToMh"
      },
      "source": [
        "import numpy as np\n",
        "import pandas as pd\n",
        "from sklearn.linear_model import LinearRegression\n",
        "from sklearn.model_selection import train_test_split"
      ],
      "execution_count": null,
      "outputs": []
    },
    {
      "cell_type": "code",
      "metadata": {
        "id": "0pUsjCWC8wZ6"
      },
      "source": [
        "# Instance the linear regression model  \n",
        "linear_regression = LinearRegression()"
      ],
      "execution_count": null,
      "outputs": []
    },
    {
      "cell_type": "code",
      "metadata": {
        "colab": {
          "base_uri": "https://localhost:8080/"
        },
        "id": "6rx8X7Em80AZ",
        "outputId": "a6118325-860c-4b89-b474-1b0d5ee7478d"
      },
      "source": [
        "# Train the model\n",
        "linear_regression.fit(X_train, y_train)"
      ],
      "execution_count": null,
      "outputs": [
        {
          "output_type": "execute_result",
          "data": {
            "text/plain": [
              "LinearRegression(copy_X=True, fit_intercept=True, n_jobs=None, normalize=False)"
            ]
          },
          "metadata": {
            "tags": []
          },
          "execution_count": 64
        }
      ]
    },
    {
      "cell_type": "code",
      "metadata": {
        "colab": {
          "base_uri": "https://localhost:8080/"
        },
        "id": "3eKamR7uAUQJ",
        "outputId": "f0f7455b-07b8-4b41-93c5-c6b276a7fe00"
      },
      "source": [
        "# Root mean square error on model\n",
        "y_true_pred = linear_regression.predict(X_train)\n",
        "print ('Root Mean Square Error using linear Regressor: ' , np.sqrt(((y_train - y_true_pred) ** 2).mean()))"
      ],
      "execution_count": null,
      "outputs": [
        {
          "output_type": "stream",
          "text": [
            "Root Mean Square Error using linear Regressor:  0.48862857587876124\n"
          ],
          "name": "stdout"
        }
      ]
    },
    {
      "cell_type": "code",
      "metadata": {
        "colab": {
          "base_uri": "https://localhost:8080/"
        },
        "id": "T--Dzt8aXHcC",
        "outputId": "13fbe2cc-3b6e-4c66-92ab-3bd23b8f470a"
      },
      "source": [
        "# Predict X_test\n",
        "y_pred_linear = linear_regression.predict(X_test)\n",
        "X_test"
      ],
      "execution_count": null,
      "outputs": [
        {
          "output_type": "execute_result",
          "data": {
            "text/plain": [
              "array([[ 3,  0,  1, ..., 12, 29,  2],\n",
              "       [ 3,  1,  1, ...,  9, 33,  1],\n",
              "       [ 3,  1,  1, ..., 55, 31,  1],\n",
              "       ...,\n",
              "       [ 1,  1,  1, ...,  7,  0,  0],\n",
              "       [ 2,  2,  2, ..., 22, 80,  4],\n",
              "       [ 4,  3,  2, ..., 51, 67,  2]])"
            ]
          },
          "metadata": {
            "tags": []
          },
          "execution_count": 66
        }
      ]
    },
    {
      "cell_type": "code",
      "metadata": {
        "colab": {
          "base_uri": "https://localhost:8080/",
          "height": 622
        },
        "id": "dHYzrlmahPTQ",
        "outputId": "3b0df73a-fa20-4a85-b776-8666ca23372d"
      },
      "source": [
        "id_test = df_test['id']\n",
        "search_term_test = df_test['search_term']\n",
        "product_title_test = df_test['product_title']\n",
        "df_result_predictions_linear = pd.DataFrame({\"id\": id_test, \"product_title\": product_title_test, \"search_term\": search_term_test, \"relevance\": y_pred_linear})\n",
        "\n",
        "df_result_predictions_linear.head(20)"
      ],
      "execution_count": null,
      "outputs": [
        {
          "output_type": "execute_result",
          "data": {
            "text/html": [
              "<div>\n",
              "<style scoped>\n",
              "    .dataframe tbody tr th:only-of-type {\n",
              "        vertical-align: middle;\n",
              "    }\n",
              "\n",
              "    .dataframe tbody tr th {\n",
              "        vertical-align: top;\n",
              "    }\n",
              "\n",
              "    .dataframe thead th {\n",
              "        text-align: right;\n",
              "    }\n",
              "</style>\n",
              "<table border=\"1\" class=\"dataframe\">\n",
              "  <thead>\n",
              "    <tr style=\"text-align: right;\">\n",
              "      <th></th>\n",
              "      <th>id</th>\n",
              "      <th>product_title</th>\n",
              "      <th>search_term</th>\n",
              "      <th>relevance</th>\n",
              "    </tr>\n",
              "  </thead>\n",
              "  <tbody>\n",
              "    <tr>\n",
              "      <th>74067</th>\n",
              "      <td>1</td>\n",
              "      <td>Simpson Strong-Tie 12-Gauge Angle</td>\n",
              "      <td>90 degree bracket</td>\n",
              "      <td>1.874127</td>\n",
              "    </tr>\n",
              "    <tr>\n",
              "      <th>74068</th>\n",
              "      <td>4</td>\n",
              "      <td>Simpson Strong-Tie 12-Gauge Angle</td>\n",
              "      <td>metal l brackets</td>\n",
              "      <td>1.954611</td>\n",
              "    </tr>\n",
              "    <tr>\n",
              "      <th>74069</th>\n",
              "      <td>5</td>\n",
              "      <td>Simpson Strong-Tie 12-Gauge Angle</td>\n",
              "      <td>simpson sku able</td>\n",
              "      <td>2.293155</td>\n",
              "    </tr>\n",
              "    <tr>\n",
              "      <th>74070</th>\n",
              "      <td>6</td>\n",
              "      <td>Simpson Strong-Tie 12-Gauge Angle</td>\n",
              "      <td>simpson strong  ties</td>\n",
              "      <td>2.834865</td>\n",
              "    </tr>\n",
              "    <tr>\n",
              "      <th>74071</th>\n",
              "      <td>7</td>\n",
              "      <td>Simpson Strong-Tie 12-Gauge Angle</td>\n",
              "      <td>simpson strong tie hcc668</td>\n",
              "      <td>2.618354</td>\n",
              "    </tr>\n",
              "    <tr>\n",
              "      <th>74072</th>\n",
              "      <td>8</td>\n",
              "      <td>Simpson Strong-Tie 12-Gauge Angle</td>\n",
              "      <td>wood connectors</td>\n",
              "      <td>2.043191</td>\n",
              "    </tr>\n",
              "    <tr>\n",
              "      <th>74073</th>\n",
              "      <td>10</td>\n",
              "      <td>STERLING Ensemble 33-1/4 in. x 60 in. x 75-1/4 in. Bath and Shower Kit with Right-Hand Drain in ...</td>\n",
              "      <td>bath and shower kit</td>\n",
              "      <td>2.411992</td>\n",
              "    </tr>\n",
              "    <tr>\n",
              "      <th>74074</th>\n",
              "      <td>11</td>\n",
              "      <td>STERLING Ensemble 33-1/4 in. x 60 in. x 75-1/4 in. Bath and Shower Kit with Right-Hand Drain in ...</td>\n",
              "      <td>bath drain kit</td>\n",
              "      <td>2.417653</td>\n",
              "    </tr>\n",
              "    <tr>\n",
              "      <th>74075</th>\n",
              "      <td>12</td>\n",
              "      <td>STERLING Ensemble 33-1/4 in. x 60 in. x 75-1/4 in. Bath and Shower Kit with Right-Hand Drain in ...</td>\n",
              "      <td>one piece tub shower</td>\n",
              "      <td>1.931799</td>\n",
              "    </tr>\n",
              "    <tr>\n",
              "      <th>74076</th>\n",
              "      <td>13</td>\n",
              "      <td>Grape Solar 265-Watt Polycrystalline Solar Panel (4-Pack)</td>\n",
              "      <td>solar panel</td>\n",
              "      <td>2.656223</td>\n",
              "    </tr>\n",
              "    <tr>\n",
              "      <th>74077</th>\n",
              "      <td>14</td>\n",
              "      <td>Delta Vero 1-Handle Shower Only Faucet Trim Kit in Chrome (Valve Not Included)</td>\n",
              "      <td>1 handle shower delta trim kit</td>\n",
              "      <td>2.893747</td>\n",
              "    </tr>\n",
              "    <tr>\n",
              "      <th>74078</th>\n",
              "      <td>15</td>\n",
              "      <td>Delta Vero 1-Handle Shower Only Faucet Trim Kit in Chrome (Valve Not Included)</td>\n",
              "      <td>delta ashland shower faucet</td>\n",
              "      <td>2.580609</td>\n",
              "    </tr>\n",
              "    <tr>\n",
              "      <th>74079</th>\n",
              "      <td>19</td>\n",
              "      <td>Whirlpool 1.9 cu. ft. Over the Range Convection Microwave in Stainless Steel with Sensor Cooking</td>\n",
              "      <td>cooking stove</td>\n",
              "      <td>2.322065</td>\n",
              "    </tr>\n",
              "    <tr>\n",
              "      <th>74080</th>\n",
              "      <td>22</td>\n",
              "      <td>Whirlpool 1.9 cu. ft. Over the Range Convection Microwave in Stainless Steel with Sensor Cooking</td>\n",
              "      <td>microwaves over range</td>\n",
              "      <td>2.447172</td>\n",
              "    </tr>\n",
              "    <tr>\n",
              "      <th>74081</th>\n",
              "      <td>24</td>\n",
              "      <td>Teks #10 1-1/2 in. External Hex Flange Hex-Head Self-Drilling Screws (90-Pack)</td>\n",
              "      <td>self tapping screws</td>\n",
              "      <td>2.480958</td>\n",
              "    </tr>\n",
              "    <tr>\n",
              "      <th>74082</th>\n",
              "      <td>25</td>\n",
              "      <td>House of Fara 3/4 in. x 3 in. x 8 ft. MDF Fluted Casing</td>\n",
              "      <td>3 1/20door casing</td>\n",
              "      <td>2.328658</td>\n",
              "    </tr>\n",
              "    <tr>\n",
              "      <th>74083</th>\n",
              "      <td>26</td>\n",
              "      <td>House of Fara 3/4 in. x 3 in. x 8 ft. MDF Fluted Casing</td>\n",
              "      <td>door trim</td>\n",
              "      <td>1.967131</td>\n",
              "    </tr>\n",
              "    <tr>\n",
              "      <th>74084</th>\n",
              "      <td>28</td>\n",
              "      <td>Valley View Industries Metal Stakes (4-Pack)</td>\n",
              "      <td>anchor stakes</td>\n",
              "      <td>2.410120</td>\n",
              "    </tr>\n",
              "    <tr>\n",
              "      <th>74085</th>\n",
              "      <td>29</td>\n",
              "      <td>Valley View Industries Metal Stakes (4-Pack)</td>\n",
              "      <td>landscape edging</td>\n",
              "      <td>2.087354</td>\n",
              "    </tr>\n",
              "    <tr>\n",
              "      <th>74086</th>\n",
              "      <td>30</td>\n",
              "      <td>Valley View Industries Metal Stakes (4-Pack)</td>\n",
              "      <td>lawn edging</td>\n",
              "      <td>2.166130</td>\n",
              "    </tr>\n",
              "  </tbody>\n",
              "</table>\n",
              "</div>"
            ],
            "text/plain": [
              "       id  ... relevance\n",
              "74067   1  ...  1.874127\n",
              "74068   4  ...  1.954611\n",
              "74069   5  ...  2.293155\n",
              "74070   6  ...  2.834865\n",
              "74071   7  ...  2.618354\n",
              "74072   8  ...  2.043191\n",
              "74073  10  ...  2.411992\n",
              "74074  11  ...  2.417653\n",
              "74075  12  ...  1.931799\n",
              "74076  13  ...  2.656223\n",
              "74077  14  ...  2.893747\n",
              "74078  15  ...  2.580609\n",
              "74079  19  ...  2.322065\n",
              "74080  22  ...  2.447172\n",
              "74081  24  ...  2.480958\n",
              "74082  25  ...  2.328658\n",
              "74083  26  ...  1.967131\n",
              "74084  28  ...  2.410120\n",
              "74085  29  ...  2.087354\n",
              "74086  30  ...  2.166130\n",
              "\n",
              "[20 rows x 4 columns]"
            ]
          },
          "metadata": {
            "tags": []
          },
          "execution_count": 67
        }
      ]
    },
    {
      "cell_type": "markdown",
      "metadata": {
        "id": "K9ebbMM5wnZf"
      },
      "source": [
        "\n",
        "\n",
        "### **Save model**\n",
        "\n",
        "The last steps are to save, load, and test the data as a user and see all models' behavior. We define two functions for those approaches. They are using the pickle library to execute these processes."
      ]
    },
    {
      "cell_type": "code",
      "metadata": {
        "id": "Uz0oiCoCA-p8"
      },
      "source": [
        "def save_model(file_name, model):\n",
        "  \"\"\"\n",
        "  Save learning models as File\n",
        "  \"\"\"\n",
        "  pickle.dump(model, open(file_name, 'wb'))"
      ],
      "execution_count": null,
      "outputs": []
    },
    {
      "cell_type": "code",
      "metadata": {
        "id": "8oOxXHTSwqdS"
      },
      "source": [
        "linear_model_file_name = 'linear_regressor_model.sav'\n",
        "grid_search_cv_clf_file_name = 'grid_search_cv_clf.sav'\n",
        "xgboost_regressor_file_name = 'xgboost_regressor.sav' \n",
        "bagging_classifier_file_name = 'bagging_classifier.sav'"
      ],
      "execution_count": null,
      "outputs": []
    },
    {
      "cell_type": "code",
      "metadata": {
        "id": "ZLSxylTnw499"
      },
      "source": [
        "# Save Linear regression model\n",
        "save_model(linear_model_file_name, linear_regression)\n",
        "\n",
        "# Save XGboost model\n",
        "save_model(xgboost_regressor_file_name, xgboost_regressor)\n",
        "\n",
        "# Save XGboost model with GridSearch\n",
        "save_model(grid_search_cv_clf_file_name, grid_search_cv_clf)\n",
        "\n",
        "# Save Random Forest Regressor and Bagging regressor classifier\n",
        "save_model(bagging_classifier_file_name, bagging_classifier)"
      ],
      "execution_count": null,
      "outputs": []
    },
    {
      "cell_type": "markdown",
      "metadata": {
        "id": "maRaM_4exMtb"
      },
      "source": [
        "### **Load Model**"
      ]
    },
    {
      "cell_type": "code",
      "metadata": {
        "id": "Bqvnp61FBX3m"
      },
      "source": [
        "def load_model(file_name):\n",
        "  \"\"\"\n",
        "    Load a model in memory\n",
        "  \"\"\"\n",
        "  return pickle.load(open(file_name, 'rb'))"
      ],
      "execution_count": null,
      "outputs": []
    },
    {
      "cell_type": "code",
      "metadata": {
        "colab": {
          "base_uri": "https://localhost:8080/"
        },
        "id": "9rlNOsXTxQLt",
        "outputId": "4e520a4a-ba6b-4dde-e64a-0a2530f862ed"
      },
      "source": [
        "# Load Linear regression model\n",
        "load_lr_model = load_model(linear_model_file_name)\n",
        "\n",
        "# Load XGboost model with GridSearch\n",
        "grid_search_model = load_model(grid_search_cv_clf_file_name)\n",
        "\n",
        "# Load XGboost model\n",
        "xgboost_regressor_model = load_model(xgboost_regressor_file_name)\n",
        "\n",
        "# Load Random Forest Regressor and Bagging regressor classifier\n",
        "bagging_classifier_model = load_model(bagging_classifier_file_name)"
      ],
      "execution_count": null,
      "outputs": [
        {
          "output_type": "stream",
          "text": [
            "[17:02:01] WARNING: /workspace/src/objective/regression_obj.cu:152: reg:linear is now deprecated in favor of reg:squarederror.\n"
          ],
          "name": "stdout"
        }
      ]
    },
    {
      "cell_type": "code",
      "metadata": {
        "colab": {
          "base_uri": "https://localhost:8080/"
        },
        "id": "IIC0nZD6xYwP",
        "outputId": "b59772eb-2b73-40c9-b888-d326c9d0b4ce"
      },
      "source": [
        "load_lr_model.coef_"
      ],
      "execution_count": null,
      "outputs": [
        {
          "output_type": "execute_result",
          "data": {
            "text/plain": [
              "array([-0.12436798,  0.08817987,  0.07668173,  0.0039822 ,  0.00503852,\n",
              "        0.00037362, -0.00592481])"
            ]
          },
          "metadata": {
            "tags": []
          },
          "execution_count": 73
        }
      ]
    },
    {
      "cell_type": "code",
      "metadata": {
        "id": "506BcSEvxeYq"
      },
      "source": [
        "prediction = load_lr_model.predict(X_test)"
      ],
      "execution_count": null,
      "outputs": []
    },
    {
      "cell_type": "markdown",
      "metadata": {
        "id": "Yylbdoac6Ua6"
      },
      "source": [
        "### **Test model with only one search term**"
      ]
    },
    {
      "cell_type": "code",
      "metadata": {
        "id": "d6p1mqOm9frr"
      },
      "source": [
        "products = data_merged[['product_title_cleaned', 'product_description_cleaned']]"
      ],
      "execution_count": null,
      "outputs": []
    },
    {
      "cell_type": "code",
      "metadata": {
        "id": "hxvgI2qoeNQA"
      },
      "source": [
        "# Remove data duplicated, we only need one record per product\n",
        "products = products.drop_duplicates(subset=['product_title_cleaned'])[['product_title_cleaned','product_description_cleaned']]\n",
        "products = products[:10000]"
      ],
      "execution_count": null,
      "outputs": []
    },
    {
      "cell_type": "code",
      "metadata": {
        "id": "IoNRYwLN6V3A"
      },
      "source": [
        "def add_features(data_frame):\n",
        "  \"\"\"\n",
        "    Function to add features on search terms.\n",
        "    It prepares the data to predict relevance value with the models\n",
        "  \"\"\"\n",
        "  create_search_term_cleaned(data_frame)\n",
        "  create_search_term_length(data_frame)\n",
        "  create_hits_words_in_title(data_frame)\n",
        "  create_hits_words_in_description(data_frame)\n",
        "  create_ratio_in_title(data_frame)\n",
        "  create_ratio_in_description(data_frame)"
      ],
      "execution_count": null,
      "outputs": []
    },
    {
      "cell_type": "code",
      "metadata": {
        "id": "yH_2Fr8RfeDR"
      },
      "source": [
        "products['search_term'] = 'simpson strong tie'\n",
        "#products['search_term'] ='leviton socket outlet white'\n",
        "#products['search_term'] = 'soap dispenser'\n",
        "#products['search_term'] = 'hex socket'\n"
      ],
      "execution_count": null,
      "outputs": []
    },
    {
      "cell_type": "code",
      "metadata": {
        "id": "mqrg2-k_fo9m"
      },
      "source": [
        "add_features(products)"
      ],
      "execution_count": null,
      "outputs": []
    },
    {
      "cell_type": "code",
      "metadata": {
        "id": "m1aI7rQcgAty"
      },
      "source": [
        "data_to_predict_2 = products[[w for w in list(products.columns) if w not in columns_to_remove]].values\n",
        "\n",
        "# Predict with Liner regression\n",
        "prediction_2 = load_lr_model.predict(data_to_predict_2)\n",
        "\n",
        "# Predict with XGboost\n",
        "prediction_3 = xgboost_regressor_model.predict(products[columns_to_train])\n",
        "\n",
        "# Predict with XGboost created with GridSearch\n",
        "prediction_4 = grid_search_model.predict(products[columns_to_train])\n",
        "\n",
        "# Predict with bagging classifier\n",
        "prediction_5 = bagging_classifier_model.predict(products[columns_to_train])"
      ],
      "execution_count": null,
      "outputs": []
    },
    {
      "cell_type": "code",
      "metadata": {
        "id": "lDh1Xt3_gjch"
      },
      "source": [
        "# Group all predictions\n",
        "search_term_test = products['search_term']\n",
        "product_title_test = products['product_title_cleaned']\n",
        "product_descriptiob_test = products['product_description_cleaned']\n",
        "\n",
        "test_predictions = pd.DataFrame({\"product_title\": product_title_test, \n",
        "                                        \"product_description\": product_descriptiob_test,\n",
        "                                        \"search_term\": search_term_test, \n",
        "                                        \"relevance_lr\": prediction_2,\n",
        "                                        \"relevance_xboost\": prediction_3,\n",
        "                                        \"relevance_grid\": prediction_4,\n",
        "                                        \"relevance_bagging\": prediction_5})"
      ],
      "execution_count": null,
      "outputs": []
    },
    {
      "cell_type": "code",
      "metadata": {
        "colab": {
          "base_uri": "https://localhost:8080/",
          "height": 497
        },
        "id": "HWiEcXGpNJ80",
        "outputId": "f391cfb6-5073-48ce-a948-b1f33ac717a5"
      },
      "source": [
        "# Print out the top 10 relevance products\n",
        "test_predictions.nlargest(10, 'relevance_lr')"
      ],
      "execution_count": null,
      "outputs": [
        {
          "output_type": "execute_result",
          "data": {
            "text/html": [
              "<div>\n",
              "<style scoped>\n",
              "    .dataframe tbody tr th:only-of-type {\n",
              "        vertical-align: middle;\n",
              "    }\n",
              "\n",
              "    .dataframe tbody tr th {\n",
              "        vertical-align: top;\n",
              "    }\n",
              "\n",
              "    .dataframe thead th {\n",
              "        text-align: right;\n",
              "    }\n",
              "</style>\n",
              "<table border=\"1\" class=\"dataframe\">\n",
              "  <thead>\n",
              "    <tr style=\"text-align: right;\">\n",
              "      <th></th>\n",
              "      <th>product_title</th>\n",
              "      <th>product_description</th>\n",
              "      <th>search_term</th>\n",
              "      <th>relevance_lr</th>\n",
              "      <th>relevance_xboost</th>\n",
              "      <th>relevance_grid</th>\n",
              "      <th>relevance_bagging</th>\n",
              "    </tr>\n",
              "  </thead>\n",
              "  <tbody>\n",
              "    <tr>\n",
              "      <th>0</th>\n",
              "      <td>simpson strongtie 12gauge angle</td>\n",
              "      <td>angle make joint stronger also provide consistent straight corner simpson strongtie offer wide v...</td>\n",
              "      <td>simpson strong tie 318</td>\n",
              "      <td>2.716655</td>\n",
              "      <td>2.529765</td>\n",
              "      <td>2.544452</td>\n",
              "      <td>2.491073</td>\n",
              "    </tr>\n",
              "    <tr>\n",
              "      <th>2380</th>\n",
              "      <td>simpson strongtie 2 12gauge pipe grip tie</td>\n",
              "      <td>simpson strongtie pipegrip tie make easy attach wood fence rail metal fence post galvanized fenc...</td>\n",
              "      <td>simpson strong tie 318</td>\n",
              "      <td>2.683264</td>\n",
              "      <td>2.487126</td>\n",
              "      <td>2.520319</td>\n",
              "      <td>2.489398</td>\n",
              "    </tr>\n",
              "    <tr>\n",
              "      <th>968</th>\n",
              "      <td>simpson strongtie 18gauge galvanized steel angle</td>\n",
              "      <td>angle make joint stronger also provide consistent straight corner simpson strongtie offer wide v...</td>\n",
              "      <td>simpson strong tie 318</td>\n",
              "      <td>2.653195</td>\n",
              "      <td>2.589876</td>\n",
              "      <td>2.601775</td>\n",
              "      <td>2.599327</td>\n",
              "    </tr>\n",
              "    <tr>\n",
              "      <th>4108</th>\n",
              "      <td>simpson strongtie 16gauge concrete form angle</td>\n",
              "      <td>simpson strongtie connector make project easier build making stronger safer engineered tested pe...</td>\n",
              "      <td>simpson strong tie 318</td>\n",
              "      <td>2.653033</td>\n",
              "      <td>2.475182</td>\n",
              "      <td>2.504985</td>\n",
              "      <td>2.487821</td>\n",
              "    </tr>\n",
              "    <tr>\n",
              "      <th>9237</th>\n",
              "      <td>simpson strongtie 14 x 112 strongdrive wood screw 50pack</td>\n",
              "      <td>simpson strongtie offer wide range fastener focused need professional builder mean focus feature...</td>\n",
              "      <td>simpson strong tie 318</td>\n",
              "      <td>2.622801</td>\n",
              "      <td>2.461518</td>\n",
              "      <td>2.491321</td>\n",
              "      <td>2.485436</td>\n",
              "    </tr>\n",
              "    <tr>\n",
              "      <th>14653</th>\n",
              "      <td>simpson strongtie 24 insulation support 100qty</td>\n",
              "      <td>keep insulation firmly place simpson strongtie insulation support insulation support cut carbon ...</td>\n",
              "      <td>simpson strong tie 318</td>\n",
              "      <td>2.610822</td>\n",
              "      <td>2.398440</td>\n",
              "      <td>2.406619</td>\n",
              "      <td>2.458024</td>\n",
              "    </tr>\n",
              "    <tr>\n",
              "      <th>18223</th>\n",
              "      <td>simpson strongtie zmax galvanized 18gauge hurricane tie</td>\n",
              "      <td>joist hanger designed provide support underneath joist rafter beam provide strong connection sim...</td>\n",
              "      <td>simpson strong tie 318</td>\n",
              "      <td>2.607278</td>\n",
              "      <td>2.418254</td>\n",
              "      <td>2.430152</td>\n",
              "      <td>2.461516</td>\n",
              "    </tr>\n",
              "    <tr>\n",
              "      <th>17852</th>\n",
              "      <td>simpson strongtie zmax 2 12gauge galvanized pipe grip tie</td>\n",
              "      <td>simpson strongtie pipegrip tie make easy attach wood fence rail metal fence post galvanized fenc...</td>\n",
              "      <td>simpson strong tie 318</td>\n",
              "      <td>2.606873</td>\n",
              "      <td>2.461518</td>\n",
              "      <td>2.491321</td>\n",
              "      <td>2.472380</td>\n",
              "    </tr>\n",
              "    <tr>\n",
              "      <th>3381</th>\n",
              "      <td>simpson strongtie cb 6x6 galvanized column base</td>\n",
              "      <td>simpson strongtie connector make project easier build making stronger safer engineered tested pe...</td>\n",
              "      <td>simpson strong tie 318</td>\n",
              "      <td>2.605986</td>\n",
              "      <td>2.443170</td>\n",
              "      <td>2.471741</td>\n",
              "      <td>2.467556</td>\n",
              "    </tr>\n",
              "    <tr>\n",
              "      <th>16284</th>\n",
              "      <td>simpson strongtie 12gauge black powdercoated ez spike</td>\n",
              "      <td>replacing entire fence expensive difficult task easy get fence back shape home back looking best...</td>\n",
              "      <td>simpson strong tie 318</td>\n",
              "      <td>2.605615</td>\n",
              "      <td>2.438008</td>\n",
              "      <td>2.445867</td>\n",
              "      <td>2.470038</td>\n",
              "    </tr>\n",
              "  </tbody>\n",
              "</table>\n",
              "</div>"
            ],
            "text/plain": [
              "                                                   product_title  ... relevance_bagging\n",
              "0                                simpson strongtie 12gauge angle  ...          2.491073\n",
              "2380                   simpson strongtie 2 12gauge pipe grip tie  ...          2.489398\n",
              "968             simpson strongtie 18gauge galvanized steel angle  ...          2.599327\n",
              "4108               simpson strongtie 16gauge concrete form angle  ...          2.487821\n",
              "9237    simpson strongtie 14 x 112 strongdrive wood screw 50pack  ...          2.485436\n",
              "14653             simpson strongtie 24 insulation support 100qty  ...          2.458024\n",
              "18223    simpson strongtie zmax galvanized 18gauge hurricane tie  ...          2.461516\n",
              "17852  simpson strongtie zmax 2 12gauge galvanized pipe grip tie  ...          2.472380\n",
              "3381             simpson strongtie cb 6x6 galvanized column base  ...          2.467556\n",
              "16284      simpson strongtie 12gauge black powdercoated ez spike  ...          2.470038\n",
              "\n",
              "[10 rows x 7 columns]"
            ]
          },
          "metadata": {
            "tags": []
          },
          "execution_count": 187
        }
      ]
    },
    {
      "cell_type": "code",
      "metadata": {
        "id": "pRwSV5q76bMD"
      },
      "source": [
        ""
      ],
      "execution_count": null,
      "outputs": []
    }
  ]
}